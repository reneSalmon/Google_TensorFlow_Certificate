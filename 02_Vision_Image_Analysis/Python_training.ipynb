{
 "cells": [
  {
   "cell_type": "code",
   "execution_count": 1,
   "id": "1aec6b32",
   "metadata": {},
   "outputs": [],
   "source": [
    "def word(s):\n",
    "    return \"zero one two three four five six seven eight nine\".split(\" \").index(s)\n"
   ]
  },
  {
   "cell_type": "code",
   "execution_count": 8,
   "id": "ee969d93",
   "metadata": {},
   "outputs": [],
   "source": [
    "split = \"zero one two three four five six seven eight nine\".split()"
   ]
  },
  {
   "cell_type": "code",
   "execution_count": 9,
   "id": "296a2711",
   "metadata": {},
   "outputs": [
    {
     "data": {
      "text/plain": [
       "['zero',\n",
       " 'one',\n",
       " 'two',\n",
       " 'three',\n",
       " 'four',\n",
       " 'five',\n",
       " 'six',\n",
       " 'seven',\n",
       " 'eight',\n",
       " 'nine']"
      ]
     },
     "execution_count": 9,
     "metadata": {},
     "output_type": "execute_result"
    }
   ],
   "source": [
    "split #Split creates a list which seperates every word in the string"
   ]
  },
  {
   "cell_type": "code",
   "execution_count": 12,
   "id": "927477d5",
   "metadata": {},
   "outputs": [
    {
     "data": {
      "text/plain": [
       "5"
      ]
     },
     "execution_count": 12,
     "metadata": {},
     "output_type": "execute_result"
    }
   ],
   "source": [
    "split.index(\"five\") #Index shows me the position where the string is saved"
   ]
  },
  {
   "cell_type": "code",
   "execution_count": 13,
   "id": "c8bf3c0f",
   "metadata": {},
   "outputs": [],
   "source": [
    "def tri_area(a, b):\n",
    "    return (a*b)/2\n"
   ]
  },
  {
   "cell_type": "code",
   "execution_count": 14,
   "id": "117d6f20",
   "metadata": {},
   "outputs": [
    {
     "data": {
      "text/plain": [
       "50.0"
      ]
     },
     "execution_count": 14,
     "metadata": {},
     "output_type": "execute_result"
    }
   ],
   "source": [
    "tri_area(10,10)"
   ]
  },
  {
   "cell_type": "code",
   "execution_count": 20,
   "id": "ab26f99d",
   "metadata": {},
   "outputs": [],
   "source": [
    "def stutter(word):\n",
    "    return (f\"{word[:2]}... {word[:2]}... {word}?\")"
   ]
  },
  {
   "cell_type": "code",
   "execution_count": 21,
   "id": "2d136792",
   "metadata": {},
   "outputs": [
    {
     "data": {
      "text/plain": [
       "'in... in... increasing?'"
      ]
     },
     "execution_count": 21,
     "metadata": {},
     "output_type": "execute_result"
    }
   ],
   "source": [
    "stutter(\"increasing\")"
   ]
  },
  {
   "cell_type": "code",
   "execution_count": 69,
   "id": "00a974aa",
   "metadata": {},
   "outputs": [],
   "source": [
    "def count(deck):\n",
    "    one_list = [2,3,4,5,6]\n",
    "    minus_one_list = [10, \"J\", \"Q\",\"K\",\"A\"]\n",
    "    \n",
    "    return sum([1 if card in one_list else -1 if card in minus_one_list else 0 for card in deck])\n",
    "   "
   ]
  },
  {
   "cell_type": "code",
   "execution_count": 70,
   "id": "41a29f6b",
   "metadata": {},
   "outputs": [
    {
     "data": {
      "text/plain": [
       "1"
      ]
     },
     "execution_count": 70,
     "metadata": {},
     "output_type": "execute_result"
    }
   ],
   "source": [
    "count([5, 9, 10, 3, \"J\", \"A\", 4, 8, 5])"
   ]
  },
  {
   "cell_type": "code",
   "execution_count": 72,
   "id": "03379c4a",
   "metadata": {},
   "outputs": [
    {
     "data": {
      "text/plain": [
       "-4"
      ]
     },
     "execution_count": 72,
     "metadata": {},
     "output_type": "execute_result"
    }
   ],
   "source": [
    "count([5, \"A\", \"K\", \"Q\", \"Q\", \"J\"])"
   ]
  },
  {
   "cell_type": "code",
   "execution_count": 63,
   "id": "b673df60",
   "metadata": {},
   "outputs": [
    {
     "data": {
      "text/plain": [
       "5"
      ]
     },
     "execution_count": 63,
     "metadata": {},
     "output_type": "execute_result"
    }
   ],
   "source": [
    "count([\"A\", 5, 5, 2, 6, 2, 3, 8, 9, 7])"
   ]
  },
  {
   "cell_type": "code",
   "execution_count": 66,
   "id": "056483d3",
   "metadata": {},
   "outputs": [],
   "source": [
    "def count(deck):\n",
    "    return sum([1 if str(card) in '23456' else -1 if str(card) in '10JQKA' else 0 for card in deck])"
   ]
  },
  {
   "cell_type": "code",
   "execution_count": 67,
   "id": "00b88bb4",
   "metadata": {},
   "outputs": [
    {
     "data": {
      "text/plain": [
       "5"
      ]
     },
     "execution_count": 67,
     "metadata": {},
     "output_type": "execute_result"
    }
   ],
   "source": [
    "count([\"A\", 5, 5, 2, 6, 2, 3, 8, 9, 7])"
   ]
  },
  {
   "cell_type": "code",
   "execution_count": 68,
   "id": "b000a26d",
   "metadata": {},
   "outputs": [
    {
     "data": {
      "text/plain": [
       "-6"
      ]
     },
     "execution_count": 68,
     "metadata": {},
     "output_type": "execute_result"
    }
   ],
   "source": [
    "count([\"A\", \"A\", \"K\", \"Q\", \"Q\", \"J\"])"
   ]
  },
  {
   "cell_type": "code",
   "execution_count": 82,
   "id": "9841cfde",
   "metadata": {},
   "outputs": [],
   "source": [
    "def relation_to_luke(name):\n",
    "    dic = {\"Darth Vader\": \"father\", \"Leia\": \"sister\", \"Han\": \"brother in law\", \"R2D2\": \"droid\"}\n",
    "    print(f'\"Luke, I am your {dic[name]}.\"')\n",
    "    "
   ]
  },
  {
   "cell_type": "code",
   "execution_count": 83,
   "id": "1f114c28",
   "metadata": {},
   "outputs": [
    {
     "name": "stdout",
     "output_type": "stream",
     "text": [
      "\"Luke, I am your father.\"\n"
     ]
    }
   ],
   "source": [
    "relation_to_luke(\"Darth Vader\")"
   ]
  },
  {
   "cell_type": "code",
   "execution_count": 111,
   "id": "e0f20e8d",
   "metadata": {},
   "outputs": [],
   "source": [
    "def return_only_integer(lst):\n",
    "    return [int(x) for x in lst if type(x) == int]"
   ]
  },
  {
   "cell_type": "code",
   "execution_count": 112,
   "id": "8a106276",
   "metadata": {},
   "outputs": [
    {
     "data": {
      "text/plain": [
       "[9, 2, 16]"
      ]
     },
     "execution_count": 112,
     "metadata": {},
     "output_type": "execute_result"
    }
   ],
   "source": [
    "return_only_integer([9, 2, \"space\", \"car\", \"lion\", 16])"
   ]
  },
  {
   "cell_type": "code",
   "execution_count": 142,
   "id": "2e7f8c60",
   "metadata": {},
   "outputs": [],
   "source": [
    "def return_unique(lst):\n",
    "    return [x for x in lst if lst.count(x) == 1]"
   ]
  },
  {
   "cell_type": "code",
   "execution_count": 143,
   "id": "c496a1e6",
   "metadata": {},
   "outputs": [
    {
     "data": {
      "text/plain": [
       "[9, 7]"
      ]
     },
     "execution_count": 143,
     "metadata": {},
     "output_type": "execute_result"
    }
   ],
   "source": [
    "return_unique([1, 9, 8, 8, 7, 6, 1, 6])"
   ]
  },
  {
   "cell_type": "code",
   "execution_count": 144,
   "id": "69cd84f0",
   "metadata": {},
   "outputs": [],
   "source": [
    "def end_corona(recovers, new_cases, active_cases):\n",
    "    a = active_cases\n",
    "    days = 0 \n",
    "    while a>1:\n",
    "        a = a + (new_cases - recovers)\n",
    "        days +=1\n",
    "    return days       \n",
    "        "
   ]
  },
  {
   "cell_type": "code",
   "execution_count": 141,
   "id": "bf93c661",
   "metadata": {},
   "outputs": [
    {
     "data": {
      "text/plain": [
       "51"
      ]
     },
     "execution_count": 141,
     "metadata": {},
     "output_type": "execute_result"
    }
   ],
   "source": [
    "end_corona(3000, 2000, 50699)"
   ]
  },
  {
   "cell_type": "code",
   "execution_count": 48,
   "id": "53380c49",
   "metadata": {},
   "outputs": [],
   "source": [
    "def print_all_groups():\n",
    "    groups =[\"a\", \"b\", \"c\", \"d\", \"e\"]\n",
    "    new_list = []\n",
    "    \n",
    "    \n",
    "    for year in range(6):\n",
    "        #new_list.append(str(year+1)\n",
    "        new_list = [x for x in groups(year)]\n",
    "        return new_list"
   ]
  },
  {
   "cell_type": "code",
   "execution_count": 49,
   "id": "30f99fb4",
   "metadata": {},
   "outputs": [
    {
     "ename": "TypeError",
     "evalue": "'list' object is not callable",
     "output_type": "error",
     "traceback": [
      "\u001b[0;31m---------------------------------------------------------------------------\u001b[0m",
      "\u001b[0;31mTypeError\u001b[0m                                 Traceback (most recent call last)",
      "\u001b[0;32m/var/folders/2d/wwtz9jl52lx4gtzgs_r0x7rr0000gn/T/ipykernel_99102/1008680609.py\u001b[0m in \u001b[0;36m<module>\u001b[0;34m\u001b[0m\n\u001b[0;32m----> 1\u001b[0;31m \u001b[0mprint_all_groups\u001b[0m\u001b[0;34m(\u001b[0m\u001b[0;34m)\u001b[0m\u001b[0;34m\u001b[0m\u001b[0;34m\u001b[0m\u001b[0m\n\u001b[0m",
      "\u001b[0;32m/var/folders/2d/wwtz9jl52lx4gtzgs_r0x7rr0000gn/T/ipykernel_99102/1501233645.py\u001b[0m in \u001b[0;36mprint_all_groups\u001b[0;34m()\u001b[0m\n\u001b[1;32m      6\u001b[0m     \u001b[0;32mfor\u001b[0m \u001b[0myear\u001b[0m \u001b[0;32min\u001b[0m \u001b[0mrange\u001b[0m\u001b[0;34m(\u001b[0m\u001b[0;36m6\u001b[0m\u001b[0;34m)\u001b[0m\u001b[0;34m:\u001b[0m\u001b[0;34m\u001b[0m\u001b[0;34m\u001b[0m\u001b[0m\n\u001b[1;32m      7\u001b[0m         \u001b[0;31m#new_list.append(str(year+1)\u001b[0m\u001b[0;34m\u001b[0m\u001b[0;34m\u001b[0m\u001b[0;34m\u001b[0m\u001b[0m\n\u001b[0;32m----> 8\u001b[0;31m         \u001b[0mnew_list\u001b[0m \u001b[0;34m=\u001b[0m \u001b[0;34m[\u001b[0m\u001b[0mx\u001b[0m \u001b[0;32mfor\u001b[0m \u001b[0mx\u001b[0m \u001b[0;32min\u001b[0m \u001b[0mgroups\u001b[0m\u001b[0;34m(\u001b[0m\u001b[0myear\u001b[0m\u001b[0;34m)\u001b[0m\u001b[0;34m]\u001b[0m\u001b[0;34m\u001b[0m\u001b[0;34m\u001b[0m\u001b[0m\n\u001b[0m\u001b[1;32m      9\u001b[0m         \u001b[0;32mreturn\u001b[0m \u001b[0mnew_list\u001b[0m\u001b[0;34m\u001b[0m\u001b[0;34m\u001b[0m\u001b[0m\n",
      "\u001b[0;31mTypeError\u001b[0m: 'list' object is not callable"
     ]
    }
   ],
   "source": [
    "print_all_groups()"
   ]
  },
  {
   "cell_type": "raw",
   "id": "6ab3d0fd",
   "metadata": {},
   "source": []
  },
  {
   "cell_type": "raw",
   "id": "24f275bb",
   "metadata": {},
   "source": [
    "for year in range(6):\n",
    "    print(year+1)"
   ]
  },
  {
   "cell_type": "code",
   "execution_count": 15,
   "id": "6d03016a",
   "metadata": {},
   "outputs": [
    {
     "name": "stdout",
     "output_type": "stream",
     "text": [
      "[1]\n",
      "[1, 2]\n",
      "[1, 2, 3]\n",
      "[1, 2, 3, 4]\n",
      "[1, 2, 3, 4, 5]\n",
      "[1, 2, 3, 4, 5, 6]\n"
     ]
    }
   ],
   "source": [
    "new_list = []\n",
    "    \n",
    "for year in range(6):\n",
    "    new_list.append(year+1)\n",
    "    print(new_list)"
   ]
  },
  {
   "cell_type": "code",
   "execution_count": 52,
   "id": "2cff18ef",
   "metadata": {},
   "outputs": [],
   "source": [
    "def print_all_groups():\n",
    "    groups =[\"a\", \"b\", \"c\", \"d\", \"e\"]\n",
    "    new_list = []\n",
    "    for i in range(1,7):\n",
    "        for x in groups:\n",
    "            new_list.append(str(i)+x)\n",
    "    return ', '.join(new_list)"
   ]
  },
  {
   "cell_type": "code",
   "execution_count": 53,
   "id": "cd4b9fff",
   "metadata": {},
   "outputs": [
    {
     "data": {
      "text/plain": [
       "'1a, 1b, 1c, 1d, 1e, 2a, 2b, 2c, 2d, 2e, 3a, 3b, 3c, 3d, 3e, 4a, 4b, 4c, 4d, 4e, 5a, 5b, 5c, 5d, 5e, 6a, 6b, 6c, 6d, 6e'"
      ]
     },
     "execution_count": 53,
     "metadata": {},
     "output_type": "execute_result"
    }
   ],
   "source": [
    "print_all_groups()"
   ]
  },
  {
   "cell_type": "code",
   "execution_count": 54,
   "id": "5009677e",
   "metadata": {},
   "outputs": [],
   "source": [
    "def print_all_groups():\n",
    "    return ', '.join([str(year)+group for year in range(1,7) for group in 'abcde'])"
   ]
  },
  {
   "cell_type": "code",
   "execution_count": 55,
   "id": "6eee47d4",
   "metadata": {},
   "outputs": [
    {
     "data": {
      "text/plain": [
       "'1a, 1b, 1c, 1d, 1e, 2a, 2b, 2c, 2d, 2e, 3a, 3b, 3c, 3d, 3e, 4a, 4b, 4c, 4d, 4e, 5a, 5b, 5c, 5d, 5e, 6a, 6b, 6c, 6d, 6e'"
      ]
     },
     "execution_count": 55,
     "metadata": {},
     "output_type": "execute_result"
    }
   ],
   "source": [
    "print_all_groups()"
   ]
  },
  {
   "cell_type": "code",
   "execution_count": 60,
   "id": "006c1cdd",
   "metadata": {},
   "outputs": [],
   "source": [
    "def print_all_groups():\n",
    "    return ', '.join([str(year) + group for year in \"123456\" for group in \"abcde\"])"
   ]
  },
  {
   "cell_type": "code",
   "execution_count": 61,
   "id": "d5b5bbc1",
   "metadata": {},
   "outputs": [
    {
     "data": {
      "text/plain": [
       "'1a, 1b, 1c, 1d, 1e, 2a, 2b, 2c, 2d, 2e, 3a, 3b, 3c, 3d, 3e, 4a, 4b, 4c, 4d, 4e, 5a, 5b, 5c, 5d, 5e, 6a, 6b, 6c, 6d, 6e'"
      ]
     },
     "execution_count": 61,
     "metadata": {},
     "output_type": "execute_result"
    }
   ],
   "source": [
    "print_all_groups()"
   ]
  },
  {
   "cell_type": "code",
   "execution_count": 97,
   "id": "d2fde176",
   "metadata": {},
   "outputs": [],
   "source": [
    "def dis(price, discount):\n",
    "    return round(price - (price * discount * 0.01),2)"
   ]
  },
  {
   "cell_type": "code",
   "execution_count": 98,
   "id": "35adc87a",
   "metadata": {},
   "outputs": [
    {
     "data": {
      "text/plain": [
       "71.2"
      ]
     },
     "execution_count": 98,
     "metadata": {},
     "output_type": "execute_result"
    }
   ],
   "source": [
    "dis(89, 20)"
   ]
  },
  {
   "cell_type": "code",
   "execution_count": 99,
   "id": "ebcc9428",
   "metadata": {},
   "outputs": [
    {
     "data": {
      "text/plain": [
       "25.0"
      ]
     },
     "execution_count": 99,
     "metadata": {},
     "output_type": "execute_result"
    }
   ],
   "source": [
    "dis(100, 75)"
   ]
  },
  {
   "cell_type": "code",
   "execution_count": 100,
   "id": "8d51bcd7",
   "metadata": {},
   "outputs": [
    {
     "data": {
      "text/plain": [
       "750.0"
      ]
     },
     "execution_count": 100,
     "metadata": {},
     "output_type": "execute_result"
    }
   ],
   "source": [
    "dis(1500, 50)"
   ]
  },
  {
   "cell_type": "code",
   "execution_count": 118,
   "id": "87e68480",
   "metadata": {},
   "outputs": [],
   "source": [
    "def calculator(num1, operator, num2):\n",
    "    \n",
    "    if num2 == 0 and operator == \"/\":\n",
    "        return \"Can't divide by 0!\"\n",
    "    else:\n",
    "        return eval('num1' + operator + 'num2')\n"
   ]
  },
  {
   "cell_type": "code",
   "execution_count": 119,
   "id": "dc2e9ed0",
   "metadata": {},
   "outputs": [
    {
     "data": {
      "text/plain": [
       "4"
      ]
     },
     "execution_count": 119,
     "metadata": {},
     "output_type": "execute_result"
    }
   ],
   "source": [
    "calculator(2, \"+\", 2)"
   ]
  },
  {
   "cell_type": "code",
   "execution_count": 3,
   "id": "28096337",
   "metadata": {},
   "outputs": [],
   "source": [
    "def emphasise(txt):\n",
    "   \n",
    "    return ''.join([letter for letter in txt]) "
   ]
  },
  {
   "cell_type": "code",
   "execution_count": 4,
   "id": "9cf97c67",
   "metadata": {},
   "outputs": [
    {
     "data": {
      "text/plain": [
       "'hello world'"
      ]
     },
     "execution_count": 4,
     "metadata": {},
     "output_type": "execute_result"
    }
   ],
   "source": [
    "emphasise(\"hello world\")"
   ]
  },
  {
   "cell_type": "code",
   "execution_count": 12,
   "id": "517e2709",
   "metadata": {},
   "outputs": [],
   "source": [
    "def emphasise(txt):\n",
    "    return ' '.join([letter[0].upper()+letter[1:].lower() for letter in txt.split()]) "
   ]
  },
  {
   "cell_type": "code",
   "execution_count": 13,
   "id": "e213d5f9",
   "metadata": {},
   "outputs": [
    {
     "data": {
      "text/plain": [
       "'Hello World'"
      ]
     },
     "execution_count": 13,
     "metadata": {},
     "output_type": "execute_result"
    }
   ],
   "source": [
    "emphasise(\"hello world\")"
   ]
  },
  {
   "cell_type": "code",
   "execution_count": 37,
   "id": "5e8059f8",
   "metadata": {},
   "outputs": [],
   "source": [
    "def emphasise(txt):\n",
    "    return ' '.join([letter[0].upper()+letter[1:].lower() for letter in txt.split()])"
   ]
  },
  {
   "cell_type": "code",
   "execution_count": 38,
   "id": "3867e289",
   "metadata": {},
   "outputs": [
    {
     "data": {
      "text/plain": [
       "'Hello World'"
      ]
     },
     "execution_count": 38,
     "metadata": {},
     "output_type": "execute_result"
    }
   ],
   "source": [
    "emphasise(\"hello world\")"
   ]
  },
  {
   "cell_type": "code",
   "execution_count": 36,
   "id": "a25ff21c",
   "metadata": {},
   "outputs": [
    {
     "data": {
      "text/plain": [
       "'hello world'"
      ]
     },
     "execution_count": 36,
     "metadata": {},
     "output_type": "execute_result"
    }
   ],
   "source": [
    "' '.join(\"hello world\".split())"
   ]
  },
  {
   "cell_type": "code",
   "execution_count": 112,
   "id": "2352d367",
   "metadata": {},
   "outputs": [],
   "source": []
  },
  {
   "cell_type": "code",
   "execution_count": 52,
   "id": "af4466f5",
   "metadata": {},
   "outputs": [],
   "source": [
    "def make_rug(hight, width, proc):\n",
    "    return [width * proc]*hight "
   ]
  },
  {
   "cell_type": "code",
   "execution_count": 53,
   "id": "f76a2009",
   "metadata": {},
   "outputs": [
    {
     "data": {
      "text/plain": [
       "['#####', '#####', '#####']"
      ]
     },
     "execution_count": 53,
     "metadata": {},
     "output_type": "execute_result"
    }
   ],
   "source": [
    "make_rug(3, 5, '#')"
   ]
  },
  {
   "cell_type": "code",
   "execution_count": 113,
   "id": "ab6aa8cb",
   "metadata": {},
   "outputs": [],
   "source": [
    "import collections"
   ]
  },
  {
   "cell_type": "code",
   "execution_count": 130,
   "id": "b70cd7c7",
   "metadata": {},
   "outputs": [],
   "source": [
    "def pluralize(list_of_words):\n",
    "    return {word+\"s\" * (list_of_words.count(word)>1) for word in list_of_words}"
   ]
  },
  {
   "cell_type": "code",
   "execution_count": 131,
   "id": "9d3bcec7",
   "metadata": {},
   "outputs": [
    {
     "data": {
      "text/plain": [
       "{'cows', 'pig'}"
      ]
     },
     "execution_count": 131,
     "metadata": {},
     "output_type": "execute_result"
    }
   ],
   "source": [
    "pluralize([\"cow\", \"pig\", \"cow\", \"cow\"])"
   ]
  },
  {
   "cell_type": "code",
   "execution_count": 89,
   "id": "63088956",
   "metadata": {},
   "outputs": [
    {
     "name": "stdout",
     "output_type": "stream",
     "text": [
      "Counter({'cow': 3, 'pig': 1})\n"
     ]
    }
   ],
   "source": [
    "import collections\n",
    "\n",
    "c = collections.Counter([\"cow\", \"pig\", \"cow\", \"cow\"])\n",
    "print(c)\n"
   ]
  },
  {
   "cell_type": "code",
   "execution_count": 124,
   "id": "8a53c48b",
   "metadata": {},
   "outputs": [
    {
     "name": "stdout",
     "output_type": "stream",
     "text": [
      "3\n"
     ]
    }
   ],
   "source": [
    "for i in c:\n",
    "    if c[i] > 1:\n",
    "        print(c[i])"
   ]
  },
  {
   "cell_type": "code",
   "execution_count": 108,
   "id": "424b2c8f",
   "metadata": {},
   "outputs": [],
   "source": [
    "def pluralize(list_of_words):\n",
    "    return {word+\"s\" *(list_of_words.count(word)>1) for word in list_of_words}"
   ]
  },
  {
   "cell_type": "code",
   "execution_count": 109,
   "id": "8744ca8e",
   "metadata": {},
   "outputs": [
    {
     "data": {
      "text/plain": [
       "{'cows', 'pig'}"
      ]
     },
     "execution_count": 109,
     "metadata": {},
     "output_type": "execute_result"
    }
   ],
   "source": [
    "pluralize([\"cow\", \"pig\", \"cow\", \"cow\"])"
   ]
  },
  {
   "cell_type": "code",
   "execution_count": null,
   "id": "2f1b9d08",
   "metadata": {},
   "outputs": [],
   "source": []
  }
 ],
 "metadata": {
  "kernelspec": {
   "display_name": "Python 3 (ipykernel)",
   "language": "python",
   "name": "python3"
  },
  "language_info": {
   "codemirror_mode": {
    "name": "ipython",
    "version": 3
   },
   "file_extension": ".py",
   "mimetype": "text/x-python",
   "name": "python",
   "nbconvert_exporter": "python",
   "pygments_lexer": "ipython3",
   "version": "3.8.6"
  },
  "toc": {
   "base_numbering": 1,
   "nav_menu": {},
   "number_sections": true,
   "sideBar": true,
   "skip_h1_title": false,
   "title_cell": "Table of Contents",
   "title_sidebar": "Contents",
   "toc_cell": false,
   "toc_position": {},
   "toc_section_display": true,
   "toc_window_display": false
  },
  "varInspector": {
   "cols": {
    "lenName": 16,
    "lenType": 16,
    "lenVar": 40
   },
   "kernels_config": {
    "python": {
     "delete_cmd_postfix": "",
     "delete_cmd_prefix": "del ",
     "library": "var_list.py",
     "varRefreshCmd": "print(var_dic_list())"
    },
    "r": {
     "delete_cmd_postfix": ") ",
     "delete_cmd_prefix": "rm(",
     "library": "var_list.r",
     "varRefreshCmd": "cat(var_dic_list()) "
    }
   },
   "types_to_exclude": [
    "module",
    "function",
    "builtin_function_or_method",
    "instance",
    "_Feature"
   ],
   "window_display": false
  }
 },
 "nbformat": 4,
 "nbformat_minor": 5
}
