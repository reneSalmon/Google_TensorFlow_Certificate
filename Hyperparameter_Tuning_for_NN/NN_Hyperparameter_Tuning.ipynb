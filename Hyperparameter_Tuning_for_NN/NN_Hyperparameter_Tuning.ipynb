{
 "cells": [
  {
   "cell_type": "markdown",
   "metadata": {
    "heading_collapsed": true,
    "id": "rERlFQLI6AWD"
   },
   "source": [
    "# **Warm up coding**"
   ]
  },
  {
   "cell_type": "code",
   "execution_count": null,
   "metadata": {
    "hidden": true,
    "id": "-665qaClGd-o"
   },
   "outputs": [],
   "source": [
    "import tensorflow as tf\n",
    "import numpy as np\n",
    "import matplotlib.pyplot as plt"
   ]
  },
  {
   "cell_type": "code",
   "execution_count": null,
   "metadata": {
    "colab": {
     "base_uri": "https://localhost:8080/"
    },
    "hidden": true,
    "id": "af4-GKpUGYBn",
    "outputId": "30127090-2665-4074-c7d7-9dbcfdc194ce"
   },
   "outputs": [
    {
     "data": {
      "text/plain": [
       "<tf.Tensor: shape=(1, 3, 3, 3), dtype=float32, numpy=\n",
       "array([[[[1., 0., 0.],\n",
       "         [1., 0., 0.],\n",
       "         [1., 0., 0.]],\n",
       "\n",
       "        [[1., 0., 0.],\n",
       "         [0., 0., 0.],\n",
       "         [1., 0., 0.]],\n",
       "\n",
       "        [[1., 0., 0.],\n",
       "         [1., 0., 0.],\n",
       "         [1., 0., 0.]]]], dtype=float32)>"
      ]
     },
     "execution_count": 2,
     "metadata": {},
     "output_type": "execute_result"
    }
   ],
   "source": [
    "# create an empty image\n",
    "img = tf.zeros([1, 3, 3, 3])\n",
    "# draw a box around the image\n",
    "box = np.array([0, 0, 1, 1])\n",
    "boxes = box.reshape([1, 1, 4])\n",
    "# alternate between red and blue\n",
    "colors = np.array([[1.0, 0.0, 0.0], [0.0, 0.0, 1.0]])\n",
    "image_wiht_box = tf.image.draw_bounding_boxes(img, boxes, colors)\n",
    "image_wiht_box "
   ]
  },
  {
   "cell_type": "code",
   "execution_count": 110,
   "metadata": {
    "colab": {
     "base_uri": "https://localhost:8080/"
    },
    "hidden": true,
    "id": "Z42NDLm_H3GT",
    "outputId": "ef08cbbd-4fcd-42e1-db31-923f26f69ff0"
   },
   "outputs": [
    {
     "name": "stdout",
     "output_type": "stream",
     "text": [
      "11\n",
      "6\n",
      "16\n"
     ]
    }
   ],
   "source": [
    "#Create a function which returns the length of a string, WITHOUT using String.length property.\n",
    "def length(s): \n",
    "  print(len([x for x in s]))\n",
    "\n",
    "length('Hello World')\n",
    "length('Edabit')\n",
    "length('wash your hands!')"
   ]
  },
  {
   "cell_type": "code",
   "execution_count": 111,
   "metadata": {
    "colab": {
     "base_uri": "https://localhost:8080/"
    },
    "hidden": true,
    "id": "up-2hN63Lmaa",
    "outputId": "b0ac7eb8-1694-465c-cc8a-b53325e2113d"
   },
   "outputs": [
    {
     "name": "stdout",
     "output_type": "stream",
     "text": [
      "1\n",
      "0\n",
      "0\n"
     ]
    }
   ],
   "source": [
    "def length(s):\n",
    "  print(s.count('Hello'))\n",
    " \n",
    "length('Hello World')\n",
    "length('Edabit')\n",
    "length('wash your hands!')"
   ]
  },
  {
   "cell_type": "code",
   "execution_count": 112,
   "metadata": {
    "colab": {
     "base_uri": "https://localhost:8080/"
    },
    "hidden": true,
    "id": "buteV9SeNi7P",
    "outputId": "fff36a17-53a7-4f23-ccad-220d9e3dfc4d"
   },
   "outputs": [
    {
     "name": "stdout",
     "output_type": "stream",
     "text": [
      "3\n",
      "0\n",
      "0\n"
     ]
    }
   ],
   "source": [
    "import re\n",
    "\n",
    "def length(s):\n",
    "  print(len(re.findall('l', s)))\n",
    "\n",
    "length('Hello World')\n",
    "length('Edabit')\n",
    "length('wash your hands!')"
   ]
  },
  {
   "cell_type": "code",
   "execution_count": 113,
   "metadata": {
    "colab": {
     "base_uri": "https://localhost:8080/"
    },
    "hidden": true,
    "id": "dRkH14SWO33k",
    "outputId": "9c7e36b1-3dba-4642-fc1d-308ea24c29f1"
   },
   "outputs": [
    {
     "name": "stdout",
     "output_type": "stream",
     "text": [
      "2\n",
      "0\n",
      "1\n"
     ]
    }
   ],
   "source": [
    "def length(s):\n",
    "  print(len([x for x in s if x == 'o']))\n",
    "\n",
    "length('Hello World')\n",
    "length('Edabit')\n",
    "length('wash your hands!')"
   ]
  },
  {
   "cell_type": "code",
   "execution_count": null,
   "metadata": {
    "colab": {
     "base_uri": "https://localhost:8080/"
    },
    "hidden": true,
    "id": "3jYV-zfWILjM",
    "outputId": "8d38b169-e518-46df-8249-81e7f828e31d"
   },
   "outputs": [
    {
     "name": "stdout",
     "output_type": "stream",
     "text": [
      "[1, 3, 3, 3]\n"
     ]
    }
   ],
   "source": [
    "img_tf = tf.Variable(img)\n",
    "print(img_tf.get_shape().as_list())"
   ]
  },
  {
   "cell_type": "code",
   "execution_count": 115,
   "metadata": {
    "colab": {
     "base_uri": "https://localhost:8080/"
    },
    "hidden": true,
    "id": "OoJniOSNq3iP",
    "outputId": "2d1ef598-7b4c-4129-d89c-8b57e87de0f8"
   },
   "outputs": [
    {
     "name": "stdout",
     "output_type": "stream",
     "text": [
      "True\n",
      "<class 'set'>\n",
      "<class 'set'>\n"
     ]
    }
   ],
   "source": [
    "# True, False or error?\n",
    "a = {1,2,3}\n",
    "b = {1,2,3,3,1,3,2}\n",
    "print(a==b)\n",
    "print(type(a))\n",
    "print(type(b))"
   ]
  },
  {
   "cell_type": "markdown",
   "metadata": {
    "hidden": true,
    "id": "BKKXiHFAj1ul"
   },
   "source": [
    "## **Simple Guide to Hyperparameter Tuning in Neural Networks**"
   ]
  },
  {
   "cell_type": "markdown",
   "metadata": {
    "heading_collapsed": true,
    "id": "GZeFpMggkScD"
   },
   "source": [
    "# **1. Prepare setup**\n"
   ]
  },
  {
   "cell_type": "markdown",
   "metadata": {
    "hidden": true,
    "id": "TSaOAC2JklSu"
   },
   "source": [
    "**a. Import libraries**"
   ]
  },
  {
   "cell_type": "code",
   "execution_count": 79,
   "metadata": {
    "colab": {
     "base_uri": "https://localhost:8080/"
    },
    "hidden": true,
    "id": "Ijf34WTdrQSv",
    "outputId": "87ff6750-f34e-46f1-a0c3-8e427ba5053d"
   },
   "outputs": [
    {
     "name": "stdout",
     "output_type": "stream",
     "text": [
      "<module 'tensorflow._api.v2.version' from '/usr/local/lib/python3.7/dist-packages/tensorflow/_api/v2/version/__init__.py'>\n",
      "2.7.0\n"
     ]
    }
   ],
   "source": [
    "\n",
    "import tensorflow as tf\n",
    "import keras\n",
    "from keras import layers\n",
    "from keras import models\n",
    "from keras import utils\n",
    "from tensorflow.keras.utils import to_categorical\n",
    "from keras.layers import Dense\n",
    "from keras.models import Sequential\n",
    "from keras.layers import Flatten\n",
    "from keras.layers import Dropout\n",
    "from keras.layers import Activation\n",
    "from keras.regularizers import l2\n",
    "\n",
    "from keras import datasets\n",
    "\n",
    "from keras.callbacks import LearningRateScheduler\n",
    "from keras.callbacks import History\n",
    "\n",
    "from keras import losses\n",
    "from sklearn.utils import shuffle\n",
    "import numpy as np\n",
    "\n",
    "print(tf.version)\n",
    "print(tf.keras.__version__)"
   ]
  },
  {
   "cell_type": "markdown",
   "metadata": {
    "heading_collapsed": true,
    "id": "peDuDtC1JYpm"
   },
   "source": [
    "# **2. Import dataset**"
   ]
  },
  {
   "cell_type": "code",
   "execution_count": 80,
   "metadata": {
    "colab": {
     "base_uri": "https://localhost:8080/"
    },
    "hidden": true,
    "id": "Y3TaTzEE3EjY",
    "outputId": "4e74fd5b-a49f-4263-e8c1-3b549c7c79c7"
   },
   "outputs": [
    {
     "data": {
      "text/plain": [
       "((60000, 28, 28), (60000,))"
      ]
     },
     "execution_count": 80,
     "metadata": {},
     "output_type": "execute_result"
    }
   ],
   "source": [
    "mnist = keras.datasets.mnist\n",
    "(x_train, y_train),(x_test, y_test) = mnist.load_data()\n",
    "x_train.shape, y_train.shape"
   ]
  },
  {
   "cell_type": "code",
   "execution_count": 81,
   "metadata": {
    "hidden": true,
    "id": "iGuQ98Zo3wdj"
   },
   "outputs": [],
   "source": [
    "import matplotlib.pyplot as plt"
   ]
  },
  {
   "cell_type": "code",
   "execution_count": 82,
   "metadata": {
    "colab": {
     "base_uri": "https://localhost:8080/",
     "height": 0
    },
    "hidden": true,
    "id": "g5ExnllL3mNJ",
    "outputId": "9a61e110-4423-4841-c69b-86dff518fa4f"
   },
   "outputs": [
    {
     "data": {
      "image/png": "[encoded data removed]",
      "text/plain": [
       "<Figure size 720x720 with 10 Axes>"
      ]
     },
     "metadata": {},
     "output_type": "display_data"
    }
   ],
   "source": [
    "plt.figure(figsize=(10,10))\n",
    "for i in range(10):\n",
    "    plt.subplot(5,5,i+1)\n",
    "    plt.xticks([])\n",
    "    plt.yticks([])\n",
    "    plt.grid(False)\n",
    "    plt.imshow(x_train[i], cmap=plt.cm.binary)\n",
    "    plt.xlabel(y_train[i])"
   ]
  },
  {
   "cell_type": "code",
   "execution_count": 83,
   "metadata": {
    "colab": {
     "base_uri": "https://localhost:8080/"
    },
    "hidden": true,
    "id": "a07hojvG4Ah0",
    "outputId": "7123d09d-c12e-46cf-8f59-086751cf6454"
   },
   "outputs": [
    {
     "name": "stdout",
     "output_type": "stream",
     "text": [
      "We have 60000 train samples\n",
      "We have 10000 test samples\n"
     ]
    }
   ],
   "source": [
    "print(f'We have {x_train.shape[0]} train samples')\n",
    "print(f'We have {x_test.shape[0]} test samples')"
   ]
  },
  {
   "cell_type": "code",
   "execution_count": 84,
   "metadata": {
    "colab": {
     "base_uri": "https://localhost:8080/"
    },
    "hidden": true,
    "id": "lYUGWFXvu3-n",
    "outputId": "7e85873d-d236-4b57-ee0e-8aa5f6079545"
   },
   "outputs": [
    {
     "name": "stdout",
     "output_type": "stream",
     "text": [
      "[5 0 4 1 9 2 1 3 1 4]\n"
     ]
    }
   ],
   "source": [
    "print(y_train[:10])"
   ]
  },
  {
   "cell_type": "code",
   "execution_count": 85,
   "metadata": {
    "colab": {
     "base_uri": "https://localhost:8080/"
    },
    "hidden": true,
    "id": "lvi3GBPuvX7H",
    "outputId": "073cbd06-53ba-4056-ab49-0121a44aa6fe"
   },
   "outputs": [
    {
     "name": "stdout",
     "output_type": "stream",
     "text": [
      "[[  0   0   0   0   0   0   0   0   0   0   0   0   0   0   0   0   0   0\n",
      "    0   0   0   0   0   0   0   0   0   0]\n",
      " [  0   0   0   0   0   0   0   0   0   0   0   0   0   0   0   0   0   0\n",
      "    0   0   0   0   0   0   0   0   0   0]\n",
      " [  0   0   0   0   0   0   0   0   0   0   0   0   0   0   0   0   0   0\n",
      "    0   0   0   0   0   0   0   0   0   0]\n",
      " [  0   0   0   0   0   0   0   0   0   0   0   0   0   0   0   0   0   0\n",
      "    0   0   0   0   0   0   0   0   0   0]\n",
      " [  0   0   0   0   0   0   0   0   0   0   0   0   0   0   0   0   0   0\n",
      "    0   0   0   0   0   0   0   0   0   0]\n",
      " [  0   0   0   0   0   0   0   0   0   0   0   0   3  18  18  18 126 136\n",
      "  175  26 166 255 247 127   0   0   0   0]\n",
      " [  0   0   0   0   0   0   0   0  30  36  94 154 170 253 253 253 253 253\n",
      "  225 172 253 242 195  64   0   0   0   0]\n",
      " [  0   0   0   0   0   0   0  49 238 253 253 253 253 253 253 253 253 251\n",
      "   93  82  82  56  39   0   0   0   0   0]\n",
      " [  0   0   0   0   0   0   0  18 219 253 253 253 253 253 198 182 247 241\n",
      "    0   0   0   0   0   0   0   0   0   0]\n",
      " [  0   0   0   0   0   0   0   0  80 156 107 253 253 205  11   0  43 154\n",
      "    0   0   0   0   0   0   0   0   0   0]\n",
      " [  0   0   0   0   0   0   0   0   0  14   1 154 253  90   0   0   0   0\n",
      "    0   0   0   0   0   0   0   0   0   0]\n",
      " [  0   0   0   0   0   0   0   0   0   0   0 139 253 190   2   0   0   0\n",
      "    0   0   0   0   0   0   0   0   0   0]\n",
      " [  0   0   0   0   0   0   0   0   0   0   0  11 190 253  70   0   0   0\n",
      "    0   0   0   0   0   0   0   0   0   0]\n",
      " [  0   0   0   0   0   0   0   0   0   0   0   0  35 241 225 160 108   1\n",
      "    0   0   0   0   0   0   0   0   0   0]\n",
      " [  0   0   0   0   0   0   0   0   0   0   0   0   0  81 240 253 253 119\n",
      "   25   0   0   0   0   0   0   0   0   0]\n",
      " [  0   0   0   0   0   0   0   0   0   0   0   0   0   0  45 186 253 253\n",
      "  150  27   0   0   0   0   0   0   0   0]\n",
      " [  0   0   0   0   0   0   0   0   0   0   0   0   0   0   0  16  93 252\n",
      "  253 187   0   0   0   0   0   0   0   0]\n",
      " [  0   0   0   0   0   0   0   0   0   0   0   0   0   0   0   0   0 249\n",
      "  253 249  64   0   0   0   0   0   0   0]\n",
      " [  0   0   0   0   0   0   0   0   0   0   0   0   0   0  46 130 183 253\n",
      "  253 207   2   0   0   0   0   0   0   0]\n",
      " [  0   0   0   0   0   0   0   0   0   0   0   0  39 148 229 253 253 253\n",
      "  250 182   0   0   0   0   0   0   0   0]\n",
      " [  0   0   0   0   0   0   0   0   0   0  24 114 221 253 253 253 253 201\n",
      "   78   0   0   0   0   0   0   0   0   0]\n",
      " [  0   0   0   0   0   0   0   0  23  66 213 253 253 253 253 198  81   2\n",
      "    0   0   0   0   0   0   0   0   0   0]\n",
      " [  0   0   0   0   0   0  18 171 219 253 253 253 253 195  80   9   0   0\n",
      "    0   0   0   0   0   0   0   0   0   0]\n",
      " [  0   0   0   0  55 172 226 253 253 253 253 244 133  11   0   0   0   0\n",
      "    0   0   0   0   0   0   0   0   0   0]\n",
      " [  0   0   0   0 136 253 253 253 212 135 132  16   0   0   0   0   0   0\n",
      "    0   0   0   0   0   0   0   0   0   0]\n",
      " [  0   0   0   0   0   0   0   0   0   0   0   0   0   0   0   0   0   0\n",
      "    0   0   0   0   0   0   0   0   0   0]\n",
      " [  0   0   0   0   0   0   0   0   0   0   0   0   0   0   0   0   0   0\n",
      "    0   0   0   0   0   0   0   0   0   0]\n",
      " [  0   0   0   0   0   0   0   0   0   0   0   0   0   0   0   0   0   0\n",
      "    0   0   0   0   0   0   0   0   0   0]]\n"
     ]
    }
   ],
   "source": [
    "print(x_train[0]) #Five "
   ]
  },
  {
   "cell_type": "markdown",
   "metadata": {
    "heading_collapsed": true,
    "id": "bi_hmQP0JSHt"
   },
   "source": [
    "# **3. Preprocess data**"
   ]
  },
  {
   "cell_type": "markdown",
   "metadata": {
    "hidden": true,
    "id": "U02fnm78rF5D"
   },
   "source": [
    "**a. Normalize and flatten picture data**\n",
    "\n",
    "We need to make the 2D image arrays into 1D (flatten them). We can either perform this by using array reshaping with:\n",
    "- numpy.reshape() \n",
    "- or the keras' method for this: a layer called keras.layers.Flatte"
   ]
  },
  {
   "cell_type": "code",
   "execution_count": 86,
   "metadata": {
    "colab": {
     "base_uri": "https://localhost:8080/"
    },
    "hidden": true,
    "id": "fc1eXNst41ll",
    "outputId": "0dc77061-c3b7-4a1e-c36e-1d9870eb55d9"
   },
   "outputs": [
    {
     "data": {
      "text/plain": [
       "784"
      ]
     },
     "execution_count": 86,
     "metadata": {},
     "output_type": "execute_result"
    }
   ],
   "source": [
    "# normalize the data\n",
    "x_train, x_test = x_train / 255.0, x_test / 255.0\n",
    "\n",
    "# reshape the data into 1D vectors\n",
    "x_train = x_train.reshape(60000, 784)\n",
    "x_test = x_test.reshape(10000, 784)\n",
    "\n",
    "num_classes = 10\n",
    "\n",
    "# Check the column length\n",
    "x_train.shape[1]"
   ]
  },
  {
   "cell_type": "code",
   "execution_count": 87,
   "metadata": {
    "colab": {
     "base_uri": "https://localhost:8080/"
    },
    "hidden": true,
    "id": "jhpK75uZuq0p",
    "outputId": "2a8a714d-77d4-48e8-f561-2d11e603efa1"
   },
   "outputs": [
    {
     "name": "stdout",
     "output_type": "stream",
     "text": [
      "[[0. 0. 0. ... 0. 0. 0.]\n",
      " [0. 0. 0. ... 0. 0. 0.]\n",
      " [0. 0. 0. ... 0. 0. 0.]\n",
      " ...\n",
      " [0. 0. 0. ... 0. 0. 0.]\n",
      " [0. 0. 0. ... 0. 0. 0.]\n",
      " [0. 0. 0. ... 0. 0. 0.]]\n"
     ]
    }
   ],
   "source": [
    "print(x_train)"
   ]
  },
  {
   "cell_type": "markdown",
   "metadata": {
    "hidden": true,
    "id": "8R_A-W7lK4um"
   },
   "source": [
    "**b. One-hot encode data**\n",
    "\n",
    "We want the neural network to classify our data into 10 possible categories. Therfore we have to one-hot encode the y_train and y_test labels into a binary code. \n",
    "\n",
    "**Why is a one-hot encoding required?**\n",
    "\n",
    "Some algorithms can work with categorical data directly. For example, a decision tree can be learned directly from categorical data with no data transformation required (this depends on the specific implementation).\n",
    "\n",
    "Many machine learning algorithms cannot operate on label data directly. They require all input variables and output variables to be numeric.\n",
    "\n",
    "In general, this is mostly a constraint of the efficient implementation of machine learning algorithms rather than hard limitations on the algorithms themselves.\n",
    "\n",
    "This means that categorical data must be converted to a numerical form. If the categorical variable is an output variable, you may also want to convert predictions by the model back into a categorical form in order to present them or use them in some application."
   ]
  },
  {
   "cell_type": "code",
   "execution_count": 88,
   "metadata": {
    "hidden": true,
    "id": "V-xw3GRE42ji"
   },
   "outputs": [],
   "source": [
    "# Convert class vectors to binary class matrices\n",
    "y_train = tf.keras.utils.to_categorical(y_train, num_classes)\n",
    "y_test = tf.keras.utils.to_categorical(y_test, num_classes)"
   ]
  },
  {
   "cell_type": "code",
   "execution_count": 89,
   "metadata": {
    "colab": {
     "base_uri": "https://localhost:8080/"
    },
    "hidden": true,
    "id": "q6EwNo9rx0NF",
    "outputId": "c90f9686-b205-464d-fb9d-2fa00657daff"
   },
   "outputs": [
    {
     "name": "stdout",
     "output_type": "stream",
     "text": [
      "[[0. 0. 0. 0. 0. 1. 0. 0. 0. 0.]\n",
      " [1. 0. 0. 0. 0. 0. 0. 0. 0. 0.]\n",
      " [0. 0. 0. 0. 1. 0. 0. 0. 0. 0.]\n",
      " [0. 1. 0. 0. 0. 0. 0. 0. 0. 0.]\n",
      " [0. 0. 0. 0. 0. 0. 0. 0. 0. 1.]\n",
      " [0. 0. 1. 0. 0. 0. 0. 0. 0. 0.]\n",
      " [0. 1. 0. 0. 0. 0. 0. 0. 0. 0.]\n",
      " [0. 0. 0. 1. 0. 0. 0. 0. 0. 0.]\n",
      " [0. 1. 0. 0. 0. 0. 0. 0. 0. 0.]\n",
      " [0. 0. 0. 0. 1. 0. 0. 0. 0. 0.]]\n"
     ]
    }
   ],
   "source": [
    "print(y_train[:10])"
   ]
  },
  {
   "cell_type": "markdown",
   "metadata": {
    "heading_collapsed": true,
    "id": "NyQL9nAZL4Fo"
   },
   "source": [
    "# **4. Create Neural Network**"
   ]
  },
  {
   "cell_type": "markdown",
   "metadata": {
    "hidden": true,
    "id": "SA-fdTRbyhur"
   },
   "source": [
    "One of the most common optimization algorithms is Stochastic Gradient Descent (SGD). \n",
    "The hyperparameters that can be optimized in SGD are learning rate, momentum, decay and nesterov.\n",
    "\n",
    "- **Learning rate:** controls the weight at the end of each batch, and momentum controls how much to let the previous update influence the current weight update. \n",
    "\n",
    "- **Decay:** indicates the learning rate decay over each update (GER: Abnahme der Lernrate bei jedem Update)\n",
    "\n",
    "- **Nesterov:** takes the value “True” or “False” depending on if we want to apply Nesterov momentum.\n",
    "\n",
    "Typical values: for those hyperparameters are\n",
    "- lr=0.01, \n",
    "- decay=1e-6\n",
    "- momentum=0.9\n",
    "- nesterov=True\n",
    "\n",
    "**Process:** The learning rate hyperparameter goes into the optimizer function which we will see below. Keras has a default learning rate scheduler in the SGDoptimizer that decreases the learning rate during the stochastic gradient descent optimization algorithm. The learning rate is decreased according to this formula:\n",
    "lr=lr×1/(1+decay∗epoch)"
   ]
  },
  {
   "cell_type": "markdown",
   "metadata": {
    "hidden": true,
    "id": "j-OydUGUl5CT"
   },
   "source": [
    "**a. Define hyperparameter for optimizer**"
   ]
  },
  {
   "cell_type": "code",
   "execution_count": null,
   "metadata": {
    "hidden": true,
    "id": "AIVkznLf430P"
   },
   "outputs": [],
   "source": [
    "#Define Hyperparameter\n",
    "epochs=60\n",
    "learning_rate = 0.1\n",
    "decay_rate = learning_rate / epochs\n",
    "momentum = 0.8\n",
    "\n",
    "#Instanciate optimizer\n",
    "sgd = tf.keras.optimizers.SGD(learning_rate=learning_rate, momentum=momentum, decay=decay_rate, nesterov=False)"
   ]
  },
  {
   "cell_type": "markdown",
   "metadata": {
    "hidden": true,
    "id": "QLWgAFE2RYgy"
   },
   "source": [
    "**b. Build neural network architecture**"
   ]
  },
  {
   "cell_type": "code",
   "execution_count": null,
   "metadata": {
    "hidden": true,
    "id": "WHSwz-oM45Xw"
   },
   "outputs": [],
   "source": [
    "# build the model\n",
    "input_dim = x_train.shape[1]\n",
    "\n",
    "model = Sequential()\n",
    "model.add(Dense(64, activation='relu', kernel_initializer='uniform', input_dim=input_dim)) \n",
    "model.add(Dropout(0.1))\n",
    "model.add(Dense(64, kernel_initializer='uniform', activation='relu'))\n",
    "model.add(Dense(num_classes, kernel_initializer='uniform', activation='softmax'))\n",
    "\n",
    "# compile the model\n",
    "model.compile(loss='categorical_crossentropy',\n",
    "              optimizer=sgd,\n",
    "              metrics=['acc']\n",
    ")"
   ]
  },
  {
   "cell_type": "markdown",
   "metadata": {
    "hidden": true,
    "id": "GuWJC1mgTNGi"
   },
   "source": [
    "We can now run the model and see how well it performs. \n",
    "\n",
    "This took around 20 minutes on my machine and may be faster or slower on yours depending on your machine."
   ]
  },
  {
   "cell_type": "markdown",
   "metadata": {
    "hidden": true,
    "id": "s7mxyhyHmBUl"
   },
   "source": [
    "**c. Train model**"
   ]
  },
  {
   "cell_type": "code",
   "execution_count": null,
   "metadata": {
    "colab": {
     "base_uri": "https://localhost:8080/"
    },
    "hidden": true,
    "id": "F4VZg5Od46fa",
    "outputId": "ba9b26a3-12bf-4dc9-a5dd-3e69dcdfe397"
   },
   "outputs": [
    {
     "name": "stdout",
     "output_type": "stream",
     "text": [
      "Epoch 1/60\n",
      "8572/8572 [==============================] - 22s 2ms/step - loss: 0.3388 - acc: 0.9020 - val_loss: 0.1907 - val_acc: 0.9534\n",
      "Epoch 2/60\n",
      "8572/8572 [==============================] - 22s 3ms/step - loss: 0.2173 - acc: 0.9474 - val_loss: 0.1665 - val_acc: 0.9616\n",
      "Epoch 3/60\n",
      "8572/8572 [==============================] - 28s 3ms/step - loss: 0.2107 - acc: 0.9552 - val_loss: 0.1794 - val_acc: 0.9613\n",
      "Epoch 4/60\n",
      "8572/8572 [==============================] - 21s 2ms/step - loss: 0.2036 - acc: 0.9600 - val_loss: 0.1974 - val_acc: 0.9639\n",
      "Epoch 5/60\n",
      "8572/8572 [==============================] - 24s 3ms/step - loss: 0.2024 - acc: 0.9621 - val_loss: 0.2187 - val_acc: 0.9649\n",
      "Epoch 6/60\n",
      "8572/8572 [==============================] - 21s 2ms/step - loss: 0.2051 - acc: 0.9632 - val_loss: 0.1745 - val_acc: 0.9689\n",
      "Epoch 7/60\n",
      "8572/8572 [==============================] - 21s 2ms/step - loss: 0.2061 - acc: 0.9646 - val_loss: 0.1952 - val_acc: 0.9687\n",
      "Epoch 8/60\n",
      "8572/8572 [==============================] - 22s 3ms/step - loss: 0.2108 - acc: 0.9661 - val_loss: 0.1998 - val_acc: 0.9701\n",
      "Epoch 9/60\n",
      "8572/8572 [==============================] - 20s 2ms/step - loss: 0.2042 - acc: 0.9673 - val_loss: 0.2195 - val_acc: 0.9666\n",
      "Epoch 10/60\n",
      "8572/8572 [==============================] - 21s 2ms/step - loss: 0.2095 - acc: 0.9664 - val_loss: 0.2158 - val_acc: 0.9695\n",
      "Epoch 11/60\n",
      "8572/8572 [==============================] - 21s 2ms/step - loss: 0.2144 - acc: 0.9678 - val_loss: 0.2165 - val_acc: 0.9692\n",
      "Epoch 12/60\n",
      "8572/8572 [==============================] - 20s 2ms/step - loss: 0.2135 - acc: 0.9675 - val_loss: 0.2348 - val_acc: 0.9702\n",
      "Epoch 13/60\n",
      "8572/8572 [==============================] - 21s 2ms/step - loss: 0.2186 - acc: 0.9686 - val_loss: 0.2276 - val_acc: 0.9675\n",
      "Epoch 14/60\n",
      "8572/8572 [==============================] - 21s 2ms/step - loss: 0.2186 - acc: 0.9692 - val_loss: 0.2763 - val_acc: 0.9692\n",
      "Epoch 15/60\n",
      "8572/8572 [==============================] - 20s 2ms/step - loss: 0.2198 - acc: 0.9689 - val_loss: 0.2621 - val_acc: 0.9698\n",
      "Epoch 16/60\n",
      "8572/8572 [==============================] - 21s 2ms/step - loss: 0.2218 - acc: 0.9695 - val_loss: 0.2980 - val_acc: 0.9703\n",
      "Epoch 17/60\n",
      "8572/8572 [==============================] - 20s 2ms/step - loss: 0.2162 - acc: 0.9709 - val_loss: 0.2645 - val_acc: 0.9695\n",
      "Epoch 18/60\n",
      "8572/8572 [==============================] - 21s 2ms/step - loss: 0.2447 - acc: 0.9691 - val_loss: 0.3293 - val_acc: 0.9694\n",
      "Epoch 19/60\n",
      "8572/8572 [==============================] - 21s 2ms/step - loss: 0.2321 - acc: 0.9706 - val_loss: 0.3113 - val_acc: 0.9685\n",
      "Epoch 20/60\n",
      "8572/8572 [==============================] - 21s 2ms/step - loss: 0.2341 - acc: 0.9702 - val_loss: 0.3352 - val_acc: 0.9659\n",
      "Epoch 21/60\n",
      "8572/8572 [==============================] - 21s 2ms/step - loss: 0.2405 - acc: 0.9698 - val_loss: 0.3277 - val_acc: 0.9691\n",
      "Epoch 22/60\n",
      "8572/8572 [==============================] - 20s 2ms/step - loss: 0.2375 - acc: 0.9709 - val_loss: 0.3336 - val_acc: 0.9672\n",
      "Epoch 23/60\n",
      "8572/8572 [==============================] - 20s 2ms/step - loss: 0.2339 - acc: 0.9716 - val_loss: 0.3243 - val_acc: 0.9685\n",
      "Epoch 24/60\n",
      "8572/8572 [==============================] - 21s 2ms/step - loss: 0.2343 - acc: 0.9726 - val_loss: 0.3685 - val_acc: 0.9684\n",
      "Epoch 25/60\n",
      "8572/8572 [==============================] - 20s 2ms/step - loss: 0.2533 - acc: 0.9714 - val_loss: 0.3647 - val_acc: 0.9691\n",
      "Epoch 26/60\n",
      "8572/8572 [==============================] - 21s 2ms/step - loss: 0.2493 - acc: 0.9725 - val_loss: 0.3699 - val_acc: 0.9668\n",
      "Epoch 27/60\n",
      "8572/8572 [==============================] - 20s 2ms/step - loss: 0.2463 - acc: 0.9716 - val_loss: 0.3694 - val_acc: 0.9696\n",
      "Epoch 28/60\n",
      "8572/8572 [==============================] - 20s 2ms/step - loss: 0.2517 - acc: 0.9716 - val_loss: 0.3740 - val_acc: 0.9691\n",
      "Epoch 29/60\n",
      "8572/8572 [==============================] - 21s 2ms/step - loss: 0.2593 - acc: 0.9722 - val_loss: 0.3462 - val_acc: 0.9689\n",
      "Epoch 30/60\n",
      "8572/8572 [==============================] - 22s 3ms/step - loss: 0.2678 - acc: 0.9722 - val_loss: 0.3632 - val_acc: 0.9688\n",
      "Epoch 31/60\n",
      "8572/8572 [==============================] - 21s 2ms/step - loss: 0.2603 - acc: 0.9721 - val_loss: 0.3909 - val_acc: 0.9678\n",
      "Epoch 32/60\n",
      "8572/8572 [==============================] - 21s 2ms/step - loss: 0.2580 - acc: 0.9727 - val_loss: 0.3852 - val_acc: 0.9663\n",
      "Epoch 33/60\n",
      "8572/8572 [==============================] - 23s 3ms/step - loss: 0.2547 - acc: 0.9727 - val_loss: 0.4635 - val_acc: 0.9653\n",
      "Epoch 34/60\n",
      "8572/8572 [==============================] - 25s 3ms/step - loss: 0.2584 - acc: 0.9733 - val_loss: 0.4405 - val_acc: 0.9687\n",
      "Epoch 35/60\n",
      "8572/8572 [==============================] - 21s 2ms/step - loss: 0.2546 - acc: 0.9734 - val_loss: 0.3907 - val_acc: 0.9684\n",
      "Epoch 36/60\n",
      "8572/8572 [==============================] - 21s 2ms/step - loss: 0.2565 - acc: 0.9740 - val_loss: 0.4026 - val_acc: 0.9681\n",
      "Epoch 37/60\n",
      "8572/8572 [==============================] - 21s 2ms/step - loss: 0.2592 - acc: 0.9734 - val_loss: 0.4309 - val_acc: 0.9686\n",
      "Epoch 38/60\n",
      "8572/8572 [==============================] - 23s 3ms/step - loss: 0.2737 - acc: 0.9730 - val_loss: 0.4071 - val_acc: 0.9697\n",
      "Epoch 39/60\n",
      "8572/8572 [==============================] - 20s 2ms/step - loss: 0.2597 - acc: 0.9743 - val_loss: 0.5049 - val_acc: 0.9674\n",
      "Epoch 40/60\n",
      "8572/8572 [==============================] - 21s 2ms/step - loss: 0.2764 - acc: 0.9722 - val_loss: 0.4351 - val_acc: 0.9669\n",
      "Epoch 41/60\n",
      "8572/8572 [==============================] - 22s 3ms/step - loss: 0.2751 - acc: 0.9727 - val_loss: 0.4776 - val_acc: 0.9667\n",
      "Epoch 42/60\n",
      "8572/8572 [==============================] - 22s 3ms/step - loss: 0.2821 - acc: 0.9730 - val_loss: 0.4551 - val_acc: 0.9684\n",
      "Epoch 43/60\n",
      "8572/8572 [==============================] - 22s 3ms/step - loss: 0.2862 - acc: 0.9738 - val_loss: 0.4626 - val_acc: 0.9668\n",
      "Epoch 44/60\n",
      "8572/8572 [==============================] - 21s 2ms/step - loss: 0.2961 - acc: 0.9738 - val_loss: 0.4396 - val_acc: 0.9681\n",
      "Epoch 45/60\n",
      "8572/8572 [==============================] - 22s 3ms/step - loss: 0.2861 - acc: 0.9740 - val_loss: 0.4453 - val_acc: 0.9680\n",
      "Epoch 46/60\n",
      "8572/8572 [==============================] - 20s 2ms/step - loss: 0.2767 - acc: 0.9745 - val_loss: 0.4671 - val_acc: 0.9683\n",
      "Epoch 47/60\n",
      "8572/8572 [==============================] - 21s 2ms/step - loss: 0.3031 - acc: 0.9731 - val_loss: 0.4910 - val_acc: 0.9671\n",
      "Epoch 48/60\n",
      "8572/8572 [==============================] - 22s 3ms/step - loss: 0.2882 - acc: 0.9742 - val_loss: 0.4958 - val_acc: 0.9697\n",
      "Epoch 49/60\n",
      "8572/8572 [==============================] - 21s 2ms/step - loss: 0.2935 - acc: 0.9744 - val_loss: 0.4917 - val_acc: 0.9682\n",
      "Epoch 50/60\n",
      "8572/8572 [==============================] - 22s 3ms/step - loss: 0.2952 - acc: 0.9732 - val_loss: 0.5172 - val_acc: 0.9687\n",
      "Epoch 51/60\n",
      "8572/8572 [==============================] - 23s 3ms/step - loss: 0.2820 - acc: 0.9746 - val_loss: 0.5293 - val_acc: 0.9682\n",
      "Epoch 52/60\n",
      "8572/8572 [==============================] - 21s 2ms/step - loss: 0.2931 - acc: 0.9748 - val_loss: 0.5510 - val_acc: 0.9677\n",
      "Epoch 53/60\n",
      "8572/8572 [==============================] - 26s 3ms/step - loss: 0.2824 - acc: 0.9752 - val_loss: 0.5160 - val_acc: 0.9709\n",
      "Epoch 54/60\n",
      "8572/8572 [==============================] - 21s 2ms/step - loss: 0.2851 - acc: 0.9748 - val_loss: 0.5418 - val_acc: 0.9704\n",
      "Epoch 55/60\n",
      "8572/8572 [==============================] - 21s 2ms/step - loss: 0.2868 - acc: 0.9752 - val_loss: 0.5494 - val_acc: 0.9677\n",
      "Epoch 56/60\n",
      "8572/8572 [==============================] - 20s 2ms/step - loss: 0.2878 - acc: 0.9752 - val_loss: 0.5301 - val_acc: 0.9683\n",
      "Epoch 57/60\n",
      "8572/8572 [==============================] - 20s 2ms/step - loss: 0.2887 - acc: 0.9749 - val_loss: 0.5674 - val_acc: 0.9673\n",
      "Epoch 58/60\n",
      "8572/8572 [==============================] - 21s 2ms/step - loss: 0.2772 - acc: 0.9761 - val_loss: 0.5422 - val_acc: 0.9669\n",
      "Epoch 59/60\n",
      "8572/8572 [==============================] - 23s 3ms/step - loss: 0.3158 - acc: 0.9736 - val_loss: 0.5764 - val_acc: 0.9685\n",
      "Epoch 60/60\n",
      "8572/8572 [==============================] - 23s 3ms/step - loss: 0.2994 - acc: 0.9751 - val_loss: 0.6129 - val_acc: 0.9657\n",
      "CPU times: user 24min 33s, sys: 1min 22s, total: 25min 55s\n",
      "Wall time: 22min 23s\n"
     ]
    }
   ],
   "source": [
    "%%time\n",
    "# Fit the model\n",
    "batch_size = int(input_dim/100)\n",
    "\n",
    "lr_model_history =  model.fit(x_train, y_train,\n",
    "                    batch_size=batch_size,\n",
    "                    epochs=epochs,\n",
    "                    verbose=1,\n",
    "                    validation_data=(x_test, y_test))"
   ]
  },
  {
   "cell_type": "markdown",
   "metadata": {
    "heading_collapsed": true,
    "id": "QnMwRLihU2-e"
   },
   "source": [
    "# **5. Evaluate performance**"
   ]
  },
  {
   "cell_type": "markdown",
   "metadata": {
    "hidden": true,
    "id": "EAkuBeTny6Z8"
   },
   "source": [
    "Plot the accuracy and loss function as a function of epochs for the training and test sets to see how the network performed."
   ]
  },
  {
   "cell_type": "code",
   "execution_count": null,
   "metadata": {
    "colab": {
     "base_uri": "https://localhost:8080/",
     "height": 801
    },
    "hidden": true,
    "id": "0nLqnXjHVG2x",
    "outputId": "7912a5fd-dd44-4087-9844-f865e404e25e"
   },
   "outputs": [
    {
     "data": {
      "image/png": "[encoded data removed]",
      "text/plain": [
       "<Figure size 720x432 with 1 Axes>"
      ]
     },
     "metadata": {
      "needs_background": "light"
     },
     "output_type": "display_data"
    },
    {
     "data": {
      "image/png": "[encoded data removed]",
      "text/plain": [
       "<Figure size 720x432 with 1 Axes>"
      ]
     },
     "metadata": {
      "needs_background": "light"
     },
     "output_type": "display_data"
    }
   ],
   "source": [
    "# Plot the loss function\n",
    "fig, ax = plt.subplots(1, 1, figsize=(10,6))\n",
    "ax.plot(np.sqrt(lr_model_history.history['loss']), 'r', label='train')\n",
    "ax.plot(np.sqrt(lr_model_history.history['val_loss']), 'b' ,label='val')\n",
    "ax.set_xlabel(r'Epoch', fontsize=20)\n",
    "ax.set_ylabel(r'Loss', fontsize=20)\n",
    "ax.legend()\n",
    "ax.tick_params(labelsize=20)\n",
    "\n",
    "# Plot the accuracy\n",
    "fig, ax = plt.subplots(1, 1, figsize=(10,6))\n",
    "ax.plot(np.sqrt(lr_model_history.history['acc']), 'r', label='train')\n",
    "ax.plot(np.sqrt(lr_model_history.history['val_acc']), 'b' ,label='val')\n",
    "ax.set_xlabel(r'Epoch', fontsize=20)\n",
    "ax.set_ylabel(r'Accuracy', fontsize=20)\n",
    "ax.legend()\n",
    "ax.tick_params(labelsize=20)"
   ]
  },
  {
   "cell_type": "markdown",
   "metadata": {
    "heading_collapsed": true,
    "id": "86smbb2xWCua"
   },
   "source": [
    "# **6. Adjusting learning rate**"
   ]
  },
  {
   "cell_type": "markdown",
   "metadata": {
    "hidden": true,
    "id": "mZh319GKzFqN"
   },
   "source": [
    "**a. Apply a custom learning rate change using LearningRateScheduler**"
   ]
  },
  {
   "cell_type": "code",
   "execution_count": null,
   "metadata": {
    "colab": {
     "base_uri": "https://localhost:8080/"
    },
    "hidden": true,
    "id": "boCPHBLEYFX4",
    "outputId": "223e311d-ef19-4a6e-f271-8031126a3a10"
   },
   "outputs": [
    {
     "name": "stdout",
     "output_type": "stream",
     "text": [
      "Epoch 1/60\n",
      "307/307 [==============================] - 2s 6ms/step - loss: 2.0662 - acc: 0.3738 - val_loss: 1.6412 - val_acc: 0.5311 - lr: 0.1000\n",
      "Epoch 2/60\n",
      "307/307 [==============================] - 2s 5ms/step - loss: 1.3473 - acc: 0.6309 - val_loss: 1.0719 - val_acc: 0.7146 - lr: 0.0905\n",
      "Epoch 3/60\n",
      "307/307 [==============================] - 1s 5ms/step - loss: 1.0106 - acc: 0.7005 - val_loss: 0.8832 - val_acc: 0.7453 - lr: 0.0819\n",
      "Epoch 4/60\n",
      "307/307 [==============================] - 2s 7ms/step - loss: 0.8960 - acc: 0.7246 - val_loss: 0.8066 - val_acc: 0.7637 - lr: 0.0741\n",
      "Epoch 5/60\n",
      "307/307 [==============================] - 2s 5ms/step - loss: 0.8430 - acc: 0.7379 - val_loss: 0.7652 - val_acc: 0.7723 - lr: 0.0670\n",
      "Epoch 6/60\n",
      "307/307 [==============================] - 1s 5ms/step - loss: 0.8103 - acc: 0.7467 - val_loss: 0.7381 - val_acc: 0.7834 - lr: 0.0607\n",
      "Epoch 7/60\n",
      "307/307 [==============================] - 2s 5ms/step - loss: 0.7872 - acc: 0.7534 - val_loss: 0.7193 - val_acc: 0.7871 - lr: 0.0549\n",
      "Epoch 8/60\n",
      "307/307 [==============================] - 2s 5ms/step - loss: 0.7743 - acc: 0.7584 - val_loss: 0.7058 - val_acc: 0.7916 - lr: 0.0497\n",
      "Epoch 9/60\n",
      "307/307 [==============================] - 2s 5ms/step - loss: 0.7623 - acc: 0.7608 - val_loss: 0.6952 - val_acc: 0.7951 - lr: 0.0449\n",
      "Epoch 10/60\n",
      "307/307 [==============================] - 2s 6ms/step - loss: 0.7529 - acc: 0.7667 - val_loss: 0.6871 - val_acc: 0.7972 - lr: 0.0407\n",
      "Epoch 11/60\n",
      "307/307 [==============================] - 2s 5ms/step - loss: 0.7467 - acc: 0.7678 - val_loss: 0.6805 - val_acc: 0.7996 - lr: 0.0368\n",
      "Epoch 12/60\n",
      "307/307 [==============================] - 2s 5ms/step - loss: 0.7403 - acc: 0.7706 - val_loss: 0.6751 - val_acc: 0.8013 - lr: 0.0333\n",
      "Epoch 13/60\n",
      "307/307 [==============================] - 2s 5ms/step - loss: 0.7354 - acc: 0.7724 - val_loss: 0.6708 - val_acc: 0.8027 - lr: 0.0301\n",
      "Epoch 14/60\n",
      "307/307 [==============================] - 2s 5ms/step - loss: 0.7304 - acc: 0.7738 - val_loss: 0.6673 - val_acc: 0.8038 - lr: 0.0273\n",
      "Epoch 15/60\n",
      "307/307 [==============================] - 2s 5ms/step - loss: 0.7285 - acc: 0.7733 - val_loss: 0.6644 - val_acc: 0.8045 - lr: 0.0247\n",
      "Epoch 16/60\n",
      "307/307 [==============================] - 2s 5ms/step - loss: 0.7252 - acc: 0.7753 - val_loss: 0.6619 - val_acc: 0.8054 - lr: 0.0223\n",
      "Epoch 17/60\n",
      "307/307 [==============================] - 2s 5ms/step - loss: 0.7234 - acc: 0.7755 - val_loss: 0.6598 - val_acc: 0.8061 - lr: 0.0202\n",
      "Epoch 18/60\n",
      "307/307 [==============================] - 2s 5ms/step - loss: 0.7211 - acc: 0.7761 - val_loss: 0.6580 - val_acc: 0.8066 - lr: 0.0183\n",
      "Epoch 19/60\n",
      "307/307 [==============================] - 2s 5ms/step - loss: 0.7207 - acc: 0.7752 - val_loss: 0.6565 - val_acc: 0.8067 - lr: 0.0165\n",
      "Epoch 20/60\n",
      "307/307 [==============================] - 2s 5ms/step - loss: 0.7208 - acc: 0.7764 - val_loss: 0.6552 - val_acc: 0.8073 - lr: 0.0150\n",
      "Epoch 21/60\n",
      "307/307 [==============================] - 2s 5ms/step - loss: 0.7191 - acc: 0.7759 - val_loss: 0.6541 - val_acc: 0.8075 - lr: 0.0135\n",
      "Epoch 22/60\n",
      "307/307 [==============================] - 2s 5ms/step - loss: 0.7154 - acc: 0.7782 - val_loss: 0.6531 - val_acc: 0.8080 - lr: 0.0122\n",
      "Epoch 23/60\n",
      "307/307 [==============================] - 2s 5ms/step - loss: 0.7162 - acc: 0.7801 - val_loss: 0.6523 - val_acc: 0.8083 - lr: 0.0111\n",
      "Epoch 24/60\n",
      "307/307 [==============================] - 2s 5ms/step - loss: 0.7157 - acc: 0.7770 - val_loss: 0.6516 - val_acc: 0.8085 - lr: 0.0100\n",
      "Epoch 25/60\n",
      "307/307 [==============================] - 2s 5ms/step - loss: 0.7154 - acc: 0.7774 - val_loss: 0.6510 - val_acc: 0.8087 - lr: 0.0091\n",
      "Epoch 26/60\n",
      "307/307 [==============================] - 2s 5ms/step - loss: 0.7145 - acc: 0.7778 - val_loss: 0.6505 - val_acc: 0.8090 - lr: 0.0082\n",
      "Epoch 27/60\n",
      "307/307 [==============================] - 2s 5ms/step - loss: 0.7136 - acc: 0.7798 - val_loss: 0.6500 - val_acc: 0.8091 - lr: 0.0074\n",
      "Epoch 28/60\n",
      "307/307 [==============================] - 2s 5ms/step - loss: 0.7142 - acc: 0.7787 - val_loss: 0.6496 - val_acc: 0.8092 - lr: 0.0067\n",
      "Epoch 29/60\n",
      "307/307 [==============================] - 2s 5ms/step - loss: 0.7122 - acc: 0.7770 - val_loss: 0.6493 - val_acc: 0.8094 - lr: 0.0061\n",
      "Epoch 30/60\n",
      "307/307 [==============================] - 2s 5ms/step - loss: 0.7126 - acc: 0.7786 - val_loss: 0.6490 - val_acc: 0.8094 - lr: 0.0055\n",
      "Epoch 31/60\n",
      "307/307 [==============================] - 1s 5ms/step - loss: 0.7108 - acc: 0.7808 - val_loss: 0.6487 - val_acc: 0.8095 - lr: 0.0050\n",
      "Epoch 32/60\n",
      "307/307 [==============================] - 2s 5ms/step - loss: 0.7116 - acc: 0.7799 - val_loss: 0.6485 - val_acc: 0.8096 - lr: 0.0045\n",
      "Epoch 33/60\n",
      "307/307 [==============================] - 2s 5ms/step - loss: 0.7127 - acc: 0.7786 - val_loss: 0.6483 - val_acc: 0.8096 - lr: 0.0041\n",
      "Epoch 34/60\n",
      "307/307 [==============================] - 2s 5ms/step - loss: 0.7115 - acc: 0.7783 - val_loss: 0.6481 - val_acc: 0.8098 - lr: 0.0037\n",
      "Epoch 35/60\n",
      "307/307 [==============================] - 2s 5ms/step - loss: 0.7107 - acc: 0.7812 - val_loss: 0.6479 - val_acc: 0.8098 - lr: 0.0033\n",
      "Epoch 36/60\n",
      "307/307 [==============================] - 2s 5ms/step - loss: 0.7113 - acc: 0.7787 - val_loss: 0.6478 - val_acc: 0.8098 - lr: 0.0030\n",
      "Epoch 37/60\n",
      "307/307 [==============================] - 2s 5ms/step - loss: 0.7122 - acc: 0.7794 - val_loss: 0.6477 - val_acc: 0.8097 - lr: 0.0027\n",
      "Epoch 38/60\n",
      "307/307 [==============================] - 2s 5ms/step - loss: 0.7106 - acc: 0.7801 - val_loss: 0.6476 - val_acc: 0.8097 - lr: 0.0025\n",
      "Epoch 39/60\n",
      "307/307 [==============================] - 2s 5ms/step - loss: 0.7117 - acc: 0.7799 - val_loss: 0.6475 - val_acc: 0.8099 - lr: 0.0022\n",
      "Epoch 40/60\n",
      "307/307 [==============================] - 2s 5ms/step - loss: 0.7103 - acc: 0.7797 - val_loss: 0.6474 - val_acc: 0.8100 - lr: 0.0020\n",
      "Epoch 41/60\n",
      "307/307 [==============================] - 2s 5ms/step - loss: 0.7088 - acc: 0.7813 - val_loss: 0.6473 - val_acc: 0.8100 - lr: 0.0018\n",
      "Epoch 42/60\n",
      "307/307 [==============================] - 2s 5ms/step - loss: 0.7093 - acc: 0.7798 - val_loss: 0.6472 - val_acc: 0.8101 - lr: 0.0017\n",
      "Epoch 43/60\n",
      "307/307 [==============================] - 2s 5ms/step - loss: 0.7095 - acc: 0.7815 - val_loss: 0.6472 - val_acc: 0.8101 - lr: 0.0015\n",
      "Epoch 44/60\n",
      "307/307 [==============================] - 2s 7ms/step - loss: 0.7111 - acc: 0.7794 - val_loss: 0.6471 - val_acc: 0.8101 - lr: 0.0014\n",
      "Epoch 45/60\n",
      "307/307 [==============================] - 2s 5ms/step - loss: 0.7111 - acc: 0.7807 - val_loss: 0.6471 - val_acc: 0.8101 - lr: 0.0012\n",
      "Epoch 46/60\n",
      "307/307 [==============================] - 2s 5ms/step - loss: 0.7107 - acc: 0.7802 - val_loss: 0.6471 - val_acc: 0.8101 - lr: 0.0011\n",
      "Epoch 47/60\n",
      "307/307 [==============================] - 2s 5ms/step - loss: 0.7096 - acc: 0.7802 - val_loss: 0.6470 - val_acc: 0.8101 - lr: 0.0010\n",
      "Epoch 48/60\n",
      "307/307 [==============================] - 2s 5ms/step - loss: 0.7112 - acc: 0.7795 - val_loss: 0.6470 - val_acc: 0.8101 - lr: 9.0953e-04\n",
      "Epoch 49/60\n",
      "307/307 [==============================] - 2s 5ms/step - loss: 0.7095 - acc: 0.7793 - val_loss: 0.6470 - val_acc: 0.8101 - lr: 8.2297e-04\n",
      "Epoch 50/60\n",
      "307/307 [==============================] - 2s 8ms/step - loss: 0.7126 - acc: 0.7796 - val_loss: 0.6469 - val_acc: 0.8101 - lr: 7.4466e-04\n",
      "Epoch 51/60\n",
      "307/307 [==============================] - 2s 6ms/step - loss: 0.7109 - acc: 0.7791 - val_loss: 0.6469 - val_acc: 0.8101 - lr: 6.7379e-04\n",
      "Epoch 52/60\n",
      "307/307 [==============================] - 2s 5ms/step - loss: 0.7112 - acc: 0.7796 - val_loss: 0.6469 - val_acc: 0.8101 - lr: 6.0967e-04\n",
      "Epoch 53/60\n",
      "307/307 [==============================] - 2s 5ms/step - loss: 0.7113 - acc: 0.7801 - val_loss: 0.6469 - val_acc: 0.8101 - lr: 5.5166e-04\n",
      "Epoch 54/60\n",
      "307/307 [==============================] - 2s 5ms/step - loss: 0.7114 - acc: 0.7792 - val_loss: 0.6469 - val_acc: 0.8101 - lr: 4.9916e-04\n",
      "Epoch 55/60\n",
      "307/307 [==============================] - 2s 5ms/step - loss: 0.7110 - acc: 0.7794 - val_loss: 0.6469 - val_acc: 0.8101 - lr: 4.5166e-04\n",
      "Epoch 56/60\n",
      "307/307 [==============================] - 2s 5ms/step - loss: 0.7107 - acc: 0.7801 - val_loss: 0.6468 - val_acc: 0.8101 - lr: 4.0868e-04\n",
      "Epoch 57/60\n",
      "307/307 [==============================] - 2s 5ms/step - loss: 0.7095 - acc: 0.7805 - val_loss: 0.6468 - val_acc: 0.8101 - lr: 3.6979e-04\n",
      "Epoch 58/60\n",
      "307/307 [==============================] - 2s 5ms/step - loss: 0.7094 - acc: 0.7806 - val_loss: 0.6468 - val_acc: 0.8101 - lr: 3.3460e-04\n",
      "Epoch 59/60\n",
      "307/307 [==============================] - 2s 5ms/step - loss: 0.7104 - acc: 0.7793 - val_loss: 0.6468 - val_acc: 0.8101 - lr: 3.0276e-04\n",
      "Epoch 60/60\n",
      "307/307 [==============================] - 2s 5ms/step - loss: 0.7101 - acc: 0.7802 - val_loss: 0.6468 - val_acc: 0.8101 - lr: 2.7394e-04\n"
     ]
    }
   ],
   "source": [
    "\n",
    "# solution\n",
    "epochs = 60\n",
    "learning_rate = 0.1 # initial learning rate\n",
    "decay_rate = 0.1\n",
    "momentum = 0.8\n",
    "\n",
    "# define the optimizer function\n",
    "sgd = tf.keras.optimizers.SGD(learning_rate=learning_rate, momentum=momentum, decay=decay_rate, nesterov=False)\n",
    "\n",
    "input_dim = x_train.shape[1]\n",
    "num_classes = 10\n",
    "batch_size = 196\n",
    "\n",
    "# build the model\n",
    "exponential_decay_model = Sequential()\n",
    "exponential_decay_model.add(Dense(64, activation='relu', kernel_initializer='uniform', input_dim = input_dim))\n",
    "exponential_decay_model.add(Dropout(0.1))\n",
    "exponential_decay_model.add(Dense(64, kernel_initializer='uniform', activation='relu'))\n",
    "exponential_decay_model.add(Dense(num_classes, kernel_initializer='uniform', activation=tf.nn.softmax))\n",
    "\n",
    "# compile the model\n",
    "exponential_decay_model.compile(loss='categorical_crossentropy', \n",
    "                                optimizer=sgd, \n",
    "                                metrics=['acc'])\n",
    "                                \n",
    "# define the learning rate change \n",
    "def exp_decay(epoch):\n",
    "    lrate = learning_rate * np.exp(-decay_rate*epoch)\n",
    "    return lrate\n",
    "    \n",
    "# learning schedule callback\n",
    "loss_history = History()\n",
    "lr_rate = LearningRateScheduler(exp_decay)\n",
    "callbacks_list = [loss_history, lr_rate]\n",
    "\n",
    "# you invoke the LearningRateScheduler during the .fit() phase\n",
    "exponential_decay_model_history = exponential_decay_model.fit(x_train, y_train,\n",
    "                                    batch_size=batch_size,\n",
    "                                    epochs=epochs,\n",
    "                                    callbacks=callbacks_list,\n",
    "                                    verbose=1,\n",
    "                                    validation_data=(x_test, y_test))"
   ]
  },
  {
   "cell_type": "markdown",
   "metadata": {
    "hidden": true,
    "id": "-XA1eFWaYF8a"
   },
   "source": [
    "**b. Evaluate the performance**\n",
    "\n",
    "Plot the learning rate and loss functions as functions of the number of epochs"
   ]
  },
  {
   "cell_type": "code",
   "execution_count": null,
   "metadata": {
    "colab": {
     "base_uri": "https://localhost:8080/",
     "height": 795
    },
    "hidden": true,
    "id": "dE2PDL1-YR62",
    "outputId": "676573a2-1c40-40a7-e79c-da3b3e10c2ba"
   },
   "outputs": [
    {
     "data": {
      "image/png": "[encoded data removed]",
      "text/plain": [
       "<Figure size 720x432 with 1 Axes>"
      ]
     },
     "metadata": {
      "needs_background": "light"
     },
     "output_type": "display_data"
    },
    {
     "data": {
      "image/png": "[encoded data removed]",
      "text/plain": [
       "<Figure size 720x432 with 1 Axes>"
      ]
     },
     "metadata": {
      "needs_background": "light"
     },
     "output_type": "display_data"
    }
   ],
   "source": [
    "# Plot the loss function\n",
    "fig, ax = plt.subplots(1, 1, figsize=(10,6))\n",
    "ax.plot(np.sqrt(exponential_decay_model_history.history['loss']), 'r', label='train')\n",
    "ax.plot(np.sqrt(exponential_decay_model_history.history['val_loss']), 'b' ,label='val')\n",
    "ax.set_xlabel(r'Epoch', fontsize=20)\n",
    "ax.set_ylabel(r'Loss', fontsize=20)\n",
    "ax.legend()\n",
    "ax.tick_params(labelsize=20)\n",
    "\n",
    "# Plot the accuracy\n",
    "fig, ax = plt.subplots(1, 1, figsize=(10,6))\n",
    "ax.plot(np.sqrt(exponential_decay_model_history.history['acc']), 'r', label='train')\n",
    "ax.plot(np.sqrt(exponential_decay_model_history.history['val_acc']), 'b' ,label='val')\n",
    "ax.set_xlabel(r'Epoch', fontsize=20)\n",
    "ax.set_ylabel(r'Accuracy', fontsize=20)\n",
    "ax.legend()\n",
    "ax.tick_params(labelsize=20)"
   ]
  },
  {
   "cell_type": "markdown",
   "metadata": {
    "hidden": true,
    "id": "PckOSJXigkD3"
   },
   "source": [
    "**C. Result**\n",
    "\n",
    "The learning rate plot is incredibly smooth as it follows our predefined exponentially decaying function.\n",
    "\n",
    "This shows you that developing a learning rate scheduler can be a helpful way to improve neural network performance."
   ]
  },
  {
   "cell_type": "markdown",
   "metadata": {
    "heading_collapsed": true,
    "id": "bVmSxrnFguCP"
   },
   "source": [
    "# **7. Adjust optimizer and a loss function**\n",
    "\n"
   ]
  },
  {
   "cell_type": "markdown",
   "metadata": {
    "hidden": true,
    "id": "_aBdWfAP1dAJ"
   },
   "source": [
    "When constructing a model and using it to make our predictions, for example, to assign label scores to images (“cat”, “plane”, etc), we want to measure our success or failure by defining a “loss” function (or objective function). \n",
    "\n",
    "The goal of optimization is to efficiently calculate the parameters/weights that minimize this loss function. keras provides various types of loss functions.\n",
    "\n",
    "Sometimes the “loss” function measures the “distance”. We can define this “distance” between two data points in various ways suitable to the problem or dataset. The distance used depends on the data type and the specific problem that is being tackled. For example, in natural language processing (which analyses textual data), the Hamming distance is much more common to use.\n",
    "\n",
    "**Distance**\n",
    "- Euclidean\n",
    "- Manhattan\n",
    "- Hamming (for NLP. Measures distances between strings, for example. The Hamming distance of “carolin” and “cathrin” is 3.)\n",
    "\n",
    "**Loss functions**\n",
    "- MSE (for regression)\n",
    "- categorical cross-entropy (for multiclass classification)\n",
    "- binary cross entropy (for binary classification)"
   ]
  },
  {
   "cell_type": "markdown",
   "metadata": {
    "hidden": true,
    "id": "23eHHbT354rG"
   },
   "source": [
    "**a. Test different optimizer - RMSprop**"
   ]
  },
  {
   "cell_type": "code",
   "execution_count": 92,
   "metadata": {
    "hidden": true,
    "id": "-QCoYmbmiM4H"
   },
   "outputs": [],
   "source": [
    "# build the model\n",
    "input_dim = x_train.shape[1]\n",
    "\n",
    "model = Sequential()\n",
    "model.add(Dense(64, activation='relu', kernel_initializer='uniform', \n",
    "                input_dim = input_dim)) # fully-connected layer with 64 hidden units\n",
    "model.add(Dropout(0.1))\n",
    "model.add(Dense(64, kernel_initializer='uniform', activation=tf.nn.relu))\n",
    "model.add(Dense(num_classes, kernel_initializer='uniform', activation='softmax'))\n",
    "\n",
    "# defining the parameters for RMSprop (I used the keras defaults here)\n",
    "rms = tf.keras.optimizers.RMSprop(learning_rate=0.001, rho=0.9, epsilon=None, decay=0.0)\n",
    "\n",
    "model.compile(loss='categorical_crossentropy',\n",
    "              optimizer=rms,\n",
    "              metrics=['acc'])"
   ]
  },
  {
   "cell_type": "markdown",
   "metadata": {
    "hidden": true,
    "id": "iBud0gMg6T8m"
   },
   "source": [
    "**b. Train model**"
   ]
  },
  {
   "cell_type": "code",
   "execution_count": null,
   "metadata": {
    "colab": {
     "base_uri": "https://localhost:8080/"
    },
    "hidden": true,
    "id": "E6uQAe_v60rm",
    "outputId": "e8141d33-4cc9-4bc0-ef53-9937cfdf8dea"
   },
   "outputs": [
    {
     "name": "stdout",
     "output_type": "stream",
     "text": [
      "Epoch 1/60\n",
      "8572/8572 [==============================] - 17s 2ms/step - loss: 0.3364 - acc: 0.8979 - val_loss: 0.1543 - val_acc: 0.9531\n",
      "Epoch 2/60\n",
      "8572/8572 [==============================] - 18s 2ms/step - loss: 0.1682 - acc: 0.9488 - val_loss: 0.1339 - val_acc: 0.9592\n",
      "Epoch 3/60\n",
      "8572/8572 [==============================] - 18s 2ms/step - loss: 0.1488 - acc: 0.9536 - val_loss: 0.1270 - val_acc: 0.9607\n",
      "Epoch 4/60\n",
      "8572/8572 [==============================] - 16s 2ms/step - loss: 0.1363 - acc: 0.9584 - val_loss: 0.1215 - val_acc: 0.9625\n",
      "Epoch 5/60\n",
      "8572/8572 [==============================] - 18s 2ms/step - loss: 0.1293 - acc: 0.9599 - val_loss: 0.1201 - val_acc: 0.9622\n",
      "Epoch 6/60\n",
      "8572/8572 [==============================] - 17s 2ms/step - loss: 0.1241 - acc: 0.9613 - val_loss: 0.1183 - val_acc: 0.9627\n",
      "Epoch 7/60\n",
      "8572/8572 [==============================] - 16s 2ms/step - loss: 0.1207 - acc: 0.9624 - val_loss: 0.1133 - val_acc: 0.9645\n",
      "Epoch 8/60\n",
      "8572/8572 [==============================] - 18s 2ms/step - loss: 0.1185 - acc: 0.9633 - val_loss: 0.1138 - val_acc: 0.9641\n",
      "Epoch 9/60\n",
      "8572/8572 [==============================] - 22s 3ms/step - loss: 0.1160 - acc: 0.9642 - val_loss: 0.1115 - val_acc: 0.9652\n",
      "Epoch 10/60\n",
      "8572/8572 [==============================] - 22s 3ms/step - loss: 0.1128 - acc: 0.9642 - val_loss: 0.1119 - val_acc: 0.9659\n",
      "Epoch 11/60\n",
      "8572/8572 [==============================] - 20s 2ms/step - loss: 0.1084 - acc: 0.9662 - val_loss: 0.1113 - val_acc: 0.9647\n",
      "Epoch 12/60\n",
      "8572/8572 [==============================] - 18s 2ms/step - loss: 0.1089 - acc: 0.9657 - val_loss: 0.1102 - val_acc: 0.9652\n",
      "Epoch 13/60\n",
      "8572/8572 [==============================] - 20s 2ms/step - loss: 0.1077 - acc: 0.9660 - val_loss: 0.1090 - val_acc: 0.9649\n",
      "Epoch 14/60\n",
      "8572/8572 [==============================] - 19s 2ms/step - loss: 0.1079 - acc: 0.9663 - val_loss: 0.1094 - val_acc: 0.9657\n",
      "Epoch 15/60\n",
      "8572/8572 [==============================] - 19s 2ms/step - loss: 0.1062 - acc: 0.9672 - val_loss: 0.1086 - val_acc: 0.9661\n",
      "Epoch 16/60\n",
      "8572/8572 [==============================] - 18s 2ms/step - loss: 0.1036 - acc: 0.9670 - val_loss: 0.1072 - val_acc: 0.9660\n",
      "Epoch 17/60\n",
      "8572/8572 [==============================] - 17s 2ms/step - loss: 0.1019 - acc: 0.9675 - val_loss: 0.1067 - val_acc: 0.9668\n",
      "Epoch 18/60\n",
      "8572/8572 [==============================] - 18s 2ms/step - loss: 0.1023 - acc: 0.9678 - val_loss: 0.1066 - val_acc: 0.9662\n",
      "Epoch 19/60\n",
      "8572/8572 [==============================] - 18s 2ms/step - loss: 0.1018 - acc: 0.9682 - val_loss: 0.1059 - val_acc: 0.9667\n",
      "Epoch 20/60\n",
      "8572/8572 [==============================] - 17s 2ms/step - loss: 0.1002 - acc: 0.9683 - val_loss: 0.1056 - val_acc: 0.9672\n",
      "Epoch 21/60\n",
      "8572/8572 [==============================] - 17s 2ms/step - loss: 0.1000 - acc: 0.9685 - val_loss: 0.1057 - val_acc: 0.9668\n",
      "Epoch 22/60\n",
      "8572/8572 [==============================] - 22s 3ms/step - loss: 0.1001 - acc: 0.9692 - val_loss: 0.1057 - val_acc: 0.9663\n",
      "Epoch 23/60\n",
      "8572/8572 [==============================] - 17s 2ms/step - loss: 0.0990 - acc: 0.9693 - val_loss: 0.1053 - val_acc: 0.9668\n",
      "Epoch 24/60\n",
      "8572/8572 [==============================] - 18s 2ms/step - loss: 0.0994 - acc: 0.9690 - val_loss: 0.1042 - val_acc: 0.9674\n",
      "Epoch 25/60\n",
      "8572/8572 [==============================] - 18s 2ms/step - loss: 0.0971 - acc: 0.9694 - val_loss: 0.1045 - val_acc: 0.9677\n",
      "Epoch 26/60\n",
      "8572/8572 [==============================] - 17s 2ms/step - loss: 0.0974 - acc: 0.9696 - val_loss: 0.1044 - val_acc: 0.9675\n",
      "Epoch 27/60\n",
      "8572/8572 [==============================] - 18s 2ms/step - loss: 0.0979 - acc: 0.9694 - val_loss: 0.1043 - val_acc: 0.9670\n",
      "Epoch 28/60\n",
      "8572/8572 [==============================] - 20s 2ms/step - loss: 0.0966 - acc: 0.9704 - val_loss: 0.1039 - val_acc: 0.9674\n",
      "Epoch 29/60\n",
      "8572/8572 [==============================] - 17s 2ms/step - loss: 0.0929 - acc: 0.9704 - val_loss: 0.1042 - val_acc: 0.9669\n",
      "Epoch 30/60\n",
      "8572/8572 [==============================] - 17s 2ms/step - loss: 0.0950 - acc: 0.9701 - val_loss: 0.1037 - val_acc: 0.9673\n",
      "Epoch 31/60\n",
      "8572/8572 [==============================] - 21s 2ms/step - loss: 0.0934 - acc: 0.9707 - val_loss: 0.1038 - val_acc: 0.9674\n",
      "Epoch 32/60\n",
      "8572/8572 [==============================] - 18s 2ms/step - loss: 0.0928 - acc: 0.9703 - val_loss: 0.1033 - val_acc: 0.9670\n",
      "Epoch 33/60\n",
      "8572/8572 [==============================] - 17s 2ms/step - loss: 0.0936 - acc: 0.9705 - val_loss: 0.1035 - val_acc: 0.9669\n",
      "Epoch 34/60\n",
      "8572/8572 [==============================] - 18s 2ms/step - loss: 0.0929 - acc: 0.9709 - val_loss: 0.1027 - val_acc: 0.9676\n",
      "Epoch 35/60\n",
      "8572/8572 [==============================] - 18s 2ms/step - loss: 0.0922 - acc: 0.9714 - val_loss: 0.1026 - val_acc: 0.9672\n",
      "Epoch 36/60\n",
      "8572/8572 [==============================] - 17s 2ms/step - loss: 0.0918 - acc: 0.9708 - val_loss: 0.1030 - val_acc: 0.9671\n",
      "Epoch 37/60\n",
      "8572/8572 [==============================] - 22s 3ms/step - loss: 0.0901 - acc: 0.9718 - val_loss: 0.1022 - val_acc: 0.9676\n",
      "Epoch 38/60\n",
      "8572/8572 [==============================] - 19s 2ms/step - loss: 0.0911 - acc: 0.9720 - val_loss: 0.1031 - val_acc: 0.9671\n",
      "Epoch 39/60\n",
      "8572/8572 [==============================] - 18s 2ms/step - loss: 0.0924 - acc: 0.9712 - val_loss: 0.1023 - val_acc: 0.9677\n",
      "Epoch 40/60\n",
      "8572/8572 [==============================] - 17s 2ms/step - loss: 0.0909 - acc: 0.9714 - val_loss: 0.1017 - val_acc: 0.9679\n",
      "Epoch 41/60\n",
      "8572/8572 [==============================] - 17s 2ms/step - loss: 0.0908 - acc: 0.9711 - val_loss: 0.1023 - val_acc: 0.9675\n",
      "Epoch 42/60\n",
      "8572/8572 [==============================] - 19s 2ms/step - loss: 0.0922 - acc: 0.9713 - val_loss: 0.1023 - val_acc: 0.9679\n",
      "Epoch 43/60\n",
      "8572/8572 [==============================] - 18s 2ms/step - loss: 0.0913 - acc: 0.9711 - val_loss: 0.1019 - val_acc: 0.9681\n",
      "Epoch 44/60\n",
      "8572/8572 [==============================] - 18s 2ms/step - loss: 0.0911 - acc: 0.9716 - val_loss: 0.1020 - val_acc: 0.9677\n",
      "Epoch 45/60\n",
      "8572/8572 [==============================] - 20s 2ms/step - loss: 0.0909 - acc: 0.9713 - val_loss: 0.1018 - val_acc: 0.9678\n",
      "Epoch 46/60\n",
      "8572/8572 [==============================] - 19s 2ms/step - loss: 0.0907 - acc: 0.9715 - val_loss: 0.1018 - val_acc: 0.9679\n",
      "Epoch 47/60\n",
      "8572/8572 [==============================] - 19s 2ms/step - loss: 0.0893 - acc: 0.9718 - val_loss: 0.1016 - val_acc: 0.9678\n",
      "Epoch 48/60\n",
      "8572/8572 [==============================] - 20s 2ms/step - loss: 0.0886 - acc: 0.9723 - val_loss: 0.1012 - val_acc: 0.9682\n",
      "Epoch 49/60\n",
      "8572/8572 [==============================] - 17s 2ms/step - loss: 0.0893 - acc: 0.9722 - val_loss: 0.1013 - val_acc: 0.9677\n",
      "Epoch 50/60\n",
      "8572/8572 [==============================] - 19s 2ms/step - loss: 0.0888 - acc: 0.9724 - val_loss: 0.1011 - val_acc: 0.9684\n",
      "Epoch 51/60\n",
      "8572/8572 [==============================] - 17s 2ms/step - loss: 0.0901 - acc: 0.9719 - val_loss: 0.1012 - val_acc: 0.9684\n",
      "Epoch 52/60\n",
      "8572/8572 [==============================] - 20s 2ms/step - loss: 0.0882 - acc: 0.9724 - val_loss: 0.1013 - val_acc: 0.9680\n",
      "Epoch 53/60\n",
      "8572/8572 [==============================] - 19s 2ms/step - loss: 0.0899 - acc: 0.9714 - val_loss: 0.1008 - val_acc: 0.9685\n",
      "Epoch 54/60\n",
      "8572/8572 [==============================] - 19s 2ms/step - loss: 0.0893 - acc: 0.9714 - val_loss: 0.1007 - val_acc: 0.9688\n",
      "Epoch 55/60\n",
      "8572/8572 [==============================] - 19s 2ms/step - loss: 0.0896 - acc: 0.9718 - val_loss: 0.1007 - val_acc: 0.9690\n",
      "Epoch 56/60\n",
      "8572/8572 [==============================] - 22s 3ms/step - loss: 0.0881 - acc: 0.9725 - val_loss: 0.1006 - val_acc: 0.9683\n",
      "Epoch 57/60\n",
      "8572/8572 [==============================] - 20s 2ms/step - loss: 0.0882 - acc: 0.9722 - val_loss: 0.1007 - val_acc: 0.9685\n",
      "Epoch 58/60\n",
      "8572/8572 [==============================] - 17s 2ms/step - loss: 0.0885 - acc: 0.9721 - val_loss: 0.1008 - val_acc: 0.9680\n",
      "Epoch 59/60\n",
      "8572/8572 [==============================] - 19s 2ms/step - loss: 0.0862 - acc: 0.9722 - val_loss: 0.1009 - val_acc: 0.9688\n",
      "Epoch 60/60\n",
      "8572/8572 [==============================] - 18s 2ms/step - loss: 0.0869 - acc: 0.9724 - val_loss: 0.1010 - val_acc: 0.9687\n",
      "CPU times: user 20min 18s, sys: 1min 15s, total: 21min 33s\n",
      "Wall time: 19min 22s\n"
     ]
    }
   ],
   "source": [
    "%%time\n",
    "# Fit the model\n",
    "batch_size = int(input_dim/100)\n",
    "\n",
    "rms_model_history = model.fit(x_train, y_train,\n",
    "                    batch_size=batch_size,\n",
    "                    epochs=epochs,\n",
    "                    verbose=1,\n",
    "                    validation_data=(x_test, y_test))"
   ]
  },
  {
   "cell_type": "markdown",
   "metadata": {
    "hidden": true,
    "id": "gJT85hrxGaFE"
   },
   "source": [
    "**c. Evalute performance**"
   ]
  },
  {
   "cell_type": "code",
   "execution_count": null,
   "metadata": {
    "colab": {
     "base_uri": "https://localhost:8080/",
     "height": 795
    },
    "hidden": true,
    "id": "b7arFgsYFx7n",
    "outputId": "99cadd32-65d0-4030-eca7-56b4c7c6c56c"
   },
   "outputs": [
    {
     "data": {
      "image/png": "[encoded data removed]",
      "text/plain": [
       "<Figure size 720x432 with 1 Axes>"
      ]
     },
     "metadata": {
      "needs_background": "light"
     },
     "output_type": "display_data"
    },
    {
     "data": {
      "image/png": "[encoded data removed]",
      "text/plain": [
       "<Figure size 720x432 with 1 Axes>"
      ]
     },
     "metadata": {
      "needs_background": "light"
     },
     "output_type": "display_data"
    }
   ],
   "source": [
    "# Plot the loss function\n",
    "fig, ax = plt.subplots(1, 1, figsize=(10,6))\n",
    "ax.plot(np.sqrt(rms_model_history.history['loss']), 'r', label='train')\n",
    "ax.plot(np.sqrt(rms_model_history.history['val_loss']), 'b' ,label='val')\n",
    "ax.set_xlabel(r'Epoch', fontsize=20)\n",
    "ax.set_ylabel(r'Loss', fontsize=20)\n",
    "ax.legend()\n",
    "ax.tick_params(labelsize=20)\n",
    "\n",
    "# Plot the accuracy\n",
    "fig, ax = plt.subplots(1, 1, figsize=(10,6))\n",
    "ax.plot(np.sqrt(rms_model_history.history['acc']), 'r', label='train')\n",
    "ax.plot(np.sqrt(rms_model_history.history['val_acc']), 'b' ,label='val')\n",
    "ax.set_xlabel(r'Epoch', fontsize=20)\n",
    "ax.set_ylabel(r'Accuracy', fontsize=20)\n",
    "ax.legend()\n",
    "ax.tick_params(labelsize=20)"
   ]
  },
  {
   "cell_type": "markdown",
   "metadata": {
    "heading_collapsed": true,
    "id": "GNEg0bXy-He8"
   },
   "source": [
    "# **8. Adjust batch size and number of epochs**"
   ]
  },
  {
   "cell_type": "markdown",
   "metadata": {
    "hidden": true,
    "id": "or6LaoMi9_iP"
   },
   "source": [
    "The batch size defines the number of samples that will be propagated through the network.\n",
    "\n",
    "For instance, let’s say you have 1000 training samples and you want to set up a batch_size equal to 100. The algorithm takes the first 100 samples (from 1st to 100th) from the training dataset and trains the network. Next, it takes the second 100 samples (from 101st to 200th) and trains the network again. We can keep doing this procedure until we have propagated all samples through the network.\n",
    "\n",
    "**Advantages of using a batch size < number of all samples:**\n",
    "\n",
    "It requires less memory. Since you train the network using fewer samples, the overall training procedure requires less memory. That’s especially important if you are not able to fit the whole dataset in your machine’s memory.\n",
    "Typically networks train faster with mini-batches. That’s because we update the weights after each propagation.\n",
    "\n",
    "**Disadvantages of using a batch size < number of all samples:**\n",
    "\n",
    "The smaller the batch the less accurate the estimate of the gradient will be.\n",
    "The number of epochs is a hyperparameter that defines the number times that the learning algorithm will work trough the entire training dataset.\n",
    "One epoch means that each sample in the training dataset has had an opportunity to update the internal model parameters. An epoch is comprised of one or more batches. There are no hard and fast rules for selecting batch sizes or the number of epochs, and there is no guarantee that increasing the number of epochs provides a better result than a lesser number."
   ]
  },
  {
   "cell_type": "code",
   "execution_count": null,
   "metadata": {
    "colab": {
     "base_uri": "https://localhost:8080/"
    },
    "hidden": true,
    "id": "hFkSMn_E_gPy",
    "outputId": "8288da97-5fc3-431c-84cd-5ca8740d305c"
   },
   "outputs": [
    {
     "name": "stdout",
     "output_type": "stream",
     "text": [
      "Epoch 1/60\n",
      "77/77 [==============================] - 1s 11ms/step - loss: 0.0868 - acc: 0.9732 - val_loss: 0.1010 - val_acc: 0.9687\n",
      "Epoch 2/60\n",
      "77/77 [==============================] - 1s 11ms/step - loss: 0.0882 - acc: 0.9728 - val_loss: 0.1010 - val_acc: 0.9687\n",
      "Epoch 3/60\n",
      "77/77 [==============================] - 1s 11ms/step - loss: 0.0856 - acc: 0.9732 - val_loss: 0.1010 - val_acc: 0.9687\n",
      "Epoch 4/60\n",
      "77/77 [==============================] - 1s 11ms/step - loss: 0.0858 - acc: 0.9729 - val_loss: 0.1009 - val_acc: 0.9686\n",
      "Epoch 5/60\n",
      "77/77 [==============================] - 1s 11ms/step - loss: 0.0863 - acc: 0.9726 - val_loss: 0.1009 - val_acc: 0.9686\n",
      "Epoch 6/60\n",
      "77/77 [==============================] - 1s 11ms/step - loss: 0.0853 - acc: 0.9732 - val_loss: 0.1009 - val_acc: 0.9686\n",
      "Epoch 7/60\n",
      "77/77 [==============================] - 1s 11ms/step - loss: 0.0859 - acc: 0.9730 - val_loss: 0.1009 - val_acc: 0.9686\n",
      "Epoch 8/60\n",
      "77/77 [==============================] - 1s 11ms/step - loss: 0.0876 - acc: 0.9724 - val_loss: 0.1009 - val_acc: 0.9686\n",
      "Epoch 9/60\n",
      "77/77 [==============================] - 1s 11ms/step - loss: 0.0860 - acc: 0.9729 - val_loss: 0.1009 - val_acc: 0.9686\n",
      "Epoch 10/60\n",
      "77/77 [==============================] - 1s 10ms/step - loss: 0.0882 - acc: 0.9724 - val_loss: 0.1009 - val_acc: 0.9686\n",
      "Epoch 11/60\n",
      "77/77 [==============================] - 1s 10ms/step - loss: 0.0864 - acc: 0.9730 - val_loss: 0.1009 - val_acc: 0.9686\n",
      "Epoch 12/60\n",
      "77/77 [==============================] - 1s 10ms/step - loss: 0.0856 - acc: 0.9732 - val_loss: 0.1008 - val_acc: 0.9688\n",
      "Epoch 13/60\n",
      "77/77 [==============================] - 1s 10ms/step - loss: 0.0867 - acc: 0.9732 - val_loss: 0.1008 - val_acc: 0.9687\n",
      "Epoch 14/60\n",
      "77/77 [==============================] - 1s 11ms/step - loss: 0.0864 - acc: 0.9725 - val_loss: 0.1008 - val_acc: 0.9687\n",
      "Epoch 15/60\n",
      "77/77 [==============================] - 1s 11ms/step - loss: 0.0863 - acc: 0.9729 - val_loss: 0.1008 - val_acc: 0.9687\n",
      "Epoch 16/60\n",
      "77/77 [==============================] - 1s 11ms/step - loss: 0.0872 - acc: 0.9728 - val_loss: 0.1008 - val_acc: 0.9687\n",
      "Epoch 17/60\n",
      "77/77 [==============================] - 1s 11ms/step - loss: 0.0861 - acc: 0.9738 - val_loss: 0.1008 - val_acc: 0.9687\n",
      "Epoch 18/60\n",
      "77/77 [==============================] - 1s 11ms/step - loss: 0.0853 - acc: 0.9732 - val_loss: 0.1008 - val_acc: 0.9687\n",
      "Epoch 19/60\n",
      "77/77 [==============================] - 1s 10ms/step - loss: 0.0861 - acc: 0.9732 - val_loss: 0.1008 - val_acc: 0.9687\n",
      "Epoch 20/60\n",
      "77/77 [==============================] - 1s 10ms/step - loss: 0.0867 - acc: 0.9726 - val_loss: 0.1008 - val_acc: 0.9687\n",
      "Epoch 21/60\n",
      "77/77 [==============================] - 1s 11ms/step - loss: 0.0863 - acc: 0.9728 - val_loss: 0.1008 - val_acc: 0.9687\n",
      "Epoch 22/60\n",
      "77/77 [==============================] - 1s 11ms/step - loss: 0.0883 - acc: 0.9721 - val_loss: 0.1008 - val_acc: 0.9687\n",
      "Epoch 23/60\n",
      "77/77 [==============================] - 1s 11ms/step - loss: 0.0873 - acc: 0.9723 - val_loss: 0.1008 - val_acc: 0.9687\n",
      "Epoch 24/60\n",
      "77/77 [==============================] - 1s 11ms/step - loss: 0.0849 - acc: 0.9729 - val_loss: 0.1007 - val_acc: 0.9687\n",
      "Epoch 25/60\n",
      "77/77 [==============================] - 1s 15ms/step - loss: 0.0862 - acc: 0.9732 - val_loss: 0.1007 - val_acc: 0.9687\n",
      "Epoch 26/60\n",
      "77/77 [==============================] - 1s 18ms/step - loss: 0.0866 - acc: 0.9722 - val_loss: 0.1007 - val_acc: 0.9687\n",
      "Epoch 27/60\n",
      "77/77 [==============================] - 1s 17ms/step - loss: 0.0864 - acc: 0.9732 - val_loss: 0.1007 - val_acc: 0.9687\n",
      "Epoch 28/60\n",
      "77/77 [==============================] - 1s 18ms/step - loss: 0.0859 - acc: 0.9732 - val_loss: 0.1007 - val_acc: 0.9687\n",
      "Epoch 29/60\n",
      "77/77 [==============================] - 1s 18ms/step - loss: 0.0863 - acc: 0.9728 - val_loss: 0.1007 - val_acc: 0.9687\n",
      "Epoch 30/60\n",
      "77/77 [==============================] - 1s 19ms/step - loss: 0.0860 - acc: 0.9728 - val_loss: 0.1007 - val_acc: 0.9687\n",
      "Epoch 31/60\n",
      "77/77 [==============================] - 1s 11ms/step - loss: 0.0873 - acc: 0.9725 - val_loss: 0.1007 - val_acc: 0.9688\n",
      "Epoch 32/60\n",
      "77/77 [==============================] - 1s 11ms/step - loss: 0.0861 - acc: 0.9729 - val_loss: 0.1007 - val_acc: 0.9688\n",
      "Epoch 33/60\n",
      "77/77 [==============================] - 1s 11ms/step - loss: 0.0860 - acc: 0.9728 - val_loss: 0.1007 - val_acc: 0.9688\n",
      "Epoch 34/60\n",
      "77/77 [==============================] - 1s 11ms/step - loss: 0.0861 - acc: 0.9734 - val_loss: 0.1007 - val_acc: 0.9687\n",
      "Epoch 35/60\n",
      "77/77 [==============================] - 1s 11ms/step - loss: 0.0878 - acc: 0.9725 - val_loss: 0.1007 - val_acc: 0.9687\n",
      "Epoch 36/60\n",
      "77/77 [==============================] - 1s 15ms/step - loss: 0.0874 - acc: 0.9724 - val_loss: 0.1007 - val_acc: 0.9687\n",
      "Epoch 37/60\n",
      "77/77 [==============================] - 1s 16ms/step - loss: 0.0866 - acc: 0.9729 - val_loss: 0.1007 - val_acc: 0.9687\n",
      "Epoch 38/60\n",
      "77/77 [==============================] - 1s 17ms/step - loss: 0.0870 - acc: 0.9728 - val_loss: 0.1007 - val_acc: 0.9687\n",
      "Epoch 39/60\n",
      "77/77 [==============================] - 1s 15ms/step - loss: 0.0876 - acc: 0.9723 - val_loss: 0.1007 - val_acc: 0.9687\n",
      "Epoch 40/60\n",
      "77/77 [==============================] - 1s 15ms/step - loss: 0.0879 - acc: 0.9724 - val_loss: 0.1007 - val_acc: 0.9687\n",
      "Epoch 41/60\n",
      "77/77 [==============================] - 1s 15ms/step - loss: 0.0854 - acc: 0.9732 - val_loss: 0.1007 - val_acc: 0.9687\n",
      "Epoch 42/60\n",
      "77/77 [==============================] - 1s 18ms/step - loss: 0.0844 - acc: 0.9736 - val_loss: 0.1007 - val_acc: 0.9687\n",
      "Epoch 43/60\n",
      "77/77 [==============================] - 1s 15ms/step - loss: 0.0855 - acc: 0.9732 - val_loss: 0.1007 - val_acc: 0.9687\n",
      "Epoch 44/60\n",
      "77/77 [==============================] - 1s 11ms/step - loss: 0.0872 - acc: 0.9725 - val_loss: 0.1007 - val_acc: 0.9687\n",
      "Epoch 45/60\n",
      "77/77 [==============================] - 1s 11ms/step - loss: 0.0858 - acc: 0.9729 - val_loss: 0.1007 - val_acc: 0.9687\n",
      "Epoch 46/60\n",
      "77/77 [==============================] - 1s 10ms/step - loss: 0.0874 - acc: 0.9725 - val_loss: 0.1007 - val_acc: 0.9687\n",
      "Epoch 47/60\n",
      "77/77 [==============================] - 1s 11ms/step - loss: 0.0862 - acc: 0.9724 - val_loss: 0.1007 - val_acc: 0.9687\n",
      "Epoch 48/60\n",
      "77/77 [==============================] - 1s 11ms/step - loss: 0.0846 - acc: 0.9739 - val_loss: 0.1007 - val_acc: 0.9687\n",
      "Epoch 49/60\n",
      "77/77 [==============================] - 1s 11ms/step - loss: 0.0855 - acc: 0.9732 - val_loss: 0.1007 - val_acc: 0.9687\n",
      "Epoch 50/60\n",
      "77/77 [==============================] - 1s 11ms/step - loss: 0.0843 - acc: 0.9733 - val_loss: 0.1007 - val_acc: 0.9687\n",
      "Epoch 51/60\n",
      "77/77 [==============================] - 1s 11ms/step - loss: 0.0871 - acc: 0.9728 - val_loss: 0.1007 - val_acc: 0.9687\n",
      "Epoch 52/60\n",
      "77/77 [==============================] - 1s 11ms/step - loss: 0.0854 - acc: 0.9732 - val_loss: 0.1007 - val_acc: 0.9687\n",
      "Epoch 53/60\n",
      "77/77 [==============================] - 1s 17ms/step - loss: 0.0877 - acc: 0.9724 - val_loss: 0.1007 - val_acc: 0.9687\n",
      "Epoch 54/60\n",
      "77/77 [==============================] - 1s 16ms/step - loss: 0.0857 - acc: 0.9728 - val_loss: 0.1007 - val_acc: 0.9687\n",
      "Epoch 55/60\n",
      "77/77 [==============================] - 1s 15ms/step - loss: 0.0871 - acc: 0.9726 - val_loss: 0.1006 - val_acc: 0.9687\n",
      "Epoch 56/60\n",
      "77/77 [==============================] - 1s 13ms/step - loss: 0.0864 - acc: 0.9734 - val_loss: 0.1006 - val_acc: 0.9687\n",
      "Epoch 57/60\n",
      "77/77 [==============================] - 1s 11ms/step - loss: 0.0873 - acc: 0.9721 - val_loss: 0.1006 - val_acc: 0.9687\n",
      "Epoch 58/60\n",
      "77/77 [==============================] - 1s 11ms/step - loss: 0.0876 - acc: 0.9725 - val_loss: 0.1006 - val_acc: 0.9687\n",
      "Epoch 59/60\n",
      "77/77 [==============================] - 1s 10ms/step - loss: 0.0877 - acc: 0.9721 - val_loss: 0.1006 - val_acc: 0.9686\n",
      "Epoch 60/60\n",
      "77/77 [==============================] - 1s 11ms/step - loss: 0.0869 - acc: 0.9726 - val_loss: 0.1006 - val_acc: 0.9686\n",
      "CPU times: user 1min 13s, sys: 3.24 s, total: 1min 16s\n",
      "Wall time: 1min 22s\n"
     ]
    }
   ],
   "source": [
    "%%time\n",
    "batch_size = input_dim\n",
    "epochs = 60\n",
    "\n",
    "model_history = model.fit(x_train, y_train,\n",
    "                    batch_size=batch_size,\n",
    "                    epochs=epochs,\n",
    "                    verbose=1,\n",
    "                    validation_data=(x_test, y_test))"
   ]
  },
  {
   "cell_type": "code",
   "execution_count": null,
   "metadata": {
    "colab": {
     "base_uri": "https://localhost:8080/",
     "height": 829
    },
    "hidden": true,
    "id": "8lEjK5p6_tlY",
    "outputId": "393e5b95-c36b-4041-80d7-985cd73e51f4"
   },
   "outputs": [
    {
     "name": "stdout",
     "output_type": "stream",
     "text": [
      "Test loss: 0.10064812004566193\n",
      "Test accuracy: 0.9685999751091003\n"
     ]
    },
    {
     "data": {
      "image/png": "[encoded data removed]",
      "text/plain": [
       "<Figure size 720x432 with 1 Axes>"
      ]
     },
     "metadata": {
      "needs_background": "light"
     },
     "output_type": "display_data"
    },
    {
     "data": {
      "image/png": "[encoded data removed]",
      "text/plain": [
       "<Figure size 720x432 with 1 Axes>"
      ]
     },
     "metadata": {
      "needs_background": "light"
     },
     "output_type": "display_data"
    }
   ],
   "source": [
    "score = model.evaluate(x_test, y_test, verbose=0)\n",
    "print('Test loss:', score[0])\n",
    "print('Test accuracy:', score[1])\n",
    "\n",
    "fig, ax = plt.subplots(1, 1, figsize=(10,6))\n",
    "ax.plot(np.sqrt(model_history.history['acc']), 'r', label='train_acc')\n",
    "ax.plot(np.sqrt(model_history.history['val_acc']), 'b' ,label='val_acc')\n",
    "ax.set_xlabel(r'Epoch', fontsize=20)\n",
    "ax.set_ylabel(r'Accuracy', fontsize=20)\n",
    "ax.legend()\n",
    "ax.tick_params(labelsize=20)\n",
    "\n",
    "fig, ax = plt.subplots(1, 1, figsize=(10,6))\n",
    "ax.plot(np.sqrt(model_history.history['loss']), 'r', label='train')\n",
    "ax.plot(np.sqrt(model_history.history['val_loss']), 'b' ,label='val')\n",
    "ax.set_xlabel(r'Epoch', fontsize=20)\n",
    "ax.set_ylabel(r'Loss', fontsize=20)\n",
    "ax.legend()\n",
    "ax.tick_params(labelsize=20)"
   ]
  },
  {
   "cell_type": "markdown",
   "metadata": {
    "heading_collapsed": true,
    "id": "4ZS_IqznBlta"
   },
   "source": [
    "# **9. Random restarts**"
   ]
  },
  {
   "cell_type": "markdown",
   "metadata": {
    "hidden": true,
    "id": "_Tey7kZJCGwH"
   },
   "source": [
    "This method does not seem to have an implementation in keras. It can be done easily by altering keras.callbacks.LearningRateScheduler. I will leave this as an exercise for the reader, but it essentially involves resetting the learning rate after a specified number of epochs for a finite number of times."
   ]
  },
  {
   "cell_type": "markdown",
   "metadata": {
    "heading_collapsed": true,
    "id": "gSl2GH2KCwYB"
   },
   "source": [
    "# **10. Tuning Hyperparameters using cross-validation**\n"
   ]
  },
  {
   "cell_type": "markdown",
   "metadata": {
    "hidden": true,
    "id": "IgfZzSfgDeN1"
   },
   "source": [
    "Now instead of trying different values by hand, we will use GridSearchCV from Scikit-Learn to try out several values for our hyperparameters and compare the results.\n",
    "\n",
    "To do cross-validation with keras we will use the wrappers for the Scikit-Learn API. They provide a way to use Sequential Keras models (single-input only) as part of your Scikit-Learn workflow.\n",
    "\n",
    "There are two wrappers available:\n",
    "- keras.wrappers.scikit_learn.KerasClassifier(build_fn=None, **sk_params), which implements the Scikit-Learn classifier interface,\n",
    "- keras.wrappers.scikit_learn.KerasRegressor(build_fn=None, **sk_params), which implements the Scikit-Learn regressor interface."
   ]
  },
  {
   "cell_type": "code",
   "execution_count": null,
   "metadata": {
    "hidden": true,
    "id": "JJrSf0-NDAGB"
   },
   "outputs": [],
   "source": [
    "import numpy\n",
    "from sklearn.model_selection import GridSearchCV\n",
    "from keras.wrappers.scikit_learn import KerasClassifier"
   ]
  },
  {
   "cell_type": "markdown",
   "metadata": {
    "hidden": true,
    "id": "Y-v5sq4fGUyx"
   },
   "source": []
  },
  {
   "cell_type": "markdown",
   "metadata": {
    "hidden": true,
    "id": "Fi1KSi2rDZh7"
   },
   "source": [
    "**a. Try different weight initializations**\n",
    "\n",
    "The first hyperparameter we will try to optimize via cross-validation is different weight initializations."
   ]
  },
  {
   "cell_type": "code",
   "execution_count": 93,
   "metadata": {
    "hidden": true,
    "id": "uNcYfR8ZEVu8"
   },
   "outputs": [],
   "source": [
    "# let's create a function that creates the model (required for KerasClassifier) \n",
    "# while accepting the hyperparameters we want to tune \n",
    "# we also pass some default values such as optimizer='rmsprop'\n",
    "\n",
    "def create_model(init_mode='uniform'):\n",
    "    \n",
    "    # define model\n",
    "    model = Sequential()\n",
    "    model.add(Dense(64, kernel_initializer=init_mode, activation=tf.nn.relu, input_dim=784)) \n",
    "    model.add(Dropout(0.1))\n",
    "    model.add(Dense(64, kernel_initializer=init_mode, activation=tf.nn.relu))\n",
    "    model.add(Dense(10, kernel_initializer=init_mode, activation=tf.nn.softmax))\n",
    "    \n",
    "    # compile model\n",
    "    model.compile(loss='categorical_crossentropy',\n",
    "              optimizer=rms,\n",
    "              metrics=['accuracy'])\n",
    "    \n",
    "    return model"
   ]
  },
  {
   "cell_type": "code",
   "execution_count": 106,
   "metadata": {
    "colab": {
     "base_uri": "https://localhost:8080/"
    },
    "hidden": true,
    "id": "-nm47i3LErTD",
    "outputId": "5488bad3-9327-4921-e58d-c2c312c8fcba"
   },
   "outputs": [
    {
     "name": "stderr",
     "output_type": "stream",
     "text": [
      "/usr/local/lib/python3.7/dist-packages/ipykernel_launcher.py:7: DeprecationWarning: KerasClassifier is deprecated, use Sci-Keras (https://github.com/adriangb/scikeras) instead.\n",
      "  import sys\n",
      "/usr/local/lib/python3.7/dist-packages/joblib/externals/loky/process_executor.py:705: UserWarning: A worker stopped while some jobs were given to the executor. This can be caused by a too short worker timeout or by a memory leak.\n",
      "  \"timeout or by a memory leak.\", UserWarning\n"
     ]
    },
    {
     "name": "stdout",
     "output_type": "stream",
     "text": [
      "Epoch 1/10\n",
      "469/469 [==============================] - 2s 3ms/step - loss: 0.3934 - accuracy: 0.8881\n",
      "Epoch 2/10\n",
      "469/469 [==============================] - 1s 3ms/step - loss: 0.1868 - accuracy: 0.9451\n",
      "Epoch 3/10\n",
      "469/469 [==============================] - 1s 3ms/step - loss: 0.1413 - accuracy: 0.9582\n",
      "Epoch 4/10\n",
      "469/469 [==============================] - 2s 3ms/step - loss: 0.1177 - accuracy: 0.9650\n",
      "Epoch 5/10\n",
      "469/469 [==============================] - 2s 3ms/step - loss: 0.1029 - accuracy: 0.9689\n",
      "Epoch 6/10\n",
      "469/469 [==============================] - 2s 3ms/step - loss: 0.0928 - accuracy: 0.9722\n",
      "Epoch 7/10\n",
      "469/469 [==============================] - 1s 3ms/step - loss: 0.0845 - accuracy: 0.9744\n",
      "Epoch 8/10\n",
      "469/469 [==============================] - 1s 3ms/step - loss: 0.0785 - accuracy: 0.9760\n",
      "Epoch 9/10\n",
      "469/469 [==============================] - 1s 3ms/step - loss: 0.0733 - accuracy: 0.9773\n",
      "Epoch 10/10\n",
      "469/469 [==============================] - 1s 3ms/step - loss: 0.0675 - accuracy: 0.9789\n",
      "CPU times: user 23.7 s, sys: 1.68 s, total: 25.4 s\n",
      "Wall time: 4min 20s\n"
     ]
    }
   ],
   "source": [
    "%%time\n",
    "seed = 7\n",
    "numpy.random.seed(seed)\n",
    "batch_size = 128\n",
    "epochs = 10\n",
    "\n",
    "model_CV = tf.keras.wrappers.scikit_learn.KerasClassifier(build_fn=create_model, epochs=epochs, \n",
    "                           batch_size=batch_size, verbose=1)\n",
    "# define the grid search parameters\n",
    "init_mode = ['uniform', 'lecun_uniform', 'normal', 'zero', \n",
    "             'glorot_normal', 'glorot_uniform', 'he_normal', 'he_uniform']\n",
    "\n",
    "param_grid = dict(init_mode=init_mode)\n",
    "grid = GridSearchCV(estimator=model_CV, param_grid=param_grid, n_jobs=-1, cv=3)\n",
    "grid_result = grid.fit(x_train, y_train)"
   ]
  },
  {
   "cell_type": "code",
   "execution_count": 107,
   "metadata": {
    "colab": {
     "base_uri": "https://localhost:8080/"
    },
    "hidden": true,
    "id": "Cbpl89sMEvcJ",
    "outputId": "567fd4df-3110-4e14-f55f-8dd8b164341c"
   },
   "outputs": [
    {
     "name": "stdout",
     "output_type": "stream",
     "text": [
      "Best Accuracy for 0.9694166779518127 using {'init_mode': 'glorot_uniform'}\n",
      " mean=0.9659, std=0.001158 using {'init_mode': 'uniform'}\n",
      " mean=0.9669, std=0.00138 using {'init_mode': 'lecun_uniform'}\n",
      " mean=0.9659, std=0.001731 using {'init_mode': 'normal'}\n",
      " mean=0.1124, std=0.002416 using {'init_mode': 'zero'}\n",
      " mean=0.9668, std=0.0009681 using {'init_mode': 'glorot_normal'}\n",
      " mean=0.9694, std=0.001185 using {'init_mode': 'glorot_uniform'}\n",
      " mean=0.9673, std=0.001432 using {'init_mode': 'he_normal'}\n",
      " mean=0.9686, std=0.001564 using {'init_mode': 'he_uniform'}\n"
     ]
    }
   ],
   "source": [
    "# print results\n",
    "print(f'Best Accuracy for {grid_result.best_score_} using {grid_result.best_params_}')\n",
    "means = grid_result.cv_results_['mean_test_score']\n",
    "stds = grid_result.cv_results_['std_test_score']\n",
    "params = grid_result.cv_results_['params']\n",
    "for mean, stdev, param in zip(means, stds, params):\n",
    "    print(f' mean={mean:.4}, std={stdev:.4} using {param}')"
   ]
  },
  {
   "cell_type": "markdown",
   "metadata": {
    "hidden": true,
    "id": "NcXZJaXrDbAW"
   },
   "source": [
    "**b. Analyze results**\n",
    "\n",
    "We see that the best results are obtained either from the model using lecun_uniform initialization or glorot_uniform initialization and that we can achieve close to 97% accuracy with our network."
   ]
  },
  {
   "cell_type": "markdown",
   "metadata": {
    "hidden": true,
    "id": "-BpZnmQ-E_mR"
   },
   "source": [
    "**c. Save best neural network model as JSON**\n",
    "\n",
    "The Hierarchical Data Format (HDF5) is a data storage format for storing large arrays of data including values for the weights in a neural network.\n",
    "You can install HDF5 Python module: pip install h5py\n",
    "Keras gives you the ability to describe and save any model using the JSON format."
   ]
  },
  {
   "cell_type": "code",
   "execution_count": 98,
   "metadata": {
    "colab": {
     "base_uri": "https://localhost:8080/"
    },
    "hidden": true,
    "id": "eQOYjrSCFeLb",
    "outputId": "9ab7a12d-6038-4131-c083-e020ad56cfdf"
   },
   "outputs": [
    {
     "name": "stdout",
     "output_type": "stream",
     "text": [
      "Model saved\n",
      "Model loaded\n"
     ]
    }
   ],
   "source": [
    "from keras.models import model_from_json\n",
    "\n",
    "# serialize model to JSON\n",
    "model_json = model.to_json()\n",
    "\n",
    "with open(\"model.json\", \"w\") as json_file:\n",
    "    json_file.write(model_json)\n",
    "\n",
    "# save weights to HDF5\n",
    "model.save_weights(\"model.h5\")\n",
    "print(\"Model saved\")\n",
    "\n",
    "# when you want to retrieve the model: load json and create model\n",
    "json_file = open('model.json', 'r')\n",
    "saved_model = json_file.read()\n",
    "# close the file as good practice\n",
    "json_file.close()\n",
    "model_from_json = model_from_json(saved_model)\n",
    "# load weights into new model\n",
    "model_from_json.load_weights(\"model.h5\")\n",
    "print(\"Model loaded\")"
   ]
  },
  {
   "cell_type": "markdown",
   "metadata": {
    "heading_collapsed": true,
    "id": "9LzUnG6VHuUQ"
   },
   "source": [
    "# **11. Cross-validate with more than one hyperparameter**"
   ]
  },
  {
   "cell_type": "markdown",
   "metadata": {
    "hidden": true,
    "id": "4bm_zXFeIXLz"
   },
   "source": [
    "Usually, we are not interested in looking at how just one parameter changes, but how multiple parameter changes can affect our results. We can do cross-validation with more than one parameters simultaneously, effectively trying out combinations of them.\n",
    "\n",
    "Note: Cross-validation in neural networks is computationally expensive. Think before you experiment! Multiply the number of features you are validating on to see how many combinations there are. Each combination is evaluated using the k-fold cross-validation (k is a parameter we choose).\n",
    "\n",
    "For example, we can choose to search for different values of:\n",
    "- batch size\n",
    "- number of epochs\n",
    "- initialization mode\n",
    "\n",
    "The choices are specified into a dictionary and passed to GridSearchCV.\n",
    "\n",
    "We will now perform a GridSearch for batch size, number of epochs and initializer combined."
   ]
  },
  {
   "cell_type": "code",
   "execution_count": 99,
   "metadata": {
    "hidden": true,
    "id": "4m-c-g-IIKPW"
   },
   "outputs": [],
   "source": [
    "# repeat some of the initial values here so we make sure they were not changed\n",
    "input_dim = x_train.shape[1]\n",
    "num_classes = 10\n",
    "\n",
    "# let's create a function that creates the model (required for KerasClassifier) \n",
    "# while accepting the hyperparameters we want to tune \n",
    "# we also pass some default values such as optimizer='rmsprop'\n",
    "def create_model_2(optimizer='rmsprop', init='glorot_uniform'):\n",
    "    model = Sequential()\n",
    "    model.add(Dense(64, input_dim=input_dim, kernel_initializer=init, activation='relu'))\n",
    "    model.add(Dropout(0.1))\n",
    "    model.add(Dense(64, kernel_initializer=init, activation=tf.nn.relu))\n",
    "    model.add(Dense(num_classes, kernel_initializer=init, activation=tf.nn.softmax))\n",
    "\n",
    "    # compile model\n",
    "    model.compile(loss='categorical_crossentropy', \n",
    "                  optimizer=optimizer, \n",
    "                  metrics=['accuracy'])\n",
    "\n",
    "    return model"
   ]
  },
  {
   "cell_type": "code",
   "execution_count": 102,
   "metadata": {
    "colab": {
     "base_uri": "https://localhost:8080/"
    },
    "hidden": true,
    "id": "TM_ziDXhI4-H",
    "outputId": "1c64a3fa-d119-4293-c913-ceaab6c9c34b"
   },
   "outputs": [
    {
     "name": "stderr",
     "output_type": "stream",
     "text": [
      "/usr/local/lib/python3.7/dist-packages/ipykernel_launcher.py:7: DeprecationWarning: KerasClassifier is deprecated, use Sci-Keras (https://github.com/adriangb/scikeras) instead.\n",
      "  import sys\n"
     ]
    },
    {
     "name": "stdout",
     "output_type": "stream",
     "text": [
      "Epoch 1/10\n",
      "313/313 [==============================] - 2s 4ms/step - loss: 0.4818 - accuracy: 0.8649\n",
      "Epoch 2/10\n",
      "313/313 [==============================] - 1s 4ms/step - loss: 0.2279 - accuracy: 0.9320\n",
      "Epoch 3/10\n",
      "313/313 [==============================] - 1s 4ms/step - loss: 0.1733 - accuracy: 0.9478\n",
      "Epoch 4/10\n",
      "313/313 [==============================] - 1s 3ms/step - loss: 0.1420 - accuracy: 0.9577\n",
      "Epoch 5/10\n",
      "313/313 [==============================] - 1s 4ms/step - loss: 0.1223 - accuracy: 0.9635\n",
      "Epoch 6/10\n",
      "313/313 [==============================] - 1s 4ms/step - loss: 0.1101 - accuracy: 0.9671\n",
      "Epoch 7/10\n",
      "313/313 [==============================] - 1s 4ms/step - loss: 0.0970 - accuracy: 0.9708\n",
      "Epoch 8/10\n",
      "313/313 [==============================] - 1s 4ms/step - loss: 0.0900 - accuracy: 0.9726\n",
      "Epoch 9/10\n",
      "313/313 [==============================] - 1s 3ms/step - loss: 0.0826 - accuracy: 0.9747\n",
      "Epoch 10/10\n",
      "313/313 [==============================] - 1s 4ms/step - loss: 0.0746 - accuracy: 0.9772\n",
      "157/157 [==============================] - 0s 2ms/step - loss: 0.1070 - accuracy: 0.9705\n",
      "Epoch 1/10\n",
      "313/313 [==============================] - 2s 3ms/step - loss: 0.4817 - accuracy: 0.8620\n",
      "Epoch 2/10\n",
      "313/313 [==============================] - 1s 3ms/step - loss: 0.2279 - accuracy: 0.9333\n",
      "Epoch 3/10\n",
      "313/313 [==============================] - 1s 3ms/step - loss: 0.1738 - accuracy: 0.9479\n",
      "Epoch 4/10\n",
      "313/313 [==============================] - 1s 3ms/step - loss: 0.1439 - accuracy: 0.9563\n",
      "Epoch 5/10\n",
      "313/313 [==============================] - 1s 4ms/step - loss: 0.1241 - accuracy: 0.9618\n",
      "Epoch 6/10\n",
      "313/313 [==============================] - 1s 3ms/step - loss: 0.1094 - accuracy: 0.9665\n",
      "Epoch 7/10\n",
      "313/313 [==============================] - 1s 4ms/step - loss: 0.0978 - accuracy: 0.9707\n",
      "Epoch 8/10\n",
      "313/313 [==============================] - 1s 4ms/step - loss: 0.0882 - accuracy: 0.9730\n",
      "Epoch 9/10\n",
      "313/313 [==============================] - 1s 4ms/step - loss: 0.0803 - accuracy: 0.9749\n",
      "Epoch 10/10\n",
      "313/313 [==============================] - 1s 3ms/step - loss: 0.0739 - accuracy: 0.9758\n",
      "157/157 [==============================] - 0s 2ms/step - loss: 0.1213 - accuracy: 0.9668\n",
      "Epoch 1/10\n",
      "313/313 [==============================] - 2s 3ms/step - loss: 0.4894 - accuracy: 0.8611\n",
      "Epoch 2/10\n",
      "313/313 [==============================] - 1s 4ms/step - loss: 0.2239 - accuracy: 0.9348\n",
      "Epoch 3/10\n",
      "313/313 [==============================] - 1s 4ms/step - loss: 0.1685 - accuracy: 0.9501\n",
      "Epoch 4/10\n",
      "313/313 [==============================] - 1s 4ms/step - loss: 0.1380 - accuracy: 0.9588\n",
      "Epoch 5/10\n",
      "313/313 [==============================] - 1s 3ms/step - loss: 0.1183 - accuracy: 0.9645\n",
      "Epoch 6/10\n",
      "313/313 [==============================] - 1s 4ms/step - loss: 0.1061 - accuracy: 0.9671\n",
      "Epoch 7/10\n",
      "313/313 [==============================] - 1s 3ms/step - loss: 0.0939 - accuracy: 0.9708\n",
      "Epoch 8/10\n",
      "313/313 [==============================] - 1s 3ms/step - loss: 0.0884 - accuracy: 0.9726\n",
      "Epoch 9/10\n",
      "313/313 [==============================] - 1s 3ms/step - loss: 0.0777 - accuracy: 0.9757\n",
      "Epoch 10/10\n",
      "313/313 [==============================] - 1s 3ms/step - loss: 0.0740 - accuracy: 0.9768\n",
      "157/157 [==============================] - 0s 2ms/step - loss: 0.1108 - accuracy: 0.9691\n",
      "Epoch 1/10\n",
      "313/313 [==============================] - 2s 4ms/step - loss: 0.6687 - accuracy: 0.8113\n",
      "Epoch 2/10\n",
      "313/313 [==============================] - 1s 4ms/step - loss: 0.3135 - accuracy: 0.9071\n",
      "Epoch 3/10\n",
      "313/313 [==============================] - 1s 4ms/step - loss: 0.2381 - accuracy: 0.9288\n",
      "Epoch 4/10\n",
      "313/313 [==============================] - 1s 4ms/step - loss: 0.1921 - accuracy: 0.9416\n",
      "Epoch 5/10\n",
      "313/313 [==============================] - 1s 4ms/step - loss: 0.1619 - accuracy: 0.9514\n",
      "Epoch 6/10\n",
      "313/313 [==============================] - 1s 4ms/step - loss: 0.1391 - accuracy: 0.9582\n",
      "Epoch 7/10\n",
      "313/313 [==============================] - 1s 4ms/step - loss: 0.1225 - accuracy: 0.9629\n",
      "Epoch 8/10\n",
      "313/313 [==============================] - 1s 4ms/step - loss: 0.1127 - accuracy: 0.9648\n",
      "Epoch 9/10\n",
      "313/313 [==============================] - 1s 4ms/step - loss: 0.1035 - accuracy: 0.9678\n",
      "Epoch 10/10\n",
      "313/313 [==============================] - 1s 4ms/step - loss: 0.0948 - accuracy: 0.9713\n",
      "157/157 [==============================] - 0s 2ms/step - loss: 0.1199 - accuracy: 0.9658\n",
      "Epoch 1/10\n",
      "313/313 [==============================] - 2s 4ms/step - loss: 0.6790 - accuracy: 0.8041\n",
      "Epoch 2/10\n",
      "313/313 [==============================] - 1s 4ms/step - loss: 0.3217 - accuracy: 0.9055\n",
      "Epoch 3/10\n",
      "313/313 [==============================] - 1s 4ms/step - loss: 0.2411 - accuracy: 0.9292\n",
      "Epoch 4/10\n",
      "313/313 [==============================] - 1s 3ms/step - loss: 0.1882 - accuracy: 0.9445\n",
      "Epoch 5/10\n",
      "313/313 [==============================] - 1s 3ms/step - loss: 0.1570 - accuracy: 0.9536\n",
      "Epoch 6/10\n",
      "313/313 [==============================] - 1s 4ms/step - loss: 0.1369 - accuracy: 0.9586\n",
      "Epoch 7/10\n",
      "313/313 [==============================] - 1s 3ms/step - loss: 0.1213 - accuracy: 0.9628\n",
      "Epoch 8/10\n",
      "313/313 [==============================] - 1s 3ms/step - loss: 0.1075 - accuracy: 0.9675\n",
      "Epoch 9/10\n",
      "313/313 [==============================] - 1s 3ms/step - loss: 0.0995 - accuracy: 0.9701\n",
      "Epoch 10/10\n",
      "313/313 [==============================] - 1s 3ms/step - loss: 0.0905 - accuracy: 0.9724\n",
      "157/157 [==============================] - 0s 2ms/step - loss: 0.1270 - accuracy: 0.9639\n",
      "Epoch 1/10\n",
      "313/313 [==============================] - 2s 3ms/step - loss: 0.6750 - accuracy: 0.8055\n",
      "Epoch 2/10\n",
      "313/313 [==============================] - 1s 3ms/step - loss: 0.3193 - accuracy: 0.9055\n",
      "Epoch 3/10\n",
      "313/313 [==============================] - 1s 3ms/step - loss: 0.2417 - accuracy: 0.9291\n",
      "Epoch 4/10\n",
      "313/313 [==============================] - 1s 3ms/step - loss: 0.1948 - accuracy: 0.9434\n",
      "Epoch 5/10\n",
      "313/313 [==============================] - 1s 3ms/step - loss: 0.1626 - accuracy: 0.9505\n",
      "Epoch 6/10\n",
      "313/313 [==============================] - 1s 3ms/step - loss: 0.1433 - accuracy: 0.9571\n",
      "Epoch 7/10\n",
      "313/313 [==============================] - 1s 3ms/step - loss: 0.1249 - accuracy: 0.9620\n",
      "Epoch 8/10\n",
      "313/313 [==============================] - 1s 3ms/step - loss: 0.1153 - accuracy: 0.9648\n",
      "Epoch 9/10\n",
      "313/313 [==============================] - 1s 3ms/step - loss: 0.1006 - accuracy: 0.9702\n",
      "Epoch 10/10\n",
      "313/313 [==============================] - 1s 3ms/step - loss: 0.0942 - accuracy: 0.9710\n",
      "157/157 [==============================] - 0s 2ms/step - loss: 0.1217 - accuracy: 0.9650\n",
      "Epoch 1/10\n",
      "313/313 [==============================] - 1s 3ms/step - loss: 0.4576 - accuracy: 0.8683\n",
      "Epoch 2/10\n",
      "313/313 [==============================] - 1s 3ms/step - loss: 0.2162 - accuracy: 0.9356\n",
      "Epoch 3/10\n",
      "313/313 [==============================] - 1s 3ms/step - loss: 0.1682 - accuracy: 0.9494\n",
      "Epoch 4/10\n",
      "313/313 [==============================] - 1s 3ms/step - loss: 0.1371 - accuracy: 0.9587\n",
      "Epoch 5/10\n",
      "313/313 [==============================] - 1s 3ms/step - loss: 0.1208 - accuracy: 0.9624\n",
      "Epoch 6/10\n",
      "313/313 [==============================] - 1s 3ms/step - loss: 0.1068 - accuracy: 0.9682\n",
      "Epoch 7/10\n",
      "313/313 [==============================] - 1s 3ms/step - loss: 0.0950 - accuracy: 0.9701\n",
      "Epoch 8/10\n",
      "313/313 [==============================] - 1s 3ms/step - loss: 0.0893 - accuracy: 0.9720\n",
      "Epoch 9/10\n",
      "313/313 [==============================] - 1s 3ms/step - loss: 0.0801 - accuracy: 0.9753\n",
      "Epoch 10/10\n",
      "313/313 [==============================] - 1s 3ms/step - loss: 0.0747 - accuracy: 0.9760\n",
      "157/157 [==============================] - 0s 2ms/step - loss: 0.1064 - accuracy: 0.9692\n",
      "Epoch 1/10\n",
      "313/313 [==============================] - 1s 3ms/step - loss: 0.4646 - accuracy: 0.8649\n",
      "Epoch 2/10\n",
      "313/313 [==============================] - 1s 3ms/step - loss: 0.2150 - accuracy: 0.9376\n",
      "Epoch 3/10\n",
      "313/313 [==============================] - 1s 3ms/step - loss: 0.1653 - accuracy: 0.9503\n",
      "Epoch 4/10\n",
      "313/313 [==============================] - 1s 3ms/step - loss: 0.1362 - accuracy: 0.9597\n",
      "Epoch 5/10\n",
      "313/313 [==============================] - 1s 3ms/step - loss: 0.1161 - accuracy: 0.9647\n",
      "Epoch 6/10\n",
      "313/313 [==============================] - 1s 3ms/step - loss: 0.1042 - accuracy: 0.9682\n",
      "Epoch 7/10\n",
      "313/313 [==============================] - 1s 3ms/step - loss: 0.0910 - accuracy: 0.9717\n",
      "Epoch 8/10\n",
      "313/313 [==============================] - 1s 3ms/step - loss: 0.0824 - accuracy: 0.9745\n",
      "Epoch 9/10\n",
      "313/313 [==============================] - 1s 3ms/step - loss: 0.0769 - accuracy: 0.9754\n",
      "Epoch 10/10\n",
      "313/313 [==============================] - 1s 3ms/step - loss: 0.0688 - accuracy: 0.9784\n",
      "157/157 [==============================] - 0s 2ms/step - loss: 0.1173 - accuracy: 0.9679\n",
      "Epoch 1/10\n",
      "313/313 [==============================] - 1s 3ms/step - loss: 0.4733 - accuracy: 0.8622\n",
      "Epoch 2/10\n",
      "313/313 [==============================] - 1s 3ms/step - loss: 0.2176 - accuracy: 0.9357\n",
      "Epoch 3/10\n",
      "313/313 [==============================] - 1s 3ms/step - loss: 0.1662 - accuracy: 0.9506\n",
      "Epoch 4/10\n",
      "313/313 [==============================] - 1s 3ms/step - loss: 0.1382 - accuracy: 0.9580\n",
      "Epoch 5/10\n",
      "313/313 [==============================] - 1s 3ms/step - loss: 0.1194 - accuracy: 0.9632\n",
      "Epoch 6/10\n",
      "313/313 [==============================] - 1s 3ms/step - loss: 0.1061 - accuracy: 0.9671\n",
      "Epoch 7/10\n",
      "313/313 [==============================] - 1s 3ms/step - loss: 0.0954 - accuracy: 0.9714\n",
      "Epoch 8/10\n",
      "313/313 [==============================] - 1s 3ms/step - loss: 0.0879 - accuracy: 0.9730\n",
      "Epoch 9/10\n",
      "313/313 [==============================] - 1s 3ms/step - loss: 0.0775 - accuracy: 0.9768\n",
      "Epoch 10/10\n",
      "313/313 [==============================] - 1s 3ms/step - loss: 0.0737 - accuracy: 0.9778\n",
      "157/157 [==============================] - 0s 2ms/step - loss: 0.1146 - accuracy: 0.9666\n",
      "Epoch 1/20\n",
      "313/313 [==============================] - 1s 3ms/step - loss: 0.4710 - accuracy: 0.8660\n",
      "Epoch 2/20\n",
      "313/313 [==============================] - 1s 3ms/step - loss: 0.2203 - accuracy: 0.9347\n",
      "Epoch 3/20\n",
      "313/313 [==============================] - 1s 3ms/step - loss: 0.1677 - accuracy: 0.9499\n",
      "Epoch 4/20\n",
      "313/313 [==============================] - 1s 3ms/step - loss: 0.1404 - accuracy: 0.9572\n",
      "Epoch 5/20\n",
      "313/313 [==============================] - 1s 3ms/step - loss: 0.1240 - accuracy: 0.9624\n",
      "Epoch 6/20\n",
      "313/313 [==============================] - 1s 3ms/step - loss: 0.1090 - accuracy: 0.9666\n",
      "Epoch 7/20\n",
      "313/313 [==============================] - 1s 3ms/step - loss: 0.0998 - accuracy: 0.9692\n",
      "Epoch 8/20\n",
      "313/313 [==============================] - 1s 3ms/step - loss: 0.0873 - accuracy: 0.9734\n",
      "Epoch 9/20\n",
      "313/313 [==============================] - 1s 3ms/step - loss: 0.0826 - accuracy: 0.9747\n",
      "Epoch 10/20\n",
      "313/313 [==============================] - 1s 3ms/step - loss: 0.0773 - accuracy: 0.9758\n",
      "Epoch 11/20\n",
      "313/313 [==============================] - 1s 3ms/step - loss: 0.0709 - accuracy: 0.9776\n",
      "Epoch 12/20\n",
      "313/313 [==============================] - 1s 3ms/step - loss: 0.0679 - accuracy: 0.9782\n",
      "Epoch 13/20\n",
      "313/313 [==============================] - 1s 3ms/step - loss: 0.0631 - accuracy: 0.9803\n",
      "Epoch 14/20\n",
      "313/313 [==============================] - 1s 3ms/step - loss: 0.0586 - accuracy: 0.9814\n",
      "Epoch 15/20\n",
      "313/313 [==============================] - 1s 3ms/step - loss: 0.0558 - accuracy: 0.9828\n",
      "Epoch 16/20\n",
      "313/313 [==============================] - 1s 3ms/step - loss: 0.0541 - accuracy: 0.9827\n",
      "Epoch 17/20\n",
      "313/313 [==============================] - 1s 3ms/step - loss: 0.0497 - accuracy: 0.9846\n",
      "Epoch 18/20\n",
      "313/313 [==============================] - 1s 3ms/step - loss: 0.0489 - accuracy: 0.9847\n",
      "Epoch 19/20\n",
      "313/313 [==============================] - 1s 3ms/step - loss: 0.0454 - accuracy: 0.9847\n",
      "Epoch 20/20\n",
      "313/313 [==============================] - 1s 3ms/step - loss: 0.0448 - accuracy: 0.9857\n",
      "157/157 [==============================] - 0s 2ms/step - loss: 0.1078 - accuracy: 0.9724\n",
      "Epoch 1/20\n",
      "313/313 [==============================] - 2s 3ms/step - loss: 0.4752 - accuracy: 0.8666\n",
      "Epoch 2/20\n",
      "313/313 [==============================] - 1s 3ms/step - loss: 0.2142 - accuracy: 0.9372\n",
      "Epoch 3/20\n",
      "313/313 [==============================] - 1s 3ms/step - loss: 0.1627 - accuracy: 0.9524\n",
      "Epoch 4/20\n",
      "313/313 [==============================] - 1s 3ms/step - loss: 0.1353 - accuracy: 0.9594\n",
      "Epoch 5/20\n",
      "313/313 [==============================] - 1s 4ms/step - loss: 0.1157 - accuracy: 0.9655\n",
      "Epoch 6/20\n",
      "313/313 [==============================] - 1s 4ms/step - loss: 0.1044 - accuracy: 0.9675\n",
      "Epoch 7/20\n",
      "313/313 [==============================] - 1s 4ms/step - loss: 0.0927 - accuracy: 0.9717\n",
      "Epoch 8/20\n",
      "313/313 [==============================] - 1s 3ms/step - loss: 0.0841 - accuracy: 0.9736\n",
      "Epoch 9/20\n",
      "313/313 [==============================] - 1s 3ms/step - loss: 0.0764 - accuracy: 0.9764\n",
      "Epoch 10/20\n",
      "313/313 [==============================] - 1s 3ms/step - loss: 0.0716 - accuracy: 0.9767\n",
      "Epoch 11/20\n",
      "313/313 [==============================] - 1s 4ms/step - loss: 0.0682 - accuracy: 0.9780\n",
      "Epoch 12/20\n",
      "313/313 [==============================] - 1s 3ms/step - loss: 0.0636 - accuracy: 0.9800\n",
      "Epoch 13/20\n",
      "313/313 [==============================] - 1s 3ms/step - loss: 0.0597 - accuracy: 0.9804\n",
      "Epoch 14/20\n",
      "313/313 [==============================] - 1s 3ms/step - loss: 0.0574 - accuracy: 0.9824\n",
      "Epoch 15/20\n",
      "313/313 [==============================] - 1s 4ms/step - loss: 0.0536 - accuracy: 0.9832\n",
      "Epoch 16/20\n",
      "313/313 [==============================] - 1s 4ms/step - loss: 0.0490 - accuracy: 0.9839\n",
      "Epoch 17/20\n",
      "313/313 [==============================] - 1s 4ms/step - loss: 0.0469 - accuracy: 0.9843\n",
      "Epoch 18/20\n",
      "313/313 [==============================] - 1s 4ms/step - loss: 0.0454 - accuracy: 0.9856\n",
      "Epoch 19/20\n",
      "313/313 [==============================] - 1s 4ms/step - loss: 0.0434 - accuracy: 0.9858\n",
      "Epoch 20/20\n",
      "313/313 [==============================] - 1s 4ms/step - loss: 0.0405 - accuracy: 0.9866\n",
      "157/157 [==============================] - 1s 2ms/step - loss: 0.1187 - accuracy: 0.9712\n",
      "Epoch 1/20\n",
      "313/313 [==============================] - 2s 4ms/step - loss: 0.4872 - accuracy: 0.8578\n",
      "Epoch 2/20\n",
      "313/313 [==============================] - 1s 4ms/step - loss: 0.2252 - accuracy: 0.9324\n",
      "Epoch 3/20\n",
      "313/313 [==============================] - 1s 4ms/step - loss: 0.1729 - accuracy: 0.9480\n",
      "Epoch 4/20\n",
      "313/313 [==============================] - 1s 4ms/step - loss: 0.1406 - accuracy: 0.9575\n",
      "Epoch 5/20\n",
      "313/313 [==============================] - 1s 4ms/step - loss: 0.1215 - accuracy: 0.9628\n",
      "Epoch 6/20\n",
      "313/313 [==============================] - 1s 4ms/step - loss: 0.1086 - accuracy: 0.9664\n",
      "Epoch 7/20\n",
      "313/313 [==============================] - 1s 4ms/step - loss: 0.0940 - accuracy: 0.9714\n",
      "Epoch 8/20\n",
      "313/313 [==============================] - 1s 4ms/step - loss: 0.0868 - accuracy: 0.9739\n",
      "Epoch 9/20\n",
      "313/313 [==============================] - 1s 4ms/step - loss: 0.0791 - accuracy: 0.9754\n",
      "Epoch 10/20\n",
      "313/313 [==============================] - 1s 4ms/step - loss: 0.0720 - accuracy: 0.9776\n",
      "Epoch 11/20\n",
      "313/313 [==============================] - 1s 4ms/step - loss: 0.0679 - accuracy: 0.9789\n",
      "Epoch 12/20\n",
      "313/313 [==============================] - 1s 4ms/step - loss: 0.0650 - accuracy: 0.9790\n",
      "Epoch 13/20\n",
      "313/313 [==============================] - 1s 4ms/step - loss: 0.0585 - accuracy: 0.9817\n",
      "Epoch 14/20\n",
      "313/313 [==============================] - 1s 4ms/step - loss: 0.0552 - accuracy: 0.9822\n",
      "Epoch 15/20\n",
      "313/313 [==============================] - 1s 4ms/step - loss: 0.0541 - accuracy: 0.9825\n",
      "Epoch 16/20\n",
      "313/313 [==============================] - 1s 4ms/step - loss: 0.0496 - accuracy: 0.9846\n",
      "Epoch 17/20\n",
      "313/313 [==============================] - 1s 4ms/step - loss: 0.0471 - accuracy: 0.9846\n",
      "Epoch 18/20\n",
      "313/313 [==============================] - 1s 4ms/step - loss: 0.0458 - accuracy: 0.9852\n",
      "Epoch 19/20\n",
      "313/313 [==============================] - 1s 4ms/step - loss: 0.0429 - accuracy: 0.9859\n",
      "Epoch 20/20\n",
      "313/313 [==============================] - 1s 4ms/step - loss: 0.0414 - accuracy: 0.9868\n",
      "157/157 [==============================] - 0s 2ms/step - loss: 0.1223 - accuracy: 0.9707\n",
      "Epoch 1/20\n",
      "313/313 [==============================] - 2s 4ms/step - loss: 0.6606 - accuracy: 0.8091\n",
      "Epoch 2/20\n",
      "313/313 [==============================] - 1s 4ms/step - loss: 0.3046 - accuracy: 0.9097\n",
      "Epoch 3/20\n",
      "313/313 [==============================] - 1s 4ms/step - loss: 0.2291 - accuracy: 0.9319\n",
      "Epoch 4/20\n",
      "313/313 [==============================] - 1s 4ms/step - loss: 0.1845 - accuracy: 0.9445\n",
      "Epoch 5/20\n",
      "313/313 [==============================] - 1s 4ms/step - loss: 0.1550 - accuracy: 0.9545\n",
      "Epoch 6/20\n",
      "313/313 [==============================] - 1s 4ms/step - loss: 0.1353 - accuracy: 0.9600\n",
      "Epoch 7/20\n",
      "313/313 [==============================] - 1s 4ms/step - loss: 0.1198 - accuracy: 0.9632\n",
      "Epoch 8/20\n",
      "313/313 [==============================] - 1s 4ms/step - loss: 0.1086 - accuracy: 0.9677\n",
      "Epoch 9/20\n",
      "313/313 [==============================] - 1s 4ms/step - loss: 0.0987 - accuracy: 0.9703\n",
      "Epoch 10/20\n",
      "313/313 [==============================] - 1s 4ms/step - loss: 0.0908 - accuracy: 0.9725\n",
      "Epoch 11/20\n",
      "313/313 [==============================] - 1s 4ms/step - loss: 0.0852 - accuracy: 0.9730\n",
      "Epoch 12/20\n",
      "313/313 [==============================] - 1s 4ms/step - loss: 0.0790 - accuracy: 0.9754\n",
      "Epoch 13/20\n",
      "313/313 [==============================] - 1s 4ms/step - loss: 0.0751 - accuracy: 0.9768\n",
      "Epoch 14/20\n",
      "313/313 [==============================] - 1s 4ms/step - loss: 0.0686 - accuracy: 0.9781\n",
      "Epoch 15/20\n",
      "313/313 [==============================] - 1s 4ms/step - loss: 0.0654 - accuracy: 0.9801\n",
      "Epoch 16/20\n",
      "313/313 [==============================] - 1s 4ms/step - loss: 0.0630 - accuracy: 0.9805\n",
      "Epoch 17/20\n",
      "313/313 [==============================] - 1s 4ms/step - loss: 0.0577 - accuracy: 0.9815\n",
      "Epoch 18/20\n",
      "313/313 [==============================] - 1s 4ms/step - loss: 0.0570 - accuracy: 0.9819\n",
      "Epoch 19/20\n",
      "313/313 [==============================] - 1s 4ms/step - loss: 0.0543 - accuracy: 0.9826\n",
      "Epoch 20/20\n",
      "313/313 [==============================] - 1s 4ms/step - loss: 0.0499 - accuracy: 0.9840\n",
      "157/157 [==============================] - 0s 2ms/step - loss: 0.1156 - accuracy: 0.9708\n",
      "Epoch 1/20\n",
      "313/313 [==============================] - 2s 4ms/step - loss: 0.6859 - accuracy: 0.7988\n",
      "Epoch 2/20\n",
      "313/313 [==============================] - 1s 4ms/step - loss: 0.3114 - accuracy: 0.9075\n",
      "Epoch 3/20\n",
      "313/313 [==============================] - 1s 4ms/step - loss: 0.2376 - accuracy: 0.9308\n",
      "Epoch 4/20\n",
      "313/313 [==============================] - 1s 4ms/step - loss: 0.1913 - accuracy: 0.9434\n",
      "Epoch 5/20\n",
      "313/313 [==============================] - 1s 4ms/step - loss: 0.1627 - accuracy: 0.9510\n",
      "Epoch 6/20\n",
      "313/313 [==============================] - 1s 4ms/step - loss: 0.1417 - accuracy: 0.9571\n",
      "Epoch 7/20\n",
      "313/313 [==============================] - 1s 4ms/step - loss: 0.1256 - accuracy: 0.9613\n",
      "Epoch 8/20\n",
      "313/313 [==============================] - 1s 4ms/step - loss: 0.1131 - accuracy: 0.9649\n",
      "Epoch 9/20\n",
      "313/313 [==============================] - 1s 4ms/step - loss: 0.1033 - accuracy: 0.9685\n",
      "Epoch 10/20\n",
      "313/313 [==============================] - 1s 4ms/step - loss: 0.0954 - accuracy: 0.9705\n",
      "Epoch 11/20\n",
      "313/313 [==============================] - 1s 4ms/step - loss: 0.0871 - accuracy: 0.9725\n",
      "Epoch 12/20\n",
      "313/313 [==============================] - 1s 4ms/step - loss: 0.0782 - accuracy: 0.9760\n",
      "Epoch 13/20\n",
      "313/313 [==============================] - 1s 4ms/step - loss: 0.0739 - accuracy: 0.9769\n",
      "Epoch 14/20\n",
      "313/313 [==============================] - 1s 4ms/step - loss: 0.0711 - accuracy: 0.9777\n",
      "Epoch 15/20\n",
      "313/313 [==============================] - 1s 4ms/step - loss: 0.0648 - accuracy: 0.9796\n",
      "Epoch 16/20\n",
      "313/313 [==============================] - 1s 4ms/step - loss: 0.0623 - accuracy: 0.9800\n",
      "Epoch 17/20\n",
      "313/313 [==============================] - 1s 4ms/step - loss: 0.0580 - accuracy: 0.9820\n",
      "Epoch 18/20\n",
      "313/313 [==============================] - 1s 4ms/step - loss: 0.0550 - accuracy: 0.9823\n",
      "Epoch 19/20\n",
      "313/313 [==============================] - 1s 4ms/step - loss: 0.0513 - accuracy: 0.9833\n",
      "Epoch 20/20\n",
      "313/313 [==============================] - 1s 4ms/step - loss: 0.0520 - accuracy: 0.9833\n",
      "157/157 [==============================] - 0s 2ms/step - loss: 0.1301 - accuracy: 0.9676\n",
      "Epoch 1/20\n",
      "313/313 [==============================] - 2s 4ms/step - loss: 0.6958 - accuracy: 0.7969\n",
      "Epoch 2/20\n",
      "313/313 [==============================] - 1s 4ms/step - loss: 0.3215 - accuracy: 0.9055\n",
      "Epoch 3/20\n",
      "313/313 [==============================] - 1s 4ms/step - loss: 0.2426 - accuracy: 0.9282\n",
      "Epoch 4/20\n",
      "313/313 [==============================] - 1s 4ms/step - loss: 0.1954 - accuracy: 0.9410\n",
      "Epoch 5/20\n",
      "313/313 [==============================] - 1s 4ms/step - loss: 0.1616 - accuracy: 0.9509\n",
      "Epoch 6/20\n",
      "313/313 [==============================] - 1s 4ms/step - loss: 0.1421 - accuracy: 0.9564\n",
      "Epoch 7/20\n",
      "313/313 [==============================] - 1s 4ms/step - loss: 0.1256 - accuracy: 0.9620\n",
      "Epoch 8/20\n",
      "313/313 [==============================] - 1s 3ms/step - loss: 0.1136 - accuracy: 0.9659\n",
      "Epoch 9/20\n",
      "313/313 [==============================] - 1s 4ms/step - loss: 0.1027 - accuracy: 0.9689\n",
      "Epoch 10/20\n",
      "313/313 [==============================] - 1s 4ms/step - loss: 0.0965 - accuracy: 0.9712\n",
      "Epoch 11/20\n",
      "313/313 [==============================] - 1s 4ms/step - loss: 0.0874 - accuracy: 0.9731\n",
      "Epoch 12/20\n",
      "313/313 [==============================] - 1s 4ms/step - loss: 0.0811 - accuracy: 0.9753\n",
      "Epoch 13/20\n",
      "313/313 [==============================] - 1s 4ms/step - loss: 0.0762 - accuracy: 0.9772\n",
      "Epoch 14/20\n",
      "313/313 [==============================] - 1s 4ms/step - loss: 0.0713 - accuracy: 0.9778\n",
      "Epoch 15/20\n",
      "313/313 [==============================] - 1s 4ms/step - loss: 0.0669 - accuracy: 0.9794\n",
      "Epoch 16/20\n",
      "313/313 [==============================] - 1s 4ms/step - loss: 0.0646 - accuracy: 0.9798\n",
      "Epoch 17/20\n",
      "313/313 [==============================] - 1s 4ms/step - loss: 0.0593 - accuracy: 0.9815\n",
      "Epoch 18/20\n",
      "313/313 [==============================] - 1s 4ms/step - loss: 0.0573 - accuracy: 0.9819\n",
      "Epoch 19/20\n",
      "313/313 [==============================] - 1s 4ms/step - loss: 0.0532 - accuracy: 0.9832\n",
      "Epoch 20/20\n",
      "313/313 [==============================] - 1s 4ms/step - loss: 0.0525 - accuracy: 0.9835\n",
      "157/157 [==============================] - 0s 2ms/step - loss: 0.1219 - accuracy: 0.9684\n",
      "Epoch 1/20\n",
      "313/313 [==============================] - 2s 3ms/step - loss: 0.4481 - accuracy: 0.8678\n",
      "Epoch 2/20\n",
      "313/313 [==============================] - 1s 4ms/step - loss: 0.2215 - accuracy: 0.9337\n",
      "Epoch 3/20\n",
      "313/313 [==============================] - 1s 4ms/step - loss: 0.1694 - accuracy: 0.9490\n",
      "Epoch 4/20\n",
      "313/313 [==============================] - 1s 3ms/step - loss: 0.1401 - accuracy: 0.9574\n",
      "Epoch 5/20\n",
      "313/313 [==============================] - 1s 3ms/step - loss: 0.1217 - accuracy: 0.9624\n",
      "Epoch 6/20\n",
      "313/313 [==============================] - 1s 3ms/step - loss: 0.1066 - accuracy: 0.9681\n",
      "Epoch 7/20\n",
      "313/313 [==============================] - 1s 3ms/step - loss: 0.0974 - accuracy: 0.9695\n",
      "Epoch 8/20\n",
      "313/313 [==============================] - 1s 3ms/step - loss: 0.0873 - accuracy: 0.9726\n",
      "Epoch 9/20\n",
      "313/313 [==============================] - 1s 3ms/step - loss: 0.0793 - accuracy: 0.9754\n",
      "Epoch 10/20\n",
      "313/313 [==============================] - 1s 3ms/step - loss: 0.0746 - accuracy: 0.9768\n",
      "Epoch 11/20\n",
      "313/313 [==============================] - 1s 3ms/step - loss: 0.0703 - accuracy: 0.9782\n",
      "Epoch 12/20\n",
      "313/313 [==============================] - 1s 3ms/step - loss: 0.0642 - accuracy: 0.9798\n",
      "Epoch 13/20\n",
      "313/313 [==============================] - 1s 3ms/step - loss: 0.0616 - accuracy: 0.9814\n",
      "Epoch 14/20\n",
      "313/313 [==============================] - 1s 3ms/step - loss: 0.0569 - accuracy: 0.9818\n",
      "Epoch 15/20\n",
      "313/313 [==============================] - 1s 3ms/step - loss: 0.0543 - accuracy: 0.9832\n",
      "Epoch 16/20\n",
      "313/313 [==============================] - 1s 3ms/step - loss: 0.0495 - accuracy: 0.9839\n",
      "Epoch 17/20\n",
      "313/313 [==============================] - 1s 3ms/step - loss: 0.0493 - accuracy: 0.9837\n",
      "Epoch 18/20\n",
      "313/313 [==============================] - 1s 3ms/step - loss: 0.0470 - accuracy: 0.9850\n",
      "Epoch 19/20\n",
      "313/313 [==============================] - 1s 3ms/step - loss: 0.0442 - accuracy: 0.9866\n",
      "Epoch 20/20\n",
      "313/313 [==============================] - 1s 3ms/step - loss: 0.0435 - accuracy: 0.9861\n",
      "157/157 [==============================] - 0s 2ms/step - loss: 0.1181 - accuracy: 0.9703\n",
      "Epoch 1/20\n",
      "313/313 [==============================] - 2s 3ms/step - loss: 0.4601 - accuracy: 0.8692\n",
      "Epoch 2/20\n",
      "313/313 [==============================] - 1s 3ms/step - loss: 0.2152 - accuracy: 0.9364\n",
      "Epoch 3/20\n",
      "313/313 [==============================] - 1s 3ms/step - loss: 0.1634 - accuracy: 0.9518\n",
      "Epoch 4/20\n",
      "313/313 [==============================] - 1s 3ms/step - loss: 0.1349 - accuracy: 0.9587\n",
      "Epoch 5/20\n",
      "313/313 [==============================] - 1s 3ms/step - loss: 0.1160 - accuracy: 0.9640\n",
      "Epoch 6/20\n",
      "313/313 [==============================] - 1s 3ms/step - loss: 0.1042 - accuracy: 0.9681\n",
      "Epoch 7/20\n",
      "313/313 [==============================] - 1s 3ms/step - loss: 0.0924 - accuracy: 0.9716\n",
      "Epoch 8/20\n",
      "313/313 [==============================] - 1s 3ms/step - loss: 0.0841 - accuracy: 0.9739\n",
      "Epoch 9/20\n",
      "313/313 [==============================] - 1s 3ms/step - loss: 0.0763 - accuracy: 0.9764\n",
      "Epoch 10/20\n",
      "313/313 [==============================] - 1s 3ms/step - loss: 0.0708 - accuracy: 0.9781\n",
      "Epoch 11/20\n",
      "313/313 [==============================] - 1s 3ms/step - loss: 0.0643 - accuracy: 0.9800\n",
      "Epoch 12/20\n",
      "313/313 [==============================] - 1s 3ms/step - loss: 0.0606 - accuracy: 0.9808\n",
      "Epoch 13/20\n",
      "313/313 [==============================] - 1s 3ms/step - loss: 0.0571 - accuracy: 0.9825\n",
      "Epoch 14/20\n",
      "313/313 [==============================] - 1s 3ms/step - loss: 0.0550 - accuracy: 0.9825\n",
      "Epoch 15/20\n",
      "313/313 [==============================] - 1s 3ms/step - loss: 0.0508 - accuracy: 0.9836\n",
      "Epoch 16/20\n",
      "313/313 [==============================] - 1s 3ms/step - loss: 0.0481 - accuracy: 0.9842\n",
      "Epoch 17/20\n",
      "313/313 [==============================] - 1s 3ms/step - loss: 0.0470 - accuracy: 0.9859\n",
      "Epoch 18/20\n",
      "313/313 [==============================] - 1s 3ms/step - loss: 0.0440 - accuracy: 0.9859\n",
      "Epoch 19/20\n",
      "313/313 [==============================] - 1s 3ms/step - loss: 0.0433 - accuracy: 0.9857\n",
      "Epoch 20/20\n",
      "313/313 [==============================] - 1s 3ms/step - loss: 0.0396 - accuracy: 0.9867\n",
      "157/157 [==============================] - 0s 2ms/step - loss: 0.1186 - accuracy: 0.9719\n",
      "Epoch 1/20\n",
      "313/313 [==============================] - 2s 3ms/step - loss: 0.4681 - accuracy: 0.8651\n",
      "Epoch 2/20\n",
      "313/313 [==============================] - 1s 3ms/step - loss: 0.2159 - accuracy: 0.9359\n",
      "Epoch 3/20\n",
      "313/313 [==============================] - 1s 3ms/step - loss: 0.1636 - accuracy: 0.9509\n",
      "Epoch 4/20\n",
      "313/313 [==============================] - 1s 3ms/step - loss: 0.1354 - accuracy: 0.9590\n",
      "Epoch 5/20\n",
      "313/313 [==============================] - 1s 3ms/step - loss: 0.1157 - accuracy: 0.9639\n",
      "Epoch 6/20\n",
      "313/313 [==============================] - 1s 3ms/step - loss: 0.1018 - accuracy: 0.9692\n",
      "Epoch 7/20\n",
      "313/313 [==============================] - 1s 3ms/step - loss: 0.0911 - accuracy: 0.9712\n",
      "Epoch 8/20\n",
      "313/313 [==============================] - 1s 4ms/step - loss: 0.0816 - accuracy: 0.9745\n",
      "Epoch 9/20\n",
      "313/313 [==============================] - 1s 4ms/step - loss: 0.0760 - accuracy: 0.9762\n",
      "Epoch 10/20\n",
      "313/313 [==============================] - 1s 3ms/step - loss: 0.0717 - accuracy: 0.9775\n",
      "Epoch 11/20\n",
      "313/313 [==============================] - 1s 3ms/step - loss: 0.0648 - accuracy: 0.9782\n",
      "Epoch 12/20\n",
      "313/313 [==============================] - 1s 3ms/step - loss: 0.0618 - accuracy: 0.9811\n",
      "Epoch 13/20\n",
      "313/313 [==============================] - 1s 3ms/step - loss: 0.0582 - accuracy: 0.9816\n",
      "Epoch 14/20\n",
      "313/313 [==============================] - 1s 3ms/step - loss: 0.0542 - accuracy: 0.9817\n",
      "Epoch 15/20\n",
      "313/313 [==============================] - 1s 3ms/step - loss: 0.0516 - accuracy: 0.9838\n",
      "Epoch 16/20\n",
      "313/313 [==============================] - 1s 3ms/step - loss: 0.0477 - accuracy: 0.9856\n",
      "Epoch 17/20\n",
      "313/313 [==============================] - 1s 3ms/step - loss: 0.0481 - accuracy: 0.9842\n",
      "Epoch 18/20\n",
      "313/313 [==============================] - 1s 3ms/step - loss: 0.0451 - accuracy: 0.9852\n",
      "Epoch 19/20\n",
      "313/313 [==============================] - 1s 3ms/step - loss: 0.0441 - accuracy: 0.9849\n",
      "Epoch 20/20\n",
      "313/313 [==============================] - 1s 3ms/step - loss: 0.0431 - accuracy: 0.9866\n",
      "157/157 [==============================] - 0s 2ms/step - loss: 0.1217 - accuracy: 0.9698\n",
      "Epoch 1/10\n",
      "79/79 [==============================] - 1s 6ms/step - loss: 0.7511 - accuracy: 0.7953\n",
      "Epoch 2/10\n",
      "79/79 [==============================] - 1s 7ms/step - loss: 0.3279 - accuracy: 0.9057\n",
      "Epoch 3/10\n",
      "79/79 [==============================] - 1s 7ms/step - loss: 0.2566 - accuracy: 0.9252\n",
      "Epoch 4/10\n",
      "79/79 [==============================] - 1s 7ms/step - loss: 0.2132 - accuracy: 0.9380\n",
      "Epoch 5/10\n",
      "79/79 [==============================] - 1s 7ms/step - loss: 0.1836 - accuracy: 0.9451\n",
      "Epoch 6/10\n",
      "79/79 [==============================] - 1s 7ms/step - loss: 0.1609 - accuracy: 0.9521\n",
      "Epoch 7/10\n",
      "79/79 [==============================] - 1s 7ms/step - loss: 0.1451 - accuracy: 0.9567\n",
      "Epoch 8/10\n",
      "79/79 [==============================] - 1s 7ms/step - loss: 0.1320 - accuracy: 0.9614\n",
      "Epoch 9/10\n",
      "79/79 [==============================] - 1s 7ms/step - loss: 0.1215 - accuracy: 0.9638\n",
      "Epoch 10/10\n",
      "79/79 [==============================] - 1s 7ms/step - loss: 0.1106 - accuracy: 0.9670\n",
      "40/40 [==============================] - 0s 3ms/step - loss: 0.1238 - accuracy: 0.9628\n",
      "Epoch 1/10\n",
      "79/79 [==============================] - 1s 7ms/step - loss: 0.7230 - accuracy: 0.7983\n",
      "Epoch 2/10\n",
      "79/79 [==============================] - 1s 7ms/step - loss: 0.3307 - accuracy: 0.9036\n",
      "Epoch 3/10\n",
      "79/79 [==============================] - 1s 7ms/step - loss: 0.2608 - accuracy: 0.9247\n",
      "Epoch 4/10\n",
      "79/79 [==============================] - 1s 7ms/step - loss: 0.2170 - accuracy: 0.9360\n",
      "Epoch 5/10\n",
      "79/79 [==============================] - 1s 7ms/step - loss: 0.1854 - accuracy: 0.9456\n",
      "Epoch 6/10\n",
      "79/79 [==============================] - 1s 7ms/step - loss: 0.1636 - accuracy: 0.9513\n",
      "Epoch 7/10\n",
      "79/79 [==============================] - 1s 7ms/step - loss: 0.1460 - accuracy: 0.9574\n",
      "Epoch 8/10\n",
      "79/79 [==============================] - 1s 7ms/step - loss: 0.1337 - accuracy: 0.9599\n",
      "Epoch 9/10\n",
      "79/79 [==============================] - 1s 7ms/step - loss: 0.1221 - accuracy: 0.9637\n",
      "Epoch 10/10\n",
      "79/79 [==============================] - 1s 7ms/step - loss: 0.1113 - accuracy: 0.9666\n",
      "40/40 [==============================] - 0s 3ms/step - loss: 0.1504 - accuracy: 0.9546\n",
      "Epoch 1/10\n",
      "79/79 [==============================] - 1s 7ms/step - loss: 0.7710 - accuracy: 0.7886\n",
      "Epoch 2/10\n",
      "79/79 [==============================] - 1s 7ms/step - loss: 0.3296 - accuracy: 0.9053\n",
      "Epoch 3/10\n",
      "79/79 [==============================] - 1s 7ms/step - loss: 0.2561 - accuracy: 0.9256\n",
      "Epoch 4/10\n",
      "79/79 [==============================] - 1s 7ms/step - loss: 0.2141 - accuracy: 0.9377\n",
      "Epoch 5/10\n",
      "79/79 [==============================] - 1s 6ms/step - loss: 0.1848 - accuracy: 0.9456\n",
      "Epoch 6/10\n",
      "79/79 [==============================] - 1s 6ms/step - loss: 0.1630 - accuracy: 0.9521\n",
      "Epoch 7/10\n",
      "79/79 [==============================] - 1s 6ms/step - loss: 0.1474 - accuracy: 0.9556\n",
      "Epoch 8/10\n",
      "79/79 [==============================] - 1s 7ms/step - loss: 0.1346 - accuracy: 0.9590\n",
      "Epoch 9/10\n",
      "79/79 [==============================] - 1s 6ms/step - loss: 0.1220 - accuracy: 0.9628\n",
      "Epoch 10/10\n",
      "79/79 [==============================] - 1s 7ms/step - loss: 0.1135 - accuracy: 0.9660\n",
      "40/40 [==============================] - 0s 3ms/step - loss: 0.1260 - accuracy: 0.9614\n",
      "Epoch 1/10\n",
      "79/79 [==============================] - 1s 6ms/step - loss: 1.1059 - accuracy: 0.6937\n",
      "Epoch 2/10\n",
      "79/79 [==============================] - 1s 6ms/step - loss: 0.4632 - accuracy: 0.8618\n",
      "Epoch 3/10\n",
      "79/79 [==============================] - 1s 6ms/step - loss: 0.3608 - accuracy: 0.8929\n",
      "Epoch 4/10\n",
      "79/79 [==============================] - 0s 6ms/step - loss: 0.3062 - accuracy: 0.9097\n",
      "Epoch 5/10\n",
      "79/79 [==============================] - 1s 6ms/step - loss: 0.2616 - accuracy: 0.9232\n",
      "Epoch 6/10\n",
      "79/79 [==============================] - 1s 6ms/step - loss: 0.2322 - accuracy: 0.9323\n",
      "Epoch 7/10\n",
      "79/79 [==============================] - 1s 6ms/step - loss: 0.2076 - accuracy: 0.9377\n",
      "Epoch 8/10\n",
      "79/79 [==============================] - 1s 6ms/step - loss: 0.1856 - accuracy: 0.9446\n",
      "Epoch 9/10\n",
      "79/79 [==============================] - 1s 6ms/step - loss: 0.1680 - accuracy: 0.9495\n",
      "Epoch 10/10\n",
      "79/79 [==============================] - 1s 6ms/step - loss: 0.1545 - accuracy: 0.9542\n",
      "40/40 [==============================] - 0s 3ms/step - loss: 0.1602 - accuracy: 0.9523\n",
      "Epoch 1/10\n",
      "79/79 [==============================] - 1s 6ms/step - loss: 1.1503 - accuracy: 0.6838\n",
      "Epoch 2/10\n",
      "79/79 [==============================] - 1s 6ms/step - loss: 0.4950 - accuracy: 0.8506\n",
      "Epoch 3/10\n",
      "79/79 [==============================] - 1s 7ms/step - loss: 0.3841 - accuracy: 0.8868\n",
      "Epoch 4/10\n",
      "79/79 [==============================] - 1s 7ms/step - loss: 0.3200 - accuracy: 0.9063\n",
      "Epoch 5/10\n",
      "79/79 [==============================] - 1s 7ms/step - loss: 0.2806 - accuracy: 0.9173\n",
      "Epoch 6/10\n",
      "79/79 [==============================] - 1s 7ms/step - loss: 0.2470 - accuracy: 0.9279\n",
      "Epoch 7/10\n",
      "79/79 [==============================] - 1s 7ms/step - loss: 0.2194 - accuracy: 0.9360\n",
      "Epoch 8/10\n",
      "79/79 [==============================] - 1s 7ms/step - loss: 0.1985 - accuracy: 0.9418\n",
      "Epoch 9/10\n",
      "79/79 [==============================] - 1s 7ms/step - loss: 0.1817 - accuracy: 0.9464\n",
      "Epoch 10/10\n",
      "79/79 [==============================] - 1s 7ms/step - loss: 0.1652 - accuracy: 0.9517\n",
      "40/40 [==============================] - 0s 3ms/step - loss: 0.1892 - accuracy: 0.9446\n",
      "Epoch 1/10\n",
      "79/79 [==============================] - 1s 7ms/step - loss: 1.1090 - accuracy: 0.7083\n",
      "Epoch 2/10\n",
      "79/79 [==============================] - 1s 7ms/step - loss: 0.4802 - accuracy: 0.8587\n",
      "Epoch 3/10\n",
      "79/79 [==============================] - 1s 8ms/step - loss: 0.3700 - accuracy: 0.8921\n",
      "Epoch 4/10\n",
      "79/79 [==============================] - 1s 7ms/step - loss: 0.3090 - accuracy: 0.9102\n",
      "Epoch 5/10\n",
      "79/79 [==============================] - 1s 7ms/step - loss: 0.2624 - accuracy: 0.9230\n",
      "Epoch 6/10\n",
      "79/79 [==============================] - 1s 7ms/step - loss: 0.2236 - accuracy: 0.9338\n",
      "Epoch 7/10\n",
      "79/79 [==============================] - 1s 7ms/step - loss: 0.1996 - accuracy: 0.9410\n",
      "Epoch 8/10\n",
      "79/79 [==============================] - 1s 7ms/step - loss: 0.1760 - accuracy: 0.9474\n",
      "Epoch 9/10\n",
      "79/79 [==============================] - 1s 7ms/step - loss: 0.1597 - accuracy: 0.9528\n",
      "Epoch 10/10\n",
      "79/79 [==============================] - 1s 7ms/step - loss: 0.1467 - accuracy: 0.9565\n",
      "40/40 [==============================] - 0s 4ms/step - loss: 0.1554 - accuracy: 0.9544\n",
      "Epoch 1/10\n",
      "79/79 [==============================] - 1s 7ms/step - loss: 0.7444 - accuracy: 0.7858\n",
      "Epoch 2/10\n",
      "79/79 [==============================] - 1s 7ms/step - loss: 0.3149 - accuracy: 0.9071\n",
      "Epoch 3/10\n",
      "79/79 [==============================] - 1s 7ms/step - loss: 0.2416 - accuracy: 0.9287\n",
      "Epoch 4/10\n",
      "79/79 [==============================] - 1s 7ms/step - loss: 0.2031 - accuracy: 0.9389\n",
      "Epoch 5/10\n",
      "79/79 [==============================] - 1s 7ms/step - loss: 0.1748 - accuracy: 0.9473\n",
      "Epoch 6/10\n",
      "79/79 [==============================] - 1s 7ms/step - loss: 0.1555 - accuracy: 0.9539\n",
      "Epoch 7/10\n",
      "79/79 [==============================] - 1s 7ms/step - loss: 0.1428 - accuracy: 0.9569\n",
      "Epoch 8/10\n",
      "79/79 [==============================] - 1s 7ms/step - loss: 0.1304 - accuracy: 0.9613\n",
      "Epoch 9/10\n",
      "79/79 [==============================] - 1s 7ms/step - loss: 0.1180 - accuracy: 0.9635\n",
      "Epoch 10/10\n",
      "79/79 [==============================] - 1s 7ms/step - loss: 0.1106 - accuracy: 0.9657\n",
      "40/40 [==============================] - 0s 3ms/step - loss: 0.1330 - accuracy: 0.9603\n",
      "Epoch 1/10\n",
      "79/79 [==============================] - 1s 7ms/step - loss: 0.6980 - accuracy: 0.8033\n",
      "Epoch 2/10\n",
      "79/79 [==============================] - 1s 7ms/step - loss: 0.3094 - accuracy: 0.9100\n",
      "Epoch 3/10\n",
      "79/79 [==============================] - 1s 7ms/step - loss: 0.2395 - accuracy: 0.9302\n",
      "Epoch 4/10\n",
      "79/79 [==============================] - 1s 7ms/step - loss: 0.1999 - accuracy: 0.9416\n",
      "Epoch 5/10\n",
      "79/79 [==============================] - 1s 7ms/step - loss: 0.1723 - accuracy: 0.9495\n",
      "Epoch 6/10\n",
      "79/79 [==============================] - 1s 7ms/step - loss: 0.1547 - accuracy: 0.9539\n",
      "Epoch 7/10\n",
      "79/79 [==============================] - 1s 7ms/step - loss: 0.1370 - accuracy: 0.9584\n",
      "Epoch 8/10\n",
      "79/79 [==============================] - 1s 7ms/step - loss: 0.1260 - accuracy: 0.9625\n",
      "Epoch 9/10\n",
      "79/79 [==============================] - 1s 7ms/step - loss: 0.1147 - accuracy: 0.9651\n",
      "Epoch 10/10\n",
      "79/79 [==============================] - 1s 7ms/step - loss: 0.1061 - accuracy: 0.9678\n",
      "40/40 [==============================] - 0s 3ms/step - loss: 0.1501 - accuracy: 0.9541\n",
      "Epoch 1/10\n",
      "79/79 [==============================] - 1s 7ms/step - loss: 0.7500 - accuracy: 0.7891\n",
      "Epoch 2/10\n",
      "79/79 [==============================] - 1s 7ms/step - loss: 0.3130 - accuracy: 0.9098\n",
      "Epoch 3/10\n",
      "79/79 [==============================] - 1s 7ms/step - loss: 0.2436 - accuracy: 0.9283\n",
      "Epoch 4/10\n",
      "79/79 [==============================] - 1s 7ms/step - loss: 0.2056 - accuracy: 0.9394\n",
      "Epoch 5/10\n",
      "79/79 [==============================] - 1s 7ms/step - loss: 0.1794 - accuracy: 0.9464\n",
      "Epoch 6/10\n",
      "79/79 [==============================] - 1s 7ms/step - loss: 0.1572 - accuracy: 0.9526\n",
      "Epoch 7/10\n",
      "79/79 [==============================] - 1s 7ms/step - loss: 0.1441 - accuracy: 0.9565\n",
      "Epoch 8/10\n",
      "79/79 [==============================] - 1s 7ms/step - loss: 0.1301 - accuracy: 0.9611\n",
      "Epoch 9/10\n",
      "79/79 [==============================] - 1s 7ms/step - loss: 0.1197 - accuracy: 0.9640\n",
      "Epoch 10/10\n",
      "79/79 [==============================] - 1s 7ms/step - loss: 0.1115 - accuracy: 0.9663\n",
      "40/40 [==============================] - 0s 4ms/step - loss: 0.1271 - accuracy: 0.9636\n",
      "Epoch 1/20\n",
      "79/79 [==============================] - 1s 7ms/step - loss: 0.7487 - accuracy: 0.7914\n",
      "Epoch 2/20\n",
      "79/79 [==============================] - 1s 7ms/step - loss: 0.3324 - accuracy: 0.9007\n",
      "Epoch 3/20\n",
      "79/79 [==============================] - 1s 7ms/step - loss: 0.2598 - accuracy: 0.9230\n",
      "Epoch 4/20\n",
      "79/79 [==============================] - 1s 7ms/step - loss: 0.2192 - accuracy: 0.9353\n",
      "Epoch 5/20\n",
      "79/79 [==============================] - 1s 8ms/step - loss: 0.1899 - accuracy: 0.9437\n",
      "Epoch 6/20\n",
      "79/79 [==============================] - 1s 7ms/step - loss: 0.1680 - accuracy: 0.9488\n",
      "Epoch 7/20\n",
      "79/79 [==============================] - 1s 7ms/step - loss: 0.1503 - accuracy: 0.9547\n",
      "Epoch 8/20\n",
      "79/79 [==============================] - 1s 7ms/step - loss: 0.1388 - accuracy: 0.9585\n",
      "Epoch 9/20\n",
      "79/79 [==============================] - 1s 7ms/step - loss: 0.1256 - accuracy: 0.9625\n",
      "Epoch 10/20\n",
      "79/79 [==============================] - 1s 7ms/step - loss: 0.1161 - accuracy: 0.9639\n",
      "Epoch 11/20\n",
      "79/79 [==============================] - 1s 7ms/step - loss: 0.1074 - accuracy: 0.9668\n",
      "Epoch 12/20\n",
      "79/79 [==============================] - 1s 7ms/step - loss: 0.0993 - accuracy: 0.9691\n",
      "Epoch 13/20\n",
      "79/79 [==============================] - 1s 7ms/step - loss: 0.0922 - accuracy: 0.9717\n",
      "Epoch 14/20\n",
      "79/79 [==============================] - 1s 7ms/step - loss: 0.0893 - accuracy: 0.9725\n",
      "Epoch 15/20\n",
      "79/79 [==============================] - 1s 7ms/step - loss: 0.0822 - accuracy: 0.9750\n",
      "Epoch 16/20\n",
      "79/79 [==============================] - 1s 7ms/step - loss: 0.0786 - accuracy: 0.9755\n",
      "Epoch 17/20\n",
      "79/79 [==============================] - 1s 7ms/step - loss: 0.0746 - accuracy: 0.9764\n",
      "Epoch 18/20\n",
      "79/79 [==============================] - 1s 7ms/step - loss: 0.0708 - accuracy: 0.9775\n",
      "Epoch 19/20\n",
      "79/79 [==============================] - 1s 8ms/step - loss: 0.0689 - accuracy: 0.9787\n",
      "Epoch 20/20\n",
      "79/79 [==============================] - 1s 7ms/step - loss: 0.0645 - accuracy: 0.9793\n",
      "40/40 [==============================] - 0s 4ms/step - loss: 0.1111 - accuracy: 0.9675\n",
      "Epoch 1/20\n",
      "79/79 [==============================] - 1s 8ms/step - loss: 0.7402 - accuracy: 0.7936\n",
      "Epoch 2/20\n",
      "79/79 [==============================] - 1s 8ms/step - loss: 0.3253 - accuracy: 0.9057\n",
      "Epoch 3/20\n",
      "79/79 [==============================] - 1s 7ms/step - loss: 0.2504 - accuracy: 0.9277\n",
      "Epoch 4/20\n",
      "79/79 [==============================] - 1s 7ms/step - loss: 0.2105 - accuracy: 0.9384\n",
      "Epoch 5/20\n",
      "79/79 [==============================] - 1s 7ms/step - loss: 0.1829 - accuracy: 0.9461\n",
      "Epoch 6/20\n",
      "79/79 [==============================] - 1s 8ms/step - loss: 0.1612 - accuracy: 0.9518\n",
      "Epoch 7/20\n",
      "79/79 [==============================] - 1s 8ms/step - loss: 0.1430 - accuracy: 0.9572\n",
      "Epoch 8/20\n",
      "79/79 [==============================] - 1s 7ms/step - loss: 0.1286 - accuracy: 0.9617\n",
      "Epoch 9/20\n",
      "79/79 [==============================] - 1s 7ms/step - loss: 0.1186 - accuracy: 0.9647\n",
      "Epoch 10/20\n",
      "79/79 [==============================] - 1s 7ms/step - loss: 0.1098 - accuracy: 0.9660\n",
      "Epoch 11/20\n",
      "79/79 [==============================] - 1s 7ms/step - loss: 0.1017 - accuracy: 0.9688\n",
      "Epoch 12/20\n",
      "79/79 [==============================] - 1s 8ms/step - loss: 0.0956 - accuracy: 0.9707\n",
      "Epoch 13/20\n",
      "79/79 [==============================] - 1s 7ms/step - loss: 0.0871 - accuracy: 0.9732\n",
      "Epoch 14/20\n",
      "79/79 [==============================] - 1s 7ms/step - loss: 0.0826 - accuracy: 0.9755\n",
      "Epoch 15/20\n",
      "79/79 [==============================] - 1s 7ms/step - loss: 0.0771 - accuracy: 0.9762\n",
      "Epoch 16/20\n",
      "79/79 [==============================] - 1s 7ms/step - loss: 0.0741 - accuracy: 0.9767\n",
      "Epoch 17/20\n",
      "79/79 [==============================] - 1s 7ms/step - loss: 0.0694 - accuracy: 0.9783\n",
      "Epoch 18/20\n",
      "79/79 [==============================] - 1s 7ms/step - loss: 0.0669 - accuracy: 0.9788\n",
      "Epoch 19/20\n",
      "79/79 [==============================] - 1s 7ms/step - loss: 0.0631 - accuracy: 0.9801\n",
      "Epoch 20/20\n",
      "79/79 [==============================] - 1s 7ms/step - loss: 0.0605 - accuracy: 0.9808\n",
      "40/40 [==============================] - 0s 3ms/step - loss: 0.1210 - accuracy: 0.9650\n",
      "Epoch 1/20\n",
      "79/79 [==============================] - 1s 7ms/step - loss: 0.7382 - accuracy: 0.8041\n",
      "Epoch 2/20\n",
      "79/79 [==============================] - 1s 7ms/step - loss: 0.3301 - accuracy: 0.9053\n",
      "Epoch 3/20\n",
      "79/79 [==============================] - 1s 7ms/step - loss: 0.2552 - accuracy: 0.9262\n",
      "Epoch 4/20\n",
      "79/79 [==============================] - 1s 7ms/step - loss: 0.2135 - accuracy: 0.9374\n",
      "Epoch 5/20\n",
      "79/79 [==============================] - 1s 7ms/step - loss: 0.1854 - accuracy: 0.9451\n",
      "Epoch 6/20\n",
      "79/79 [==============================] - 1s 7ms/step - loss: 0.1672 - accuracy: 0.9492\n",
      "Epoch 7/20\n",
      "79/79 [==============================] - 1s 7ms/step - loss: 0.1486 - accuracy: 0.9553\n",
      "Epoch 8/20\n",
      "79/79 [==============================] - 1s 7ms/step - loss: 0.1351 - accuracy: 0.9591\n",
      "Epoch 9/20\n",
      "79/79 [==============================] - 1s 7ms/step - loss: 0.1221 - accuracy: 0.9629\n",
      "Epoch 10/20\n",
      "79/79 [==============================] - 1s 7ms/step - loss: 0.1148 - accuracy: 0.9661\n",
      "Epoch 11/20\n",
      "79/79 [==============================] - 1s 7ms/step - loss: 0.1046 - accuracy: 0.9683\n",
      "Epoch 12/20\n",
      "79/79 [==============================] - 1s 7ms/step - loss: 0.0975 - accuracy: 0.9706\n",
      "Epoch 13/20\n",
      "79/79 [==============================] - 1s 7ms/step - loss: 0.0909 - accuracy: 0.9719\n",
      "Epoch 14/20\n",
      "79/79 [==============================] - 1s 7ms/step - loss: 0.0874 - accuracy: 0.9729\n",
      "Epoch 15/20\n",
      "79/79 [==============================] - 1s 7ms/step - loss: 0.0826 - accuracy: 0.9754\n",
      "Epoch 16/20\n",
      "79/79 [==============================] - 1s 7ms/step - loss: 0.0757 - accuracy: 0.9768\n",
      "Epoch 17/20\n",
      "79/79 [==============================] - 1s 7ms/step - loss: 0.0734 - accuracy: 0.9772\n",
      "Epoch 18/20\n",
      "79/79 [==============================] - 1s 7ms/step - loss: 0.0707 - accuracy: 0.9779\n",
      "Epoch 19/20\n",
      "79/79 [==============================] - 1s 7ms/step - loss: 0.0647 - accuracy: 0.9793\n",
      "Epoch 20/20\n",
      "79/79 [==============================] - 1s 8ms/step - loss: 0.0612 - accuracy: 0.9811\n",
      "40/40 [==============================] - 0s 3ms/step - loss: 0.1067 - accuracy: 0.9685\n",
      "Epoch 1/20\n",
      "79/79 [==============================] - 1s 7ms/step - loss: 1.1445 - accuracy: 0.7022\n",
      "Epoch 2/20\n",
      "79/79 [==============================] - 1s 7ms/step - loss: 0.4802 - accuracy: 0.8588\n",
      "Epoch 3/20\n",
      "79/79 [==============================] - 1s 8ms/step - loss: 0.3714 - accuracy: 0.8908\n",
      "Epoch 4/20\n",
      "79/79 [==============================] - 1s 7ms/step - loss: 0.3137 - accuracy: 0.9071\n",
      "Epoch 5/20\n",
      "79/79 [==============================] - 1s 7ms/step - loss: 0.2735 - accuracy: 0.9199\n",
      "Epoch 6/20\n",
      "79/79 [==============================] - 1s 8ms/step - loss: 0.2380 - accuracy: 0.9280\n",
      "Epoch 7/20\n",
      "79/79 [==============================] - 1s 7ms/step - loss: 0.2102 - accuracy: 0.9380\n",
      "Epoch 8/20\n",
      "79/79 [==============================] - 1s 8ms/step - loss: 0.1898 - accuracy: 0.9431\n",
      "Epoch 9/20\n",
      "79/79 [==============================] - 1s 8ms/step - loss: 0.1730 - accuracy: 0.9482\n",
      "Epoch 10/20\n",
      "79/79 [==============================] - 1s 8ms/step - loss: 0.1572 - accuracy: 0.9528\n",
      "Epoch 11/20\n",
      "79/79 [==============================] - 1s 8ms/step - loss: 0.1447 - accuracy: 0.9573\n",
      "Epoch 12/20\n",
      "79/79 [==============================] - 1s 7ms/step - loss: 0.1367 - accuracy: 0.9584\n",
      "Epoch 13/20\n",
      "79/79 [==============================] - 1s 7ms/step - loss: 0.1270 - accuracy: 0.9622\n",
      "Epoch 14/20\n",
      "79/79 [==============================] - 1s 7ms/step - loss: 0.1195 - accuracy: 0.9633\n",
      "Epoch 15/20\n",
      "79/79 [==============================] - 1s 8ms/step - loss: 0.1112 - accuracy: 0.9666\n",
      "Epoch 16/20\n",
      "79/79 [==============================] - 1s 7ms/step - loss: 0.1059 - accuracy: 0.9674\n",
      "Epoch 17/20\n",
      "79/79 [==============================] - 1s 7ms/step - loss: 0.1026 - accuracy: 0.9690\n",
      "Epoch 18/20\n",
      "79/79 [==============================] - 1s 7ms/step - loss: 0.0940 - accuracy: 0.9714\n",
      "Epoch 19/20\n",
      "79/79 [==============================] - 1s 7ms/step - loss: 0.0919 - accuracy: 0.9718\n",
      "Epoch 20/20\n",
      "79/79 [==============================] - 1s 7ms/step - loss: 0.0864 - accuracy: 0.9736\n",
      "40/40 [==============================] - 0s 4ms/step - loss: 0.1074 - accuracy: 0.9679\n",
      "Epoch 1/20\n",
      "79/79 [==============================] - 1s 7ms/step - loss: 1.0970 - accuracy: 0.7064\n",
      "Epoch 2/20\n",
      "79/79 [==============================] - 1s 7ms/step - loss: 0.4624 - accuracy: 0.8641\n",
      "Epoch 3/20\n",
      "79/79 [==============================] - 1s 7ms/step - loss: 0.3629 - accuracy: 0.8949\n",
      "Epoch 4/20\n",
      "79/79 [==============================] - 1s 7ms/step - loss: 0.3079 - accuracy: 0.9104\n",
      "Epoch 5/20\n",
      "79/79 [==============================] - 1s 7ms/step - loss: 0.2671 - accuracy: 0.9223\n",
      "Epoch 6/20\n",
      "79/79 [==============================] - 1s 7ms/step - loss: 0.2379 - accuracy: 0.9305\n",
      "Epoch 7/20\n",
      "79/79 [==============================] - 1s 7ms/step - loss: 0.2095 - accuracy: 0.9392\n",
      "Epoch 8/20\n",
      "79/79 [==============================] - 1s 7ms/step - loss: 0.1902 - accuracy: 0.9441\n",
      "Epoch 9/20\n",
      "79/79 [==============================] - 1s 7ms/step - loss: 0.1733 - accuracy: 0.9485\n",
      "Epoch 10/20\n",
      "79/79 [==============================] - 1s 7ms/step - loss: 0.1590 - accuracy: 0.9527\n",
      "Epoch 11/20\n",
      "79/79 [==============================] - 1s 7ms/step - loss: 0.1486 - accuracy: 0.9553\n",
      "Epoch 12/20\n",
      "79/79 [==============================] - 1s 7ms/step - loss: 0.1352 - accuracy: 0.9599\n",
      "Epoch 13/20\n",
      "79/79 [==============================] - 1s 7ms/step - loss: 0.1286 - accuracy: 0.9608\n",
      "Epoch 14/20\n",
      "79/79 [==============================] - 1s 7ms/step - loss: 0.1181 - accuracy: 0.9651\n",
      "Epoch 15/20\n",
      "79/79 [==============================] - 1s 7ms/step - loss: 0.1129 - accuracy: 0.9659\n",
      "Epoch 16/20\n",
      "79/79 [==============================] - 1s 7ms/step - loss: 0.1043 - accuracy: 0.9678\n",
      "Epoch 17/20\n",
      "79/79 [==============================] - 1s 7ms/step - loss: 0.0986 - accuracy: 0.9697\n",
      "Epoch 18/20\n",
      "79/79 [==============================] - 1s 7ms/step - loss: 0.0923 - accuracy: 0.9713\n",
      "Epoch 19/20\n",
      "79/79 [==============================] - 1s 7ms/step - loss: 0.0877 - accuracy: 0.9732\n",
      "Epoch 20/20\n",
      "79/79 [==============================] - 1s 7ms/step - loss: 0.0840 - accuracy: 0.9745\n",
      "40/40 [==============================] - 0s 4ms/step - loss: 0.1279 - accuracy: 0.9622\n",
      "Epoch 1/20\n",
      "79/79 [==============================] - 1s 8ms/step - loss: 1.1385 - accuracy: 0.6909\n",
      "Epoch 2/20\n",
      "79/79 [==============================] - 1s 7ms/step - loss: 0.4915 - accuracy: 0.8558\n",
      "Epoch 3/20\n",
      "79/79 [==============================] - 1s 7ms/step - loss: 0.3742 - accuracy: 0.8921\n",
      "Epoch 4/20\n",
      "79/79 [==============================] - 1s 7ms/step - loss: 0.3195 - accuracy: 0.9070\n",
      "Epoch 5/20\n",
      "79/79 [==============================] - 1s 7ms/step - loss: 0.2795 - accuracy: 0.9175\n",
      "Epoch 6/20\n",
      "79/79 [==============================] - 1s 7ms/step - loss: 0.2439 - accuracy: 0.9277\n",
      "Epoch 7/20\n",
      "79/79 [==============================] - 1s 7ms/step - loss: 0.2204 - accuracy: 0.9347\n",
      "Epoch 8/20\n",
      "79/79 [==============================] - 1s 7ms/step - loss: 0.1970 - accuracy: 0.9407\n",
      "Epoch 9/20\n",
      "79/79 [==============================] - 1s 7ms/step - loss: 0.1795 - accuracy: 0.9467\n",
      "Epoch 10/20\n",
      "79/79 [==============================] - 1s 7ms/step - loss: 0.1618 - accuracy: 0.9523\n",
      "Epoch 11/20\n",
      "79/79 [==============================] - 1s 7ms/step - loss: 0.1484 - accuracy: 0.9557\n",
      "Epoch 12/20\n",
      "79/79 [==============================] - 1s 7ms/step - loss: 0.1381 - accuracy: 0.9590\n",
      "Epoch 13/20\n",
      "79/79 [==============================] - 1s 7ms/step - loss: 0.1294 - accuracy: 0.9611\n",
      "Epoch 14/20\n",
      "79/79 [==============================] - 1s 7ms/step - loss: 0.1173 - accuracy: 0.9650\n",
      "Epoch 15/20\n",
      "79/79 [==============================] - 1s 8ms/step - loss: 0.1119 - accuracy: 0.9662\n",
      "Epoch 16/20\n",
      "79/79 [==============================] - 1s 7ms/step - loss: 0.1037 - accuracy: 0.9691\n",
      "Epoch 17/20\n",
      "79/79 [==============================] - 1s 7ms/step - loss: 0.0974 - accuracy: 0.9702\n",
      "Epoch 18/20\n",
      "79/79 [==============================] - 1s 7ms/step - loss: 0.0932 - accuracy: 0.9719\n",
      "Epoch 19/20\n",
      "79/79 [==============================] - 1s 7ms/step - loss: 0.0892 - accuracy: 0.9731\n",
      "Epoch 20/20\n",
      "79/79 [==============================] - 1s 7ms/step - loss: 0.0849 - accuracy: 0.9736\n",
      "40/40 [==============================] - 0s 4ms/step - loss: 0.1201 - accuracy: 0.9657\n",
      "Epoch 1/20\n",
      "79/79 [==============================] - 1s 7ms/step - loss: 0.7311 - accuracy: 0.7915\n",
      "Epoch 2/20\n",
      "79/79 [==============================] - 1s 7ms/step - loss: 0.3209 - accuracy: 0.9062\n",
      "Epoch 3/20\n",
      "79/79 [==============================] - 1s 7ms/step - loss: 0.2513 - accuracy: 0.9256\n",
      "Epoch 4/20\n",
      "79/79 [==============================] - 1s 8ms/step - loss: 0.2162 - accuracy: 0.9356\n",
      "Epoch 5/20\n",
      "79/79 [==============================] - 1s 7ms/step - loss: 0.1905 - accuracy: 0.9444\n",
      "Epoch 6/20\n",
      "79/79 [==============================] - 1s 7ms/step - loss: 0.1681 - accuracy: 0.9502\n",
      "Epoch 7/20\n",
      "79/79 [==============================] - 1s 8ms/step - loss: 0.1515 - accuracy: 0.9552\n",
      "Epoch 8/20\n",
      "79/79 [==============================] - 1s 7ms/step - loss: 0.1369 - accuracy: 0.9594\n",
      "Epoch 9/20\n",
      "79/79 [==============================] - 1s 7ms/step - loss: 0.1259 - accuracy: 0.9613\n",
      "Epoch 10/20\n",
      "79/79 [==============================] - 1s 7ms/step - loss: 0.1158 - accuracy: 0.9655\n",
      "Epoch 11/20\n",
      "79/79 [==============================] - 1s 7ms/step - loss: 0.1099 - accuracy: 0.9669\n",
      "Epoch 12/20\n",
      "79/79 [==============================] - 1s 7ms/step - loss: 0.0998 - accuracy: 0.9704\n",
      "Epoch 13/20\n",
      "79/79 [==============================] - 1s 7ms/step - loss: 0.0956 - accuracy: 0.9708\n",
      "Epoch 14/20\n",
      "79/79 [==============================] - 1s 8ms/step - loss: 0.0886 - accuracy: 0.9730\n",
      "Epoch 15/20\n",
      "79/79 [==============================] - 1s 7ms/step - loss: 0.0817 - accuracy: 0.9748\n",
      "Epoch 16/20\n",
      "79/79 [==============================] - 1s 7ms/step - loss: 0.0785 - accuracy: 0.9754\n",
      "Epoch 17/20\n",
      "79/79 [==============================] - 1s 7ms/step - loss: 0.0741 - accuracy: 0.9771\n",
      "Epoch 18/20\n",
      "79/79 [==============================] - 1s 8ms/step - loss: 0.0698 - accuracy: 0.9784\n",
      "Epoch 19/20\n",
      "79/79 [==============================] - 1s 8ms/step - loss: 0.0672 - accuracy: 0.9787\n",
      "Epoch 20/20\n",
      "79/79 [==============================] - 1s 7ms/step - loss: 0.0633 - accuracy: 0.9798\n",
      "40/40 [==============================] - 0s 4ms/step - loss: 0.1144 - accuracy: 0.9667\n",
      "Epoch 1/20\n",
      "79/79 [==============================] - 1s 7ms/step - loss: 0.7419 - accuracy: 0.7873\n",
      "Epoch 2/20\n",
      "79/79 [==============================] - 1s 7ms/step - loss: 0.3189 - accuracy: 0.9070\n",
      "Epoch 3/20\n",
      "79/79 [==============================] - 1s 7ms/step - loss: 0.2442 - accuracy: 0.9283\n",
      "Epoch 4/20\n",
      "79/79 [==============================] - 1s 7ms/step - loss: 0.2045 - accuracy: 0.9387\n",
      "Epoch 5/20\n",
      "79/79 [==============================] - 1s 7ms/step - loss: 0.1762 - accuracy: 0.9488\n",
      "Epoch 6/20\n",
      "79/79 [==============================] - 1s 7ms/step - loss: 0.1544 - accuracy: 0.9546\n",
      "Epoch 7/20\n",
      "79/79 [==============================] - 1s 8ms/step - loss: 0.1390 - accuracy: 0.9578\n",
      "Epoch 8/20\n",
      "79/79 [==============================] - 1s 8ms/step - loss: 0.1251 - accuracy: 0.9628\n",
      "Epoch 9/20\n",
      "79/79 [==============================] - 1s 7ms/step - loss: 0.1153 - accuracy: 0.9643\n",
      "Epoch 10/20\n",
      "79/79 [==============================] - 1s 7ms/step - loss: 0.1070 - accuracy: 0.9673\n",
      "Epoch 11/20\n",
      "79/79 [==============================] - 1s 8ms/step - loss: 0.0998 - accuracy: 0.9696\n",
      "Epoch 12/20\n",
      "79/79 [==============================] - 1s 7ms/step - loss: 0.0928 - accuracy: 0.9707\n",
      "Epoch 13/20\n",
      "79/79 [==============================] - 1s 7ms/step - loss: 0.0859 - accuracy: 0.9728\n",
      "Epoch 14/20\n",
      "79/79 [==============================] - 1s 7ms/step - loss: 0.0816 - accuracy: 0.9744\n",
      "Epoch 15/20\n",
      "79/79 [==============================] - 1s 7ms/step - loss: 0.0768 - accuracy: 0.9766\n",
      "Epoch 16/20\n",
      "79/79 [==============================] - 1s 7ms/step - loss: 0.0728 - accuracy: 0.9773\n",
      "Epoch 17/20\n",
      "79/79 [==============================] - 1s 7ms/step - loss: 0.0683 - accuracy: 0.9785\n",
      "Epoch 18/20\n",
      "79/79 [==============================] - 1s 7ms/step - loss: 0.0668 - accuracy: 0.9790\n",
      "Epoch 19/20\n",
      "79/79 [==============================] - 1s 7ms/step - loss: 0.0633 - accuracy: 0.9803\n",
      "Epoch 20/20\n",
      "79/79 [==============================] - 1s 7ms/step - loss: 0.0609 - accuracy: 0.9807\n",
      "40/40 [==============================] - 0s 4ms/step - loss: 0.1077 - accuracy: 0.9696\n",
      "Epoch 1/20\n",
      "79/79 [==============================] - 1s 7ms/step - loss: 0.7335 - accuracy: 0.7959\n",
      "Epoch 2/20\n",
      "79/79 [==============================] - 1s 8ms/step - loss: 0.3223 - accuracy: 0.9065\n",
      "Epoch 3/20\n",
      "79/79 [==============================] - 1s 8ms/step - loss: 0.2495 - accuracy: 0.9288\n",
      "Epoch 4/20\n",
      "79/79 [==============================] - 1s 8ms/step - loss: 0.2063 - accuracy: 0.9395\n",
      "Epoch 5/20\n",
      "79/79 [==============================] - 1s 8ms/step - loss: 0.1776 - accuracy: 0.9471\n",
      "Epoch 6/20\n",
      "79/79 [==============================] - 1s 7ms/step - loss: 0.1560 - accuracy: 0.9529\n",
      "Epoch 7/20\n",
      "79/79 [==============================] - 1s 8ms/step - loss: 0.1386 - accuracy: 0.9582\n",
      "Epoch 8/20\n",
      "79/79 [==============================] - 1s 8ms/step - loss: 0.1275 - accuracy: 0.9606\n",
      "Epoch 9/20\n",
      "79/79 [==============================] - 1s 8ms/step - loss: 0.1163 - accuracy: 0.9645\n",
      "Epoch 10/20\n",
      "79/79 [==============================] - 1s 8ms/step - loss: 0.1079 - accuracy: 0.9669\n",
      "Epoch 11/20\n",
      "79/79 [==============================] - 1s 7ms/step - loss: 0.0969 - accuracy: 0.9707\n",
      "Epoch 12/20\n",
      "79/79 [==============================] - 1s 8ms/step - loss: 0.0928 - accuracy: 0.9718\n",
      "Epoch 13/20\n",
      "79/79 [==============================] - 1s 7ms/step - loss: 0.0864 - accuracy: 0.9731\n",
      "Epoch 14/20\n",
      "79/79 [==============================] - 1s 7ms/step - loss: 0.0802 - accuracy: 0.9750\n",
      "Epoch 15/20\n",
      "79/79 [==============================] - 1s 8ms/step - loss: 0.0738 - accuracy: 0.9776\n",
      "Epoch 16/20\n",
      "79/79 [==============================] - 1s 8ms/step - loss: 0.0712 - accuracy: 0.9779\n",
      "Epoch 17/20\n",
      "79/79 [==============================] - 1s 7ms/step - loss: 0.0680 - accuracy: 0.9794\n",
      "Epoch 18/20\n",
      "79/79 [==============================] - 1s 8ms/step - loss: 0.0655 - accuracy: 0.9794\n",
      "Epoch 19/20\n",
      "79/79 [==============================] - 1s 8ms/step - loss: 0.0602 - accuracy: 0.9810\n",
      "Epoch 20/20\n",
      "79/79 [==============================] - 1s 8ms/step - loss: 0.0576 - accuracy: 0.9816\n",
      "40/40 [==============================] - 0s 4ms/step - loss: 0.1116 - accuracy: 0.9685\n",
      "Epoch 1/20\n",
      "469/469 [==============================] - 2s 4ms/step - loss: 0.4011 - accuracy: 0.8860\n",
      "Epoch 2/20\n",
      "469/469 [==============================] - 2s 4ms/step - loss: 0.1908 - accuracy: 0.9438\n",
      "Epoch 3/20\n",
      "469/469 [==============================] - 2s 4ms/step - loss: 0.1465 - accuracy: 0.9564\n",
      "Epoch 4/20\n",
      "469/469 [==============================] - 2s 4ms/step - loss: 0.1225 - accuracy: 0.9633\n",
      "Epoch 5/20\n",
      "469/469 [==============================] - 2s 4ms/step - loss: 0.1088 - accuracy: 0.9667\n",
      "Epoch 6/20\n",
      "469/469 [==============================] - 2s 4ms/step - loss: 0.0964 - accuracy: 0.9704\n",
      "Epoch 7/20\n",
      "469/469 [==============================] - 2s 4ms/step - loss: 0.0886 - accuracy: 0.9725\n",
      "Epoch 8/20\n",
      "469/469 [==============================] - 2s 4ms/step - loss: 0.0836 - accuracy: 0.9748\n",
      "Epoch 9/20\n",
      "469/469 [==============================] - 2s 4ms/step - loss: 0.0763 - accuracy: 0.9765\n",
      "Epoch 10/20\n",
      "469/469 [==============================] - 2s 4ms/step - loss: 0.0708 - accuracy: 0.9778\n",
      "Epoch 11/20\n",
      "469/469 [==============================] - 2s 4ms/step - loss: 0.0664 - accuracy: 0.9791\n",
      "Epoch 12/20\n",
      "469/469 [==============================] - 2s 4ms/step - loss: 0.0644 - accuracy: 0.9805\n",
      "Epoch 13/20\n",
      "469/469 [==============================] - 2s 4ms/step - loss: 0.0596 - accuracy: 0.9808\n",
      "Epoch 14/20\n",
      "469/469 [==============================] - 2s 4ms/step - loss: 0.0566 - accuracy: 0.9821\n",
      "Epoch 15/20\n",
      "469/469 [==============================] - 2s 4ms/step - loss: 0.0539 - accuracy: 0.9829\n",
      "Epoch 16/20\n",
      "469/469 [==============================] - 2s 4ms/step - loss: 0.0524 - accuracy: 0.9836\n",
      "Epoch 17/20\n",
      "469/469 [==============================] - 2s 4ms/step - loss: 0.0503 - accuracy: 0.9835\n",
      "Epoch 18/20\n",
      "469/469 [==============================] - 2s 4ms/step - loss: 0.0490 - accuracy: 0.9842\n",
      "Epoch 19/20\n",
      "469/469 [==============================] - 2s 4ms/step - loss: 0.0466 - accuracy: 0.9854\n",
      "Epoch 20/20\n",
      "469/469 [==============================] - 2s 4ms/step - loss: 0.0453 - accuracy: 0.9857\n",
      "CPU times: user 10min 58s, sys: 32.4 s, total: 11min 31s\n",
      "Wall time: 11min 46s\n"
     ]
    }
   ],
   "source": [
    "\n",
    "%%time\n",
    "# fix random seed for reproducibility (this might work or might not work \n",
    "# depending on each library's implenentation)\n",
    "seed = 7\n",
    "numpy.random.seed(seed)\n",
    "\n",
    "# create the sklearn model for the network\n",
    "model_init_batch_epoch_CV = KerasClassifier(build_fn=create_model_2, verbose=1)\n",
    "\n",
    "# we choose the initializers that came at the top in our previous cross-validation!!\n",
    "init_mode = ['glorot_uniform', 'uniform', 'he_normal'] \n",
    "batches = [128, 512]\n",
    "epochs = [10, 20]\n",
    "\n",
    "# grid search for initializer, batch size and number of epochs\n",
    "param_grid = dict(epochs=epochs, batch_size=batches, init=init_mode)\n",
    "grid = GridSearchCV(estimator=model_init_batch_epoch_CV, \n",
    "                    param_grid=param_grid,\n",
    "                    cv=3)\n",
    "grid_result = grid.fit(x_train, y_train)"
   ]
  },
  {
   "cell_type": "code",
   "execution_count": 103,
   "metadata": {
    "colab": {
     "base_uri": "https://localhost:8080/"
    },
    "hidden": true,
    "id": "zResygzqJAVk",
    "outputId": "b7e5f23c-9a4e-40de-9776-b14cb3b16891"
   },
   "outputs": [
    {
     "name": "stdout",
     "output_type": "stream",
     "text": [
      "Best Accuracy for 0.9714 using {'batch_size': 128, 'epochs': 20, 'init': 'glorot_uniform'}\n",
      "mean=0.9688, std=0.001547 using {'batch_size': 128, 'epochs': 10, 'init': 'glorot_uniform'}\n",
      "mean=0.9649, std=0.0008219 using {'batch_size': 128, 'epochs': 10, 'init': 'uniform'}\n",
      "mean=0.9679, std=0.001041 using {'batch_size': 128, 'epochs': 10, 'init': 'he_normal'}\n",
      "mean=0.9714, std=0.0007134 using {'batch_size': 128, 'epochs': 20, 'init': 'glorot_uniform'}\n",
      "mean=0.9689, std=0.001343 using {'batch_size': 128, 'epochs': 20, 'init': 'uniform'}\n",
      "mean=0.9707, std=0.0009186 using {'batch_size': 128, 'epochs': 20, 'init': 'he_normal'}\n",
      "mean=0.9596, std=0.003598 using {'batch_size': 512, 'epochs': 10, 'init': 'glorot_uniform'}\n",
      "mean=0.9504, std=0.004183 using {'batch_size': 512, 'epochs': 10, 'init': 'uniform'}\n",
      "mean=0.9593, std=0.003942 using {'batch_size': 512, 'epochs': 10, 'init': 'he_normal'}\n",
      "mean=0.967, std=0.001478 using {'batch_size': 512, 'epochs': 20, 'init': 'glorot_uniform'}\n",
      "mean=0.9652, std=0.002325 using {'batch_size': 512, 'epochs': 20, 'init': 'uniform'}\n",
      "mean=0.9683, std=0.001214 using {'batch_size': 512, 'epochs': 20, 'init': 'he_normal'}\n"
     ]
    }
   ],
   "source": [
    "# print results\n",
    "print(f'Best Accuracy for {grid_result.best_score_:.4} using {grid_result.best_params_}')\n",
    "means = grid_result.cv_results_['mean_test_score']\n",
    "stds = grid_result.cv_results_['std_test_score']\n",
    "params = grid_result.cv_results_['params']\n",
    "for mean, stdev, param in zip(means, stds, params):\n",
    "    print(f'mean={mean:.4}, std={stdev:.4} using {param}')"
   ]
  },
  {
   "cell_type": "markdown",
   "metadata": {
    "hidden": true,
    "id": "fhsqjgfJJPob"
   },
   "source": [
    "\n",
    "One last question before we end: what do we do if the number of parameters and the number of values we have to cycle through in our GridSearchCV is particularly large?\n",
    "\n",
    "This can be a particularly trouble some problem — imagine a situation where there are 5 parameters being selected for and 10 potential values that we have selected for each parameter. The number of unique combinations of this is 10⁵, which means we would have to train a ridiculously large number of networks. Clearly, it would be insanity to actually do it this way, so it is common to use RandomizedCV as an alternative.\n",
    "\n",
    "**RandomizedCV**\n",
    "\n",
    "RandomizedCV allows us to specify all of our potential parameters, and then for each fold in the cross-validation, it selects a random subset of parameters to use for the current model. In the end, the user can select the optimal set of parameters and use these as an approximate solution."
   ]
  },
  {
   "cell_type": "code",
   "execution_count": null,
   "metadata": {
    "hidden": true,
    "id": "ODDwONiLJUOl"
   },
   "outputs": [],
   "source": []
  }
 ],
 "metadata": {
  "colab": {
   "collapsed_sections": [
    "rERlFQLI6AWD",
    "BKKXiHFAj1ul",
    "GZeFpMggkScD",
    "peDuDtC1JYpm",
    "bi_hmQP0JSHt",
    "NyQL9nAZL4Fo",
    "QnMwRLihU2-e",
    "86smbb2xWCua",
    "bVmSxrnFguCP",
    "GNEg0bXy-He8",
    "4ZS_IqznBlta",
    "gSl2GH2KCwYB",
    "9LzUnG6VHuUQ"
   ],
   "name": "NN_Hyperparameter_Tuning.ipynb",
   "provenance": []
  },
  "kernelspec": {
   "display_name": "Python 3 (ipykernel)",
   "language": "python",
   "name": "python3"
  },
  "language_info": {
   "codemirror_mode": {
    "name": "ipython",
    "version": 3
   },
   "file_extension": ".py",
   "mimetype": "text/x-python",
   "name": "python",
   "nbconvert_exporter": "python",
   "pygments_lexer": "ipython3",
   "version": "3.8.6"
  },
  "toc": {
   "base_numbering": 1,
   "nav_menu": {},
   "number_sections": true,
   "sideBar": true,
   "skip_h1_title": false,
   "title_cell": "Table of Contents",
   "title_sidebar": "Contents",
   "toc_cell": false,
   "toc_position": {},
   "toc_section_display": true,
   "toc_window_display": false
  },
  "varInspector": {
   "cols": {
    "lenName": 16,
    "lenType": 16,
    "lenVar": 40
   },
   "kernels_config": {
    "python": {
     "delete_cmd_postfix": "",
     "delete_cmd_prefix": "del ",
     "library": "var_list.py",
     "varRefreshCmd": "print(var_dic_list())"
    },
    "r": {
     "delete_cmd_postfix": ") ",
     "delete_cmd_prefix": "rm(",
     "library": "var_list.r",
     "varRefreshCmd": "cat(var_dic_list()) "
    }
   },
   "types_to_exclude": [
    "module",
    "function",
    "builtin_function_or_method",
    "instance",
    "_Feature"
   ],
   "window_display": false
  }
 },
 "nbformat": 4,
 "nbformat_minor": 1
}
