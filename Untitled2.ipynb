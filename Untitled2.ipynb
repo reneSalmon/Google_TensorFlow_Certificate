{
 "cells": [
  {
   "cell_type": "raw",
   "id": "7e0dc8c1",
   "metadata": {},
   "source": [
    "#Warm-Up Coding"
   ]
  },
  {
   "cell_type": "markdown",
   "id": "fca8f3cf",
   "metadata": {},
   "source": [
    "Exercise 01"
   ]
  },
  {
   "cell_type": "code",
   "execution_count": 3,
   "id": "7c5356a5",
   "metadata": {},
   "outputs": [],
   "source": [
    "def cubes(a):\n",
    "\treturn a ** 3"
   ]
  },
  {
   "cell_type": "code",
   "execution_count": 9,
   "id": "fed772fd",
   "metadata": {},
   "outputs": [
    {
     "name": "stdout",
     "output_type": "stream",
     "text": [
      "27 125 1000\n"
     ]
    }
   ],
   "source": [
    "print(cubes(3), cubes(5), cubes(10))"
   ]
  },
  {
   "cell_type": "markdown",
   "id": "55eb5481",
   "metadata": {},
   "source": [
    "Exercise 02"
   ]
  },
  {
   "cell_type": "code",
   "execution_count": 14,
   "id": "915fd3dd",
   "metadata": {},
   "outputs": [],
   "source": [
    "#The vertical bar | is the equivalent to \"or\" in RegEx. \n",
    "#The regular expression x|y matches either \"x\" or \"y\". \n",
    "#Write the regular expression that will match all red flag and blue flag in a string.\n",
    "#You must use | in your expression. Flags can come in any order.\n",
    "\n",
    "import re\n",
    "\n",
    "pattern = \"^red|blue.*flag$\"\n"
   ]
  },
  {
   "cell_type": "code",
   "execution_count": 47,
   "id": "823426ce",
   "metadata": {},
   "outputs": [],
   "source": [
    "txt1 = \"red flag blue flag\"\n",
    "txt2 = \"yellow flag red flag blue flag green flag\"\n",
    "txt3 = \"pink flag red flag black flag blue flag green flag red flag\"\n",
    "pattern = \"red flag|blue flag\""
   ]
  },
  {
   "cell_type": "code",
   "execution_count": 48,
   "id": "aa3ae029",
   "metadata": {},
   "outputs": [
    {
     "data": {
      "text/plain": [
       "['red flag', 'blue flag']"
      ]
     },
     "execution_count": 48,
     "metadata": {},
     "output_type": "execute_result"
    }
   ],
   "source": [
    "re.findall(pattern, txt1) "
   ]
  },
  {
   "cell_type": "code",
   "execution_count": 49,
   "id": "bab047ac",
   "metadata": {},
   "outputs": [
    {
     "data": {
      "text/plain": [
       "['red flag', 'blue flag']"
      ]
     },
     "execution_count": 49,
     "metadata": {},
     "output_type": "execute_result"
    }
   ],
   "source": [
    "re.findall(pattern, txt2) "
   ]
  },
  {
   "cell_type": "code",
   "execution_count": 50,
   "id": "3042d4a2",
   "metadata": {},
   "outputs": [
    {
     "data": {
      "text/plain": [
       "['red flag', 'blue flag', 'red flag']"
      ]
     },
     "execution_count": 50,
     "metadata": {},
     "output_type": "execute_result"
    }
   ],
   "source": [
    "re.findall(pattern, txt3)"
   ]
  },
  {
   "cell_type": "code",
   "execution_count": null,
   "id": "b2f9fd6e",
   "metadata": {},
   "outputs": [],
   "source": []
  }
 ],
 "metadata": {
  "kernelspec": {
   "display_name": "Python 3 (ipykernel)",
   "language": "python",
   "name": "python3"
  },
  "language_info": {
   "codemirror_mode": {
    "name": "ipython",
    "version": 3
   },
   "file_extension": ".py",
   "mimetype": "text/x-python",
   "name": "python",
   "nbconvert_exporter": "python",
   "pygments_lexer": "ipython3",
   "version": "3.8.6"
  },
  "toc": {
   "base_numbering": 1,
   "nav_menu": {},
   "number_sections": true,
   "sideBar": true,
   "skip_h1_title": false,
   "title_cell": "Table of Contents",
   "title_sidebar": "Contents",
   "toc_cell": false,
   "toc_position": {},
   "toc_section_display": true,
   "toc_window_display": false
  },
  "varInspector": {
   "cols": {
    "lenName": 16,
    "lenType": 16,
    "lenVar": 40
   },
   "kernels_config": {
    "python": {
     "delete_cmd_postfix": "",
     "delete_cmd_prefix": "del ",
     "library": "var_list.py",
     "varRefreshCmd": "print(var_dic_list())"
    },
    "r": {
     "delete_cmd_postfix": ") ",
     "delete_cmd_prefix": "rm(",
     "library": "var_list.r",
     "varRefreshCmd": "cat(var_dic_list()) "
    }
   },
   "types_to_exclude": [
    "module",
    "function",
    "builtin_function_or_method",
    "instance",
    "_Feature"
   ],
   "window_display": false
  }
 },
 "nbformat": 4,
 "nbformat_minor": 5
}
