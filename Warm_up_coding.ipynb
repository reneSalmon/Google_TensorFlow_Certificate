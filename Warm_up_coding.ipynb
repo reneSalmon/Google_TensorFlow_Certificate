{
 "cells": [
  {
   "cell_type": "raw",
   "id": "40fd2d92",
   "metadata": {},
   "source": [
    "#Warm-Up Coding"
   ]
  },
  {
   "cell_type": "markdown",
   "id": "c66bc671",
   "metadata": {},
   "source": [
    "Exercise 01"
   ]
  },
  {
   "cell_type": "code",
   "execution_count": 3,
   "id": "0d2a9e7d",
   "metadata": {},
   "outputs": [],
   "source": [
    "def cubes(a):\n",
    "    return a**3"
   ]
  },
  {
   "cell_type": "code",
   "execution_count": 9,
   "id": "e9cedd4b",
   "metadata": {},
   "outputs": [
    {
     "name": "stdout",
     "output_type": "stream",
     "text": [
      "27 125 1000\n"
     ]
    }
   ],
   "source": [
    "print(cubes(3), cubes(5), cubes(10))"
   ]
  },
  {
   "cell_type": "markdown",
   "id": "edf658cb",
   "metadata": {},
   "source": [
    "Exercise 02"
   ]
  },
  {
   "cell_type": "code",
   "execution_count": 14,
   "id": "4d1533da",
   "metadata": {},
   "outputs": [],
   "source": [
    "#The vertical bar | is the equivalent to \"or\" in RegEx. \n",
    "#The regular expression x|y matches either \"x\" or \"y\". \n",
    "#Write the regular expression that will match all red flag and blue flag in a string.\n",
    "#You must use | in your expression. Flags can come in any order.\n",
    "\n",
    "import re\n",
    "\n",
    "pattern = \"^red|blue.*flag$\"\n"
   ]
  },
  {
   "cell_type": "code",
   "execution_count": 47,
   "id": "ff9915fb",
   "metadata": {},
   "outputs": [],
   "source": [
    "txt1 = \"red flag blue flag\"\n",
    "txt2 = \"yellow flag red flag blue flag green flag\"\n",
    "txt3 = \"pink flag red flag black flag blue flag green flag red flag\"\n",
    "pattern = \"red flag|blue flag\""
   ]
  },
  {
   "cell_type": "code",
   "execution_count": 48,
   "id": "494f27bf",
   "metadata": {},
   "outputs": [
    {
     "data": {
      "text/plain": [
       "['red flag', 'blue flag']"
      ]
     },
     "execution_count": 48,
     "metadata": {},
     "output_type": "execute_result"
    }
   ],
   "source": [
    "re.findall(pattern, txt1) "
   ]
  },
  {
   "cell_type": "code",
   "execution_count": 49,
   "id": "e136354e",
   "metadata": {},
   "outputs": [
    {
     "data": {
      "text/plain": [
       "['red flag', 'blue flag']"
      ]
     },
     "execution_count": 49,
     "metadata": {},
     "output_type": "execute_result"
    }
   ],
   "source": [
    "re.findall(pattern, txt2) "
   ]
  },
  {
   "cell_type": "code",
   "execution_count": 50,
   "id": "f83f7a45",
   "metadata": {},
   "outputs": [
    {
     "data": {
      "text/plain": [
       "['red flag', 'blue flag', 'red flag']"
      ]
     },
     "execution_count": 50,
     "metadata": {},
     "output_type": "execute_result"
    }
   ],
   "source": [
    "re.findall(pattern, txt3)"
   ]
  },
  {
   "cell_type": "markdown",
   "id": "ac7af665",
   "metadata": {},
   "source": [
    "Exercise 03"
   ]
  },
  {
   "cell_type": "code",
   "execution_count": 57,
   "id": "a2770b23",
   "metadata": {},
   "outputs": [],
   "source": [
    "#Create a function that inverts the rgb values of a given tuple.\n",
    "def color_invert(rgb):\n",
    "    \n",
    "    invert = []\n",
    "    \n",
    "    for x in rgb:\n",
    "        invert.append(255 - x)\n",
    "    \n",
    "    return tuple(invert)\n",
    "    "
   ]
  },
  {
   "cell_type": "code",
   "execution_count": 58,
   "id": "4eef7685",
   "metadata": {},
   "outputs": [
    {
     "data": {
      "text/plain": [
       "(0, 0, 0)"
      ]
     },
     "execution_count": 58,
     "metadata": {},
     "output_type": "execute_result"
    }
   ],
   "source": [
    "color_invert((255, 255, 255)) "
   ]
  },
  {
   "cell_type": "code",
   "execution_count": 59,
   "id": "5a2264bf",
   "metadata": {},
   "outputs": [
    {
     "data": {
      "text/plain": [
       "(255, 255, 255)"
      ]
     },
     "execution_count": 59,
     "metadata": {},
     "output_type": "execute_result"
    }
   ],
   "source": [
    "color_invert((0, 0, 0))"
   ]
  },
  {
   "cell_type": "code",
   "execution_count": 60,
   "id": "ef63cecb",
   "metadata": {},
   "outputs": [
    {
     "data": {
      "text/plain": [
       "(90, 85, 34)"
      ]
     },
     "execution_count": 60,
     "metadata": {},
     "output_type": "execute_result"
    }
   ],
   "source": [
    "color_invert((165, 170, 221))"
   ]
  },
  {
   "cell_type": "markdown",
   "id": "aa7b438a",
   "metadata": {},
   "source": [
    "Exercise 04"
   ]
  },
  {
   "cell_type": "raw",
   "id": "c3e7edf0",
   "metadata": {},
   "source": [
    "When resistors are connected together in series, the same current passes through each resistor in the chain and the total resistance, RT, of the circuit must be equal to the sum of all the individual resistors added together. That is:\n",
    "\n",
    "RT = R1 + R2 + R3 ...\n",
    "Create a function that takes an array of values resistance that are connected in series, and calculates the total resistance of the circuit in ohms. The ohm is the standard unit of electrical resistance in the International System of Units ( SI )."
   ]
  },
  {
   "cell_type": "code",
   "execution_count": 92,
   "id": "73dcec98",
   "metadata": {},
   "outputs": [],
   "source": [
    "def series_resistance(series):\n",
    "    RT = sum(series)\n",
    "    if RT <= 1:\n",
    "        return f\"{RT} ohm\"\n",
    "    else:\n",
    "        return f\"{RT} ohms\"\n",
    "    "
   ]
  },
  {
   "cell_type": "code",
   "execution_count": 96,
   "id": "938bbb5a",
   "metadata": {},
   "outputs": [],
   "source": [
    "def series_resistance(series):\n",
    "    RT = sum(series)\n",
    "    if RT <= 1:\n",
    "        return (\"{RT} ohm\").format(RT=RT)\n",
    "    else:\n",
    "        return (\"{RT} ohm\").format(RT=RT)"
   ]
  },
  {
   "cell_type": "code",
   "execution_count": 97,
   "id": "dd4dc59e",
   "metadata": {},
   "outputs": [
    {
     "data": {
      "text/plain": [
       "'15 ohm'"
      ]
     },
     "execution_count": 97,
     "metadata": {},
     "output_type": "execute_result"
    }
   ],
   "source": [
    "series_resistance([1, 5, 6, 3]) #\"15 ohms\""
   ]
  },
  {
   "cell_type": "code",
   "execution_count": 86,
   "id": "e51f68c6",
   "metadata": {},
   "outputs": [
    {
     "data": {
      "text/plain": [
       "'25.5 ohms'"
      ]
     },
     "execution_count": 86,
     "metadata": {},
     "output_type": "execute_result"
    }
   ],
   "source": [
    "\n",
    "\n",
    "series_resistance([16, 3.5, 6]) #\"25.5 ohms\"\n",
    "\n"
   ]
  },
  {
   "cell_type": "code",
   "execution_count": 87,
   "id": "5dc398c0",
   "metadata": {},
   "outputs": [
    {
     "data": {
      "text/plain": [
       "'1.0 ohm'"
      ]
     },
     "execution_count": 87,
     "metadata": {},
     "output_type": "execute_result"
    }
   ],
   "source": [
    "series_resistance([0.5, 0.5]) #\"1.0 ohm\""
   ]
  },
  {
   "cell_type": "markdown",
   "id": "1176fa5b",
   "metadata": {},
   "source": [
    "Exercise 05"
   ]
  },
  {
   "cell_type": "raw",
   "id": "7729054b",
   "metadata": {},
   "source": [
    "Python got drunk and the built-in functions str() and int() are acting odd:\n",
    "\n",
    "str(4) ➞ 4\n",
    "\n",
    "str(\"4\") ➞ 4\n",
    "\n",
    "int(\"4\") ➞ \"4\"\n",
    "\n",
    "int(4) ➞ \"4\"\n",
    "You need to create two functions to substitute str() and int(). A function called int_to_str() that converts integers into strings and a function called str_to_int() that converts strings into integers.\n",
    "\n",
    "Examples:\n",
    "int_to_str(4) ➞ \"4\"\n",
    "\n",
    "str_to_int(\"4\") ➞ 4\n",
    "\n",
    "int_to_str(29348) ➞ \"29348\"\n",
    "\n",
    "Notes\n",
    "This is meant to illustrate the dangers of using already-existing function names.\n",
    "Extra points if you can de-drunk Python."
   ]
  },
  {
   "cell_type": "code",
   "execution_count": 13,
   "id": "b01811e8",
   "metadata": {},
   "outputs": [],
   "source": [
    "def int_to_str(num):\n",
    "    number = f'{num}'\n",
    "    return number\n",
    "\n",
    "def str_to_int(text):\n",
    "    number = float(text)\n",
    "    return number"
   ]
  },
  {
   "cell_type": "code",
   "execution_count": 14,
   "id": "e0d5b091",
   "metadata": {},
   "outputs": [
    {
     "data": {
      "text/plain": [
       "4.0"
      ]
     },
     "execution_count": 14,
     "metadata": {},
     "output_type": "execute_result"
    }
   ],
   "source": [
    "str_to_int(\"4\")"
   ]
  },
  {
   "cell_type": "code",
   "execution_count": 15,
   "id": "4e96b82d",
   "metadata": {},
   "outputs": [
    {
     "data": {
      "text/plain": [
       "'29348'"
      ]
     },
     "execution_count": 15,
     "metadata": {},
     "output_type": "execute_result"
    }
   ],
   "source": [
    "int_to_str(29348)"
   ]
  },
  {
   "cell_type": "code",
   "execution_count": 16,
   "id": "d1f84cfd",
   "metadata": {},
   "outputs": [
    {
     "data": {
      "text/plain": [
       "'4'"
      ]
     },
     "execution_count": 16,
     "metadata": {},
     "output_type": "execute_result"
    }
   ],
   "source": [
    "int_to_str(4)"
   ]
  },
  {
   "cell_type": "markdown",
   "id": "6be51e5e",
   "metadata": {},
   "source": [
    "Exercise 06"
   ]
  },
  {
   "cell_type": "raw",
   "id": "d6925e39",
   "metadata": {},
   "source": [
    "Given the month and year as numbers, return whether that month contains a Friday 13th.\n",
    "\n",
    "Examples\n",
    "has_friday_13(3, 2020) ➞ True\n",
    "\n",
    "has_friday_13(10, 2017) ➞ True\n",
    "\n",
    "has_friday_13(1, 1985) ➞ False\n",
    "Notes\n",
    "January will be given as 1, February as 2, etc ...\n",
    "Check Resources for some helpful tutorials on Python's datetime module."
   ]
  },
  {
   "cell_type": "code",
   "execution_count": 38,
   "id": "a25179fe",
   "metadata": {},
   "outputs": [],
   "source": [
    "import datetime\n",
    "\n",
    "weekDays = \"monday tuesday wednesday thursday friday saturday sunday\".split(\" \")\n",
    "\n",
    "def has_friday_13(month, year):\n",
    "    \n",
    "    day_date = datetime.date(year, month, 13)\n",
    "    \n",
    "    day_weekday = day_date.weekday()\n",
    "    \n",
    "    day_weekday_as_string = weekDays[day_weekday]\n",
    "    \n",
    "    if day_weekday_as_string == \"friday\":\n",
    "        return True\n",
    "    else:\n",
    "        return False\n",
    "    "
   ]
  },
  {
   "cell_type": "code",
   "execution_count": 39,
   "id": "22e78d47",
   "metadata": {},
   "outputs": [
    {
     "data": {
      "text/plain": [
       "['monday', 'tuesday', 'wednesday', 'thursday', 'friday', 'saturday', 'sunday']"
      ]
     },
     "execution_count": 39,
     "metadata": {},
     "output_type": "execute_result"
    }
   ],
   "source": [
    "days"
   ]
  },
  {
   "cell_type": "code",
   "execution_count": 40,
   "id": "6d47eef9",
   "metadata": {},
   "outputs": [
    {
     "data": {
      "text/plain": [
       "False"
      ]
     },
     "execution_count": 40,
     "metadata": {},
     "output_type": "execute_result"
    }
   ],
   "source": [
    "has_friday_13(4, 2022)"
   ]
  },
  {
   "cell_type": "code",
   "execution_count": 41,
   "id": "2d2e1cc3",
   "metadata": {},
   "outputs": [
    {
     "data": {
      "text/plain": [
       "False"
      ]
     },
     "execution_count": 41,
     "metadata": {},
     "output_type": "execute_result"
    }
   ],
   "source": [
    "has_friday_13(4, 2022)"
   ]
  },
  {
   "cell_type": "code",
   "execution_count": 42,
   "id": "7628409a",
   "metadata": {},
   "outputs": [
    {
     "data": {
      "text/plain": [
       "True"
      ]
     },
     "execution_count": 42,
     "metadata": {},
     "output_type": "execute_result"
    }
   ],
   "source": [
    "has_friday_13(10, 2017)"
   ]
  },
  {
   "cell_type": "code",
   "execution_count": 43,
   "id": "c66d4573",
   "metadata": {},
   "outputs": [
    {
     "data": {
      "text/plain": [
       "False"
      ]
     },
     "execution_count": 43,
     "metadata": {},
     "output_type": "execute_result"
    }
   ],
   "source": [
    "has_friday_13(1, 1985)"
   ]
  },
  {
   "cell_type": "code",
   "execution_count": 44,
   "id": "169c56eb",
   "metadata": {},
   "outputs": [
    {
     "data": {
      "text/plain": [
       "True"
      ]
     },
     "execution_count": 44,
     "metadata": {},
     "output_type": "execute_result"
    }
   ],
   "source": [
    "has_friday_13(3, 2020)"
   ]
  },
  {
   "cell_type": "markdown",
   "id": "41525092",
   "metadata": {},
   "source": [
    "Excercise 07"
   ]
  },
  {
   "cell_type": "raw",
   "id": "ce2e62be",
   "metadata": {},
   "source": [
    "Hashtag Generator\n",
    "Create a function that is a Hashtag Generator by using the following rules:\n",
    "\n",
    "The output must start with a hashtag (#).\n",
    "1 Each word in the output must have its first letter capitalized.\n",
    "2 If the final result, a single string, is longer than 140 characters, the function should return false.\n",
    "3 If either the input (str) or the result is an empty string, the function should return false.\n",
    "Examples\n",
    "generate_hashtag(\"    Hello     World   \" ) ➞ \"#HelloWorld\"\n",
    "\n",
    "generate_hashtag(\"\") ➞ false, \"Expected an empty string to return false\"\n",
    "\n",
    "generate_hashtag(\"Edabit Is Great\") ➞ \"#EdabitIsGreat\", \"Should remove spaces.\""
   ]
  },
  {
   "cell_type": "code",
   "execution_count": 82,
   "id": "2334f811",
   "metadata": {},
   "outputs": [],
   "source": [
    "def generate_hashtag(text):\n",
    "    if len(text) > 140:\n",
    "        return False\n",
    "    elif len(text) == 0:\n",
    "        return False\n",
    "    else:\n",
    "        if len(text.replace(\" \", \"\")) == 0:\n",
    "            return False\n",
    "        else:\n",
    "            txt = \"#\"+text.title()\n",
    "            return \"\".join(txt.split())\n"
   ]
  },
  {
   "cell_type": "code",
   "execution_count": 83,
   "id": "196d6dc7",
   "metadata": {},
   "outputs": [
    {
     "data": {
      "text/plain": [
       "'#HelloWorld'"
      ]
     },
     "execution_count": 83,
     "metadata": {},
     "output_type": "execute_result"
    }
   ],
   "source": [
    "generate_hashtag(\"    hello    world   \")"
   ]
  },
  {
   "cell_type": "code",
   "execution_count": 84,
   "id": "fefee17d",
   "metadata": {},
   "outputs": [
    {
     "data": {
      "text/plain": [
       "False"
      ]
     },
     "execution_count": 84,
     "metadata": {},
     "output_type": "execute_result"
    }
   ],
   "source": [
    "generate_hashtag(\"\")"
   ]
  },
  {
   "cell_type": "code",
   "execution_count": 85,
   "id": "aff2a038",
   "metadata": {},
   "outputs": [
    {
     "data": {
      "text/plain": [
       "'#EdaBit'"
      ]
     },
     "execution_count": 85,
     "metadata": {},
     "output_type": "execute_result"
    }
   ],
   "source": [
    "generate_hashtag(\"Eda Bit\")"
   ]
  },
  {
   "cell_type": "code",
   "execution_count": 86,
   "id": "24f92c69",
   "metadata": {},
   "outputs": [],
   "source": [
    "def generate_hashtag(txt):\n",
    "    txt = txt.title().replace(\" \", \"\")\n",
    "    return '#' + txt if 0 < len(txt) < 140 else False"
   ]
  },
  {
   "cell_type": "code",
   "execution_count": 90,
   "id": "891baac9",
   "metadata": {},
   "outputs": [
    {
     "data": {
      "text/plain": [
       "'#EdaBit'"
      ]
     },
     "execution_count": 90,
     "metadata": {},
     "output_type": "execute_result"
    }
   ],
   "source": [
    "generate_hashtag(\"Eda Bit\")"
   ]
  },
  {
   "cell_type": "code",
   "execution_count": 89,
   "id": "c0f84569",
   "metadata": {},
   "outputs": [
    {
     "data": {
      "text/plain": [
       "False"
      ]
     },
     "execution_count": 89,
     "metadata": {},
     "output_type": "execute_result"
    }
   ],
   "source": [
    "generate_hashtag(\"\")"
   ]
  },
  {
   "cell_type": "code",
   "execution_count": 91,
   "id": "2c74b140",
   "metadata": {},
   "outputs": [
    {
     "data": {
      "text/plain": [
       "'#HelloWorld'"
      ]
     },
     "execution_count": 91,
     "metadata": {},
     "output_type": "execute_result"
    }
   ],
   "source": [
    "generate_hashtag(\"    hello    world   \")"
   ]
  },
  {
   "cell_type": "markdown",
   "id": "a5696c7b",
   "metadata": {},
   "source": [
    "Excercise 08"
   ]
  },
  {
   "cell_type": "raw",
   "id": "3efb196d",
   "metadata": {},
   "source": [
    "In this challenge, establish if a given integer num is a Curzon number. If 1 plus 2 elevated to num is exactly divisible by 1 plus 2 multiplied by num, then num is a Curzon number.\n",
    "\n",
    "Given a non-negative integer num, implement a function that returns True if num is a Curzon number, or False otherwise.\n",
    "\n",
    "Examples\n",
    "is_curzon(5) ➞ True\n",
    "# 2 ** 5 + 1 = 33\n",
    "# 2 * 5 + 1 = 11\n",
    "# 33 is a multiple of 11\n",
    "\n",
    "is_curzon(10) ➞ False\n",
    "# 2 ** 10 + 1 = 1025\n",
    "# 2 * 10 + 1 = 21\n",
    "# 1025 is not a multiple of 21\n",
    "\n",
    "is_curzon(14) ➞ True\n",
    "# 2 ** 14 + 1 = 16385\n",
    "# 2 * 14 + 1 = 29\n",
    "# 16385 is a multiple of 29"
   ]
  },
  {
   "cell_type": "code",
   "execution_count": 94,
   "id": "daef9638",
   "metadata": {},
   "outputs": [],
   "source": [
    "def is_curzon(num):\n",
    "    x = 2 ** num + 1\n",
    "    y = 2 * num + 1\n",
    "    print(x)\n",
    "    print(y)\n",
    "    print (x % y)\n",
    "    if x % y == 0:\n",
    "        return True\n",
    "    else:\n",
    "        return False\n",
    "    "
   ]
  },
  {
   "cell_type": "code",
   "execution_count": 95,
   "id": "de39a95a",
   "metadata": {},
   "outputs": [
    {
     "name": "stdout",
     "output_type": "stream",
     "text": [
      "16385\n",
      "29\n",
      "0\n"
     ]
    },
    {
     "data": {
      "text/plain": [
       "True"
      ]
     },
     "execution_count": 95,
     "metadata": {},
     "output_type": "execute_result"
    }
   ],
   "source": [
    "is_curzon(14)"
   ]
  },
  {
   "cell_type": "code",
   "execution_count": 96,
   "id": "5a7e791e",
   "metadata": {},
   "outputs": [
    {
     "name": "stdout",
     "output_type": "stream",
     "text": [
      "1025\n",
      "21\n",
      "17\n"
     ]
    },
    {
     "data": {
      "text/plain": [
       "False"
      ]
     },
     "execution_count": 96,
     "metadata": {},
     "output_type": "execute_result"
    }
   ],
   "source": [
    "is_curzon(10)"
   ]
  },
  {
   "cell_type": "code",
   "execution_count": 97,
   "id": "63c453e1",
   "metadata": {},
   "outputs": [
    {
     "name": "stdout",
     "output_type": "stream",
     "text": [
      "33\n",
      "11\n",
      "0\n"
     ]
    },
    {
     "data": {
      "text/plain": [
       "True"
      ]
     },
     "execution_count": 97,
     "metadata": {},
     "output_type": "execute_result"
    }
   ],
   "source": [
    "is_curzon(5) "
   ]
  },
  {
   "cell_type": "code",
   "execution_count": 103,
   "id": "0de90865",
   "metadata": {},
   "outputs": [],
   "source": [
    "def in_curzon2(n):\n",
    "    return not (2**n + 1) % (2*n + 1)"
   ]
  },
  {
   "cell_type": "code",
   "execution_count": 107,
   "id": "ef7f26ea",
   "metadata": {},
   "outputs": [
    {
     "data": {
      "text/plain": [
       "True"
      ]
     },
     "execution_count": 107,
     "metadata": {},
     "output_type": "execute_result"
    }
   ],
   "source": [
    "in_curzon2(5) "
   ]
  },
  {
   "cell_type": "markdown",
   "id": "a35abb75",
   "metadata": {},
   "source": [
    "Exercise 09"
   ]
  },
  {
   "cell_type": "raw",
   "id": "6c5d1e4f",
   "metadata": {},
   "source": [
    "In this challenge, sort a list containing a series of dates given as strings. Each date is given in the format DD-MM-YYYY_HH:MM:\n",
    "\n",
    "\"12-02-2012_13:44\"\n",
    "The priority of criteria used for sorting will be:\n",
    "\n",
    "Year\n",
    "Month\n",
    "Day\n",
    "Hours\n",
    "Minutes\n",
    "Given a list lst and a string mode, implement a function that returns:\n",
    "\n",
    "if mode is equal to \"ASC\", the list lst sorted in ascending order.\n",
    "if mode is equal to \"DSC\", the list lst sorted in descending order.\n",
    "\n",
    "Examples\n",
    "sort_dates([\"10-02-2018_12:30\", \"10-02-2016_12:30\", \"10-02-2018_12:15\"], \"ASC\") ➞ [\"10-02-2016_12:30\", \"10-02-2018_12:15\", \"10-02-2018_12:30\"]\n",
    "\n",
    "sort_dates([\"10-02-2018_12:30\", \"10-02-2016_12:30\", \"10-02-2018_12:15\"], \"DSC\") ➞ [\"10-02-2018_12:30\", \"10-02-2018_12:15\", \"10-02-2016_12:30\"]\n",
    "\n",
    "sort_dates([\"09-02-2000_10:03\", \"10-02-2000_18:29\", \"01-01-1999_00:55\"], \"ASC\") ➞ [\"01-01-1999_00:55\", \"09-02-2000_10:03\", \"10-02-2000_18:29\"]\n",
    "\n",
    "Notes\n",
    "Remember: the date is in the format DD-MM-YYYY_HH:MM.\n",
    "You can expect only valid formatted dates, without exceptions to handle."
   ]
  },
  {
   "cell_type": "code",
   "execution_count": 113,
   "id": "6de1d911",
   "metadata": {},
   "outputs": [],
   "source": [
    "import datetime\n",
    "def sort_dates(dates, sorting):\n",
    "    return 0"
   ]
  },
  {
   "cell_type": "code",
   "execution_count": 114,
   "id": "db0327f6",
   "metadata": {},
   "outputs": [
    {
     "data": {
      "text/plain": [
       "['05-2006', '12-2006', '04-2007', '08-2007', '09-2012', '11-2012', '05-2013']"
      ]
     },
     "execution_count": 114,
     "metadata": {},
     "output_type": "execute_result"
    }
   ],
   "source": [
    "d = ['09-2012', '04-2007', '11-2012', '05-2013', '12-2006', '05-2006', '08-2007']\n",
    "sorted(d, key=lambda x: datetime.datetime.strptime(x, dates_list))"
   ]
  },
  {
   "cell_type": "code",
   "execution_count": 179,
   "id": "7f4914cd",
   "metadata": {
    "scrolled": true
   },
   "outputs": [],
   "source": [
    "from datetime import datetime as dt\n",
    "dates_list = [\"09-02-2000_10:03\", \"10-02-2000_18:29\", \"01-01-1999_00:55\"]\n",
    "dates_list.sort(key=lambda x: dt.strptime(x, '%d-%m-%Y_%H:%M'))\n"
   ]
  },
  {
   "cell_type": "code",
   "execution_count": 198,
   "id": "ce409120",
   "metadata": {},
   "outputs": [
    {
     "data": {
      "text/plain": [
       "['01-01-1999_00:55', '09-02-2000_10:03', '10-02-2000_18:29']"
      ]
     },
     "execution_count": 198,
     "metadata": {},
     "output_type": "execute_result"
    }
   ],
   "source": [
    "from datetime import datetime as dt\n",
    "dates_list = [\"09-02-2000_10:03\", \"10-02-2000_18:29\", \"01-01-1999_00:55\"]\n",
    "dates_list.sort(key=lambda x: dt.strptime(x, '%d-%m-%Y_%H:%M'))\n",
    "dates_list"
   ]
  },
  {
   "cell_type": "code",
   "execution_count": 182,
   "id": "9ff6a874",
   "metadata": {},
   "outputs": [],
   "source": [
    "from datetime import datetime as dt\n",
    "date_string = [\"21 June, 2018\", \"21 July, 2018\", \"01 July, 2016\"]"
   ]
  },
  {
   "cell_type": "code",
   "execution_count": 199,
   "id": "7a9cf82d",
   "metadata": {},
   "outputs": [],
   "source": [
    "from datetime import datetime as dt\n",
    "\n",
    "def sort_dates(lst, mode):\n",
    "    lst.sort(key=lambda x: dt.strptime(x, '%d-%m-%Y_%H:%M'))\n",
    "    return lst if mode == 'ASC' else lst[::-1]"
   ]
  },
  {
   "cell_type": "code",
   "execution_count": 200,
   "id": "88d5d7d5",
   "metadata": {},
   "outputs": [
    {
     "data": {
      "text/plain": [
       "['01-01-1999_00:55', '09-02-2000_10:03', '10-02-2000_18:29']"
      ]
     },
     "execution_count": 200,
     "metadata": {},
     "output_type": "execute_result"
    }
   ],
   "source": [
    "lst = [\"09-02-2000_10:03\", \"10-02-2000_18:29\", \"01-01-1999_00:55\"]\n",
    "sort_dates(lst, 'ASC')"
   ]
  },
  {
   "cell_type": "code",
   "execution_count": 201,
   "id": "8dee810f",
   "metadata": {},
   "outputs": [
    {
     "data": {
      "text/plain": [
       "['10-02-2000_18:29', '09-02-2000_10:03', '01-01-1999_00:55']"
      ]
     },
     "execution_count": 201,
     "metadata": {},
     "output_type": "execute_result"
    }
   ],
   "source": [
    "sort_dates(lst, 'DSC')"
   ]
  },
  {
   "cell_type": "code",
   "execution_count": 207,
   "id": "4ea0d7fe",
   "metadata": {},
   "outputs": [],
   "source": [
    "def sort_dates2(lst, mode):\n",
    "    sorted_dates = sorted(lst, key=lambda x: datetime.strptime(x,\"%d-%m-%Y_%H:%M\"))\n",
    "    return sorted_dates if mode=='ASC' else sorted_dates[::-1]"
   ]
  },
  {
   "cell_type": "code",
   "execution_count": 208,
   "id": "5354bfd6",
   "metadata": {},
   "outputs": [
    {
     "data": {
      "text/plain": [
       "['10-02-2000_18:29', '09-02-2000_10:03', '01-01-1999_00:55']"
      ]
     },
     "execution_count": 208,
     "metadata": {},
     "output_type": "execute_result"
    }
   ],
   "source": [
    "sort_dates2(lst, 'DSC')"
   ]
  },
  {
   "cell_type": "code",
   "execution_count": null,
   "id": "329858c9",
   "metadata": {},
   "outputs": [],
   "source": []
  }
 ],
 "metadata": {
  "kernelspec": {
   "display_name": "Python 3 (ipykernel)",
   "language": "python",
   "name": "python3"
  },
  "language_info": {
   "codemirror_mode": {
    "name": "ipython",
    "version": 3
   },
   "file_extension": ".py",
   "mimetype": "text/x-python",
   "name": "python",
   "nbconvert_exporter": "python",
   "pygments_lexer": "ipython3",
   "version": "3.8.6"
  },
  "toc": {
   "base_numbering": 1,
   "nav_menu": {},
   "number_sections": true,
   "sideBar": true,
   "skip_h1_title": false,
   "title_cell": "Table of Contents",
   "title_sidebar": "Contents",
   "toc_cell": false,
   "toc_position": {},
   "toc_section_display": true,
   "toc_window_display": false
  },
  "varInspector": {
   "cols": {
    "lenName": 16,
    "lenType": 16,
    "lenVar": 40
   },
   "kernels_config": {
    "python": {
     "delete_cmd_postfix": "",
     "delete_cmd_prefix": "del ",
     "library": "var_list.py",
     "varRefreshCmd": "print(var_dic_list())"
    },
    "r": {
     "delete_cmd_postfix": ") ",
     "delete_cmd_prefix": "rm(",
     "library": "var_list.r",
     "varRefreshCmd": "cat(var_dic_list()) "
    }
   },
   "types_to_exclude": [
    "module",
    "function",
    "builtin_function_or_method",
    "instance",
    "_Feature"
   ],
   "window_display": false
  }
 },
 "nbformat": 4,
 "nbformat_minor": 5
}
