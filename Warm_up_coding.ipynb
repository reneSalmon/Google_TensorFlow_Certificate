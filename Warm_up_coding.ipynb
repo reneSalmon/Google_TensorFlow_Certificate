{
 "cells": [
  {
   "cell_type": "raw",
   "id": "40fd2d92",
   "metadata": {},
   "source": [
    "#Warm-Up Coding"
   ]
  },
  {
   "cell_type": "markdown",
   "id": "c66bc671",
   "metadata": {},
   "source": [
    "Exercise 01"
   ]
  },
  {
   "cell_type": "code",
   "execution_count": 3,
   "id": "0d2a9e7d",
   "metadata": {},
   "outputs": [],
   "source": [
    "def cubes(a):\n",
    "    return a**3"
   ]
  },
  {
   "cell_type": "code",
   "execution_count": 9,
   "id": "e9cedd4b",
   "metadata": {},
   "outputs": [
    {
     "name": "stdout",
     "output_type": "stream",
     "text": [
      "27 125 1000\n"
     ]
    }
   ],
   "source": [
    "print(cubes(3), cubes(5), cubes(10))"
   ]
  },
  {
   "cell_type": "markdown",
   "id": "edf658cb",
   "metadata": {},
   "source": [
    "Exercise 02"
   ]
  },
  {
   "cell_type": "code",
   "execution_count": 14,
   "id": "4d1533da",
   "metadata": {},
   "outputs": [],
   "source": [
    "#The vertical bar | is the equivalent to \"or\" in RegEx. \n",
    "#The regular expression x|y matches either \"x\" or \"y\". \n",
    "#Write the regular expression that will match all red flag and blue flag in a string.\n",
    "#You must use | in your expression. Flags can come in any order.\n",
    "\n",
    "import re\n",
    "\n",
    "pattern = \"^red|blue.*flag$\"\n"
   ]
  },
  {
   "cell_type": "code",
   "execution_count": 47,
   "id": "ff9915fb",
   "metadata": {},
   "outputs": [],
   "source": [
    "txt1 = \"red flag blue flag\"\n",
    "txt2 = \"yellow flag red flag blue flag green flag\"\n",
    "txt3 = \"pink flag red flag black flag blue flag green flag red flag\"\n",
    "pattern = \"red flag|blue flag\""
   ]
  },
  {
   "cell_type": "code",
   "execution_count": 48,
   "id": "494f27bf",
   "metadata": {},
   "outputs": [
    {
     "data": {
      "text/plain": [
       "['red flag', 'blue flag']"
      ]
     },
     "execution_count": 48,
     "metadata": {},
     "output_type": "execute_result"
    }
   ],
   "source": [
    "re.findall(pattern, txt1) "
   ]
  },
  {
   "cell_type": "code",
   "execution_count": 49,
   "id": "e136354e",
   "metadata": {},
   "outputs": [
    {
     "data": {
      "text/plain": [
       "['red flag', 'blue flag']"
      ]
     },
     "execution_count": 49,
     "metadata": {},
     "output_type": "execute_result"
    }
   ],
   "source": [
    "re.findall(pattern, txt2) "
   ]
  },
  {
   "cell_type": "code",
   "execution_count": 50,
   "id": "f83f7a45",
   "metadata": {},
   "outputs": [
    {
     "data": {
      "text/plain": [
       "['red flag', 'blue flag', 'red flag']"
      ]
     },
     "execution_count": 50,
     "metadata": {},
     "output_type": "execute_result"
    }
   ],
   "source": [
    "re.findall(pattern, txt3)"
   ]
  },
  {
   "cell_type": "markdown",
   "id": "ac7af665",
   "metadata": {},
   "source": [
    "Exercise 03"
   ]
  },
  {
   "cell_type": "code",
   "execution_count": 57,
   "id": "a2770b23",
   "metadata": {},
   "outputs": [],
   "source": [
    "#Create a function that inverts the rgb values of a given tuple.\n",
    "def color_invert(rgb):\n",
    "    \n",
    "    invert = []\n",
    "    \n",
    "    for x in rgb:\n",
    "        invert.append(255 - x)\n",
    "    \n",
    "    return tuple(invert)\n",
    "    "
   ]
  },
  {
   "cell_type": "code",
   "execution_count": 58,
   "id": "4eef7685",
   "metadata": {},
   "outputs": [
    {
     "data": {
      "text/plain": [
       "(0, 0, 0)"
      ]
     },
     "execution_count": 58,
     "metadata": {},
     "output_type": "execute_result"
    }
   ],
   "source": [
    "color_invert((255, 255, 255)) "
   ]
  },
  {
   "cell_type": "code",
   "execution_count": 59,
   "id": "5a2264bf",
   "metadata": {},
   "outputs": [
    {
     "data": {
      "text/plain": [
       "(255, 255, 255)"
      ]
     },
     "execution_count": 59,
     "metadata": {},
     "output_type": "execute_result"
    }
   ],
   "source": [
    "color_invert((0, 0, 0))"
   ]
  },
  {
   "cell_type": "code",
   "execution_count": 60,
   "id": "ef63cecb",
   "metadata": {},
   "outputs": [
    {
     "data": {
      "text/plain": [
       "(90, 85, 34)"
      ]
     },
     "execution_count": 60,
     "metadata": {},
     "output_type": "execute_result"
    }
   ],
   "source": [
    "color_invert((165, 170, 221))"
   ]
  },
  {
   "cell_type": "markdown",
   "id": "aa7b438a",
   "metadata": {},
   "source": [
    "Exercise 04"
   ]
  },
  {
   "cell_type": "raw",
   "id": "c3e7edf0",
   "metadata": {},
   "source": [
    "When resistors are connected together in series, the same current passes through each resistor in the chain and the total resistance, RT, of the circuit must be equal to the sum of all the individual resistors added together. That is:\n",
    "\n",
    "RT = R1 + R2 + R3 ...\n",
    "Create a function that takes an array of values resistance that are connected in series, and calculates the total resistance of the circuit in ohms. The ohm is the standard unit of electrical resistance in the International System of Units ( SI )."
   ]
  },
  {
   "cell_type": "code",
   "execution_count": 92,
   "id": "73dcec98",
   "metadata": {},
   "outputs": [],
   "source": [
    "def series_resistance(series):\n",
    "    RT = sum(series)\n",
    "    if RT <= 1:\n",
    "        return f\"{RT} ohm\"\n",
    "    else:\n",
    "        return f\"{RT} ohms\"\n",
    "    "
   ]
  },
  {
   "cell_type": "code",
   "execution_count": 96,
   "id": "938bbb5a",
   "metadata": {},
   "outputs": [],
   "source": [
    "def series_resistance(series):\n",
    "    RT = sum(series)\n",
    "    if RT <= 1:\n",
    "        return (\"{RT} ohm\").format(RT=RT)\n",
    "    else:\n",
    "        return (\"{RT} ohm\").format(RT=RT)"
   ]
  },
  {
   "cell_type": "code",
   "execution_count": 97,
   "id": "dd4dc59e",
   "metadata": {},
   "outputs": [
    {
     "data": {
      "text/plain": [
       "'15 ohm'"
      ]
     },
     "execution_count": 97,
     "metadata": {},
     "output_type": "execute_result"
    }
   ],
   "source": [
    "series_resistance([1, 5, 6, 3]) #\"15 ohms\""
   ]
  },
  {
   "cell_type": "code",
   "execution_count": 86,
   "id": "e51f68c6",
   "metadata": {},
   "outputs": [
    {
     "data": {
      "text/plain": [
       "'25.5 ohms'"
      ]
     },
     "execution_count": 86,
     "metadata": {},
     "output_type": "execute_result"
    }
   ],
   "source": [
    "\n",
    "\n",
    "series_resistance([16, 3.5, 6]) #\"25.5 ohms\"\n",
    "\n"
   ]
  },
  {
   "cell_type": "code",
   "execution_count": 87,
   "id": "5dc398c0",
   "metadata": {},
   "outputs": [
    {
     "data": {
      "text/plain": [
       "'1.0 ohm'"
      ]
     },
     "execution_count": 87,
     "metadata": {},
     "output_type": "execute_result"
    }
   ],
   "source": [
    "series_resistance([0.5, 0.5]) #\"1.0 ohm\""
   ]
  },
  {
   "cell_type": "code",
   "execution_count": null,
   "id": "d13db63a",
   "metadata": {},
   "outputs": [],
   "source": []
  }
 ],
 "metadata": {
  "kernelspec": {
   "display_name": "Python 3 (ipykernel)",
   "language": "python",
   "name": "python3"
  },
  "language_info": {
   "codemirror_mode": {
    "name": "ipython",
    "version": 3
   },
   "file_extension": ".py",
   "mimetype": "text/x-python",
   "name": "python",
   "nbconvert_exporter": "python",
   "pygments_lexer": "ipython3",
   "version": "3.8.6"
  },
  "toc": {
   "base_numbering": 1,
   "nav_menu": {},
   "number_sections": true,
   "sideBar": true,
   "skip_h1_title": false,
   "title_cell": "Table of Contents",
   "title_sidebar": "Contents",
   "toc_cell": false,
   "toc_position": {},
   "toc_section_display": true,
   "toc_window_display": false
  },
  "varInspector": {
   "cols": {
    "lenName": 16,
    "lenType": 16,
    "lenVar": 40
   },
   "kernels_config": {
    "python": {
     "delete_cmd_postfix": "",
     "delete_cmd_prefix": "del ",
     "library": "var_list.py",
     "varRefreshCmd": "print(var_dic_list())"
    },
    "r": {
     "delete_cmd_postfix": ") ",
     "delete_cmd_prefix": "rm(",
     "library": "var_list.r",
     "varRefreshCmd": "cat(var_dic_list()) "
    }
   },
   "types_to_exclude": [
    "module",
    "function",
    "builtin_function_or_method",
    "instance",
    "_Feature"
   ],
   "window_display": false
  }
 },
 "nbformat": 4,
 "nbformat_minor": 5
}
