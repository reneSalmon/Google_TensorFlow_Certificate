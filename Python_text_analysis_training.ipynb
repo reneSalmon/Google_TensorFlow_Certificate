{
  "nbformat": 4,
  "nbformat_minor": 0,
  "metadata": {
    "colab": {
      "provenance": [],
      "authorship_tag": "ABX9TyPiiOKXYOA/jYHm5bU3jhtE",
      "include_colab_link": true
    },
    "kernelspec": {
      "name": "python3",
      "display_name": "Python 3"
    },
    "language_info": {
      "name": "python"
    }
  },
  "cells": [
    {
      "cell_type": "markdown",
      "metadata": {
        "id": "view-in-github",
        "colab_type": "text"
      },
      "source": [
        "<a href=\"https://colab.research.google.com/github/reneSalmon/Google_TensorFlow_Certificate/blob/master/Python_text_analysis_training.ipynb\" target=\"_parent\"><img src=\"https://colab.research.google.com/assets/colab-badge.svg\" alt=\"Open In Colab\"/></a>"
      ]
    },
    {
      "cell_type": "markdown",
      "source": [
        "#Sentence Searcher"
      ],
      "metadata": {
        "id": "KQYUCyjolQ-O"
      }
    },
    {
      "cell_type": "markdown",
      "source": [
        "Create a function that returns the whole of the first sentence which contains a specific word. Include the full stop at the end of the sentence.\n",
        "\n",
        "Examples\n",
        "txt = \"I have a cat. I have a mat. Things are going swell.\"\n",
        "\n",
        "sentence_searcher(txt, \"have\") ➞ \"I have a cat.\"\n",
        "\n",
        "sentence_searcher(txt, \"MAT\") ➞ \"I have a mat.\"\n",
        "\n",
        "sentence_searcher(txt, \"things\") ➞ \"Things are going swell.\"\n",
        "\n",
        "sentence_searcher(txt, \"flat\") ➞ \"\"\n",
        "Notes\n",
        "Sentences will always end with a period.\n",
        "Your function should not be case sensitive.\n",
        "Return an empty string if the word isn't found in the sentence."
      ],
      "metadata": {
        "id": "3Xp9WfbDlayT"
      }
    },
    {
      "cell_type": "code",
      "source": [
        "txt = \"I have a cat. I have a mat. Things are going swell.\"\n",
        "word = \"CAT\""
      ],
      "metadata": {
        "id": "DBO_4ra8lnXB"
      },
      "execution_count": 53,
      "outputs": []
    },
    {
      "cell_type": "code",
      "source": [
        "lst = txt[:-1].split(\".\")\n",
        "lst"
      ],
      "metadata": {
        "colab": {
          "base_uri": "https://localhost:8080/"
        },
        "id": "ZlaPCUg6qour",
        "outputId": "3c3e2a22-444a-42c7-c4f7-50e8be1c0f72"
      },
      "execution_count": 28,
      "outputs": [
        {
          "output_type": "execute_result",
          "data": {
            "text/plain": [
              "['I have a cat', ' I have a mat', ' Things are going swell']"
            ]
          },
          "metadata": {},
          "execution_count": 28
        }
      ]
    },
    {
      "cell_type": "code",
      "source": [
        "def SentenceSearcher_00(txt, word):\n",
        "  for string in lst:\n",
        "    if word.lower() in string.lower():\n",
        "      return string+\".\"\n",
        "  return \"\""
      ],
      "metadata": {
        "id": "eHsfP3tHrFwx"
      },
      "execution_count": 61,
      "outputs": []
    },
    {
      "cell_type": "code",
      "source": [
        "SentenceSearcher_00(txt, word)"
      ],
      "metadata": {
        "colab": {
          "base_uri": "https://localhost:8080/",
          "height": 35
        },
        "id": "1vxcagMvltxk",
        "outputId": "bb1e7bea-9742-4aa6-893a-c97d839bdd8c"
      },
      "execution_count": 62,
      "outputs": [
        {
          "output_type": "execute_result",
          "data": {
            "text/plain": [
              "'I have a cat.'"
            ],
            "application/vnd.google.colaboratory.intrinsic+json": {
              "type": "string"
            }
          },
          "metadata": {},
          "execution_count": 62
        }
      ]
    },
    {
      "cell_type": "code",
      "source": [
        "SentenceSearcher_00(txt, \"Mat\")"
      ],
      "metadata": {
        "colab": {
          "base_uri": "https://localhost:8080/",
          "height": 35
        },
        "id": "Oo1siuktm5iS",
        "outputId": "f2ca4066-6f24-4699-8e9c-58c11963f726"
      },
      "execution_count": 63,
      "outputs": [
        {
          "output_type": "execute_result",
          "data": {
            "text/plain": [
              "' I have a mat.'"
            ],
            "application/vnd.google.colaboratory.intrinsic+json": {
              "type": "string"
            }
          },
          "metadata": {},
          "execution_count": 63
        }
      ]
    },
    {
      "cell_type": "code",
      "source": [
        "SentenceSearcher_00(txt, \"sWeLL\")"
      ],
      "metadata": {
        "colab": {
          "base_uri": "https://localhost:8080/",
          "height": 35
        },
        "id": "4RqGmwMKvW85",
        "outputId": "5e97431f-b947-42e9-c032-040e8ff7b9e2"
      },
      "execution_count": 64,
      "outputs": [
        {
          "output_type": "execute_result",
          "data": {
            "text/plain": [
              "' Things are going swell.'"
            ],
            "application/vnd.google.colaboratory.intrinsic+json": {
              "type": "string"
            }
          },
          "metadata": {},
          "execution_count": 64
        }
      ]
    },
    {
      "cell_type": "code",
      "source": [
        "def SentenceSearcher_01(txt, word):\n",
        "  lst = [string for string in txt.split(\".\") if word.lower() in string.lower().split()] \n",
        "  return \"\" if not lst else lst[0].strip()+\".\""
      ],
      "metadata": {
        "id": "tHT_3wC6vjJk"
      },
      "execution_count": 65,
      "outputs": []
    },
    {
      "cell_type": "code",
      "source": [
        "SentenceSearcher_01(txt, word)"
      ],
      "metadata": {
        "colab": {
          "base_uri": "https://localhost:8080/",
          "height": 35
        },
        "id": "wY0Sf133Gnzg",
        "outputId": "0efb57f3-f1d4-4c01-a1a4-4d906760ba64"
      },
      "execution_count": 66,
      "outputs": [
        {
          "output_type": "execute_result",
          "data": {
            "text/plain": [
              "'I have a cat.'"
            ],
            "application/vnd.google.colaboratory.intrinsic+json": {
              "type": "string"
            }
          },
          "metadata": {},
          "execution_count": 66
        }
      ]
    },
    {
      "cell_type": "code",
      "source": [
        "SentenceSearcher_01(txt, \"maT\")"
      ],
      "metadata": {
        "colab": {
          "base_uri": "https://localhost:8080/",
          "height": 35
        },
        "id": "7nAa16W_HNcA",
        "outputId": "5a6a2a3c-61bb-4426-c5be-0e7d426b60a6"
      },
      "execution_count": 68,
      "outputs": [
        {
          "output_type": "execute_result",
          "data": {
            "text/plain": [
              "'I have a mat.'"
            ],
            "application/vnd.google.colaboratory.intrinsic+json": {
              "type": "string"
            }
          },
          "metadata": {},
          "execution_count": 68
        }
      ]
    },
    {
      "cell_type": "markdown",
      "source": [
        "#Instant Jazz"
      ],
      "metadata": {
        "id": "VXPto7V1Pvld"
      }
    },
    {
      "cell_type": "markdown",
      "source": [
        "Create a function which concatenates the number 7 to the end of every chord in a list. Ignore all chords which already end with 7.\n",
        "\n",
        "Examples\n",
        "jazzify([\"G\", \"F\", \"C\"]) ➞ [\"G7\", \"F7\", \"C7\"]\n",
        "\n",
        "jazzify([\"Dm\", \"G\", \"E\", \"A\"]) ➞ [\"Dm7\", \"G7\", \"E7\", \"A7\"]\n",
        "\n",
        "jazzify([\"F7\", \"E7\", \"A7\", \"Ab7\", \"Gm7\", \"C7\"]) ➞ [\"F7\", \"E7\", \"A7\", \"Ab7\", \"Gm7\", \"C7\"]\n",
        "\n",
        "jazzify([]) ➞ []\n",
        "Notes\n",
        "Return an empty list if the given list is empty.\n",
        "You can expect all the tests to have valid chords."
      ],
      "metadata": {
        "id": "Tr63l4bePy3Q"
      }
    },
    {
      "cell_type": "code",
      "source": [
        "lst = [\"G\",\"F\",\"C\"]\n",
        "lst"
      ],
      "metadata": {
        "colab": {
          "base_uri": "https://localhost:8080/"
        },
        "id": "RM2oOsOUHkMw",
        "outputId": "9e2b9803-bbe0-4f6d-b19b-173fc8996476"
      },
      "execution_count": 79,
      "outputs": [
        {
          "output_type": "execute_result",
          "data": {
            "text/plain": [
              "['G', 'F', 'C']"
            ]
          },
          "metadata": {},
          "execution_count": 79
        }
      ]
    },
    {
      "cell_type": "code",
      "source": [
        "Trans1 = [word+\"7\" for word in lst]\n",
        "Trans1"
      ],
      "metadata": {
        "colab": {
          "base_uri": "https://localhost:8080/"
        },
        "id": "t9mwSL6mQBCD",
        "outputId": "d9f06238-db0c-4afb-9f7b-b01c6e1c915c"
      },
      "execution_count": 80,
      "outputs": [
        {
          "output_type": "execute_result",
          "data": {
            "text/plain": [
              "['G7', 'F7', 'C7']"
            ]
          },
          "metadata": {},
          "execution_count": 80
        }
      ]
    },
    {
      "cell_type": "code",
      "source": [
        "lst2 = [\"F7\", \"E7\", \"A7\", \"Ab7\", \"Gm7\", \"C7\"]"
      ],
      "metadata": {
        "id": "CiecV97NRRnd"
      },
      "execution_count": 109,
      "outputs": []
    },
    {
      "cell_type": "code",
      "source": [
        "Trans2 = [word+\"7\" if word.endswith(\"7\") == False else word for word in lst2]\n",
        "Trans2"
      ],
      "metadata": {
        "colab": {
          "base_uri": "https://localhost:8080/"
        },
        "id": "uUIhLliyRfGA",
        "outputId": "7587c911-0236-4c08-cac1-126ab0c8200c"
      },
      "execution_count": 111,
      "outputs": [
        {
          "output_type": "execute_result",
          "data": {
            "text/plain": [
              "['F7', 'E7', 'A7', 'Ab7', 'Gm7', 'C7']"
            ]
          },
          "metadata": {},
          "execution_count": 111
        }
      ]
    },
    {
      "cell_type": "code",
      "source": [
        "lst3 = []"
      ],
      "metadata": {
        "id": "1UYWCPNhSnqA"
      },
      "execution_count": 105,
      "outputs": []
    },
    {
      "cell_type": "code",
      "source": [
        "Trans3 = [word+\"7\" if word.endswith(\"7\") == False else word for word in lst3]\n",
        "Trans3"
      ],
      "metadata": {
        "colab": {
          "base_uri": "https://localhost:8080/"
        },
        "id": "EINLmTkhWp58",
        "outputId": "6086d7c4-18dd-4b28-8489-eec9a270755b"
      },
      "execution_count": 106,
      "outputs": [
        {
          "output_type": "execute_result",
          "data": {
            "text/plain": [
              "[]"
            ]
          },
          "metadata": {},
          "execution_count": 106
        }
      ]
    },
    {
      "cell_type": "code",
      "source": [
        "def jazzify(lst):\n",
        "  return [word+\"7\" if word.endswith(\"7\") == False else word for word in lst]"
      ],
      "metadata": {
        "id": "u5yKFjpsWwET"
      },
      "execution_count": 121,
      "outputs": []
    },
    {
      "cell_type": "code",
      "source": [
        "jazzify(lst)"
      ],
      "metadata": {
        "colab": {
          "base_uri": "https://localhost:8080/"
        },
        "id": "1_twTIUHXMzY",
        "outputId": "0baab775-5f55-4e35-96f9-0805bc665a5f"
      },
      "execution_count": 126,
      "outputs": [
        {
          "output_type": "execute_result",
          "data": {
            "text/plain": [
              "['G7', 'F7', 'C7']"
            ]
          },
          "metadata": {},
          "execution_count": 126
        }
      ]
    },
    {
      "cell_type": "code",
      "source": [],
      "metadata": {
        "id": "4j2EcMBNXQQT"
      },
      "execution_count": null,
      "outputs": []
    }
  ]
}