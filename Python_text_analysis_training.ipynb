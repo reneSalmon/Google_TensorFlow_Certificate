{
  "nbformat": 4,
  "nbformat_minor": 0,
  "metadata": {
    "colab": {
      "provenance": [],
      "authorship_tag": "ABX9TyPdeLsaL+BWPz8vSLmKCEIC",
      "include_colab_link": true
    },
    "kernelspec": {
      "name": "python3",
      "display_name": "Python 3"
    },
    "language_info": {
      "name": "python"
    }
  },
  "cells": [
    {
      "cell_type": "markdown",
      "metadata": {
        "id": "view-in-github",
        "colab_type": "text"
      },
      "source": [
        "<a href=\"https://colab.research.google.com/github/reneSalmon/Google_TensorFlow_Certificate/blob/master/Python_text_analysis_training.ipynb\" target=\"_parent\"><img src=\"https://colab.research.google.com/assets/colab-badge.svg\" alt=\"Open In Colab\"/></a>"
      ]
    },
    {
      "cell_type": "markdown",
      "source": [
        "#Sentence Searcher"
      ],
      "metadata": {
        "id": "KQYUCyjolQ-O"
      }
    },
    {
      "cell_type": "markdown",
      "source": [
        "Create a function that returns the whole of the first sentence which contains a specific word. Include the full stop at the end of the sentence.\n",
        "\n",
        "Examples\n",
        "txt = \"I have a cat. I have a mat. Things are going swell.\"\n",
        "\n",
        "sentence_searcher(txt, \"have\") ➞ \"I have a cat.\"\n",
        "\n",
        "sentence_searcher(txt, \"MAT\") ➞ \"I have a mat.\"\n",
        "\n",
        "sentence_searcher(txt, \"things\") ➞ \"Things are going swell.\"\n",
        "\n",
        "sentence_searcher(txt, \"flat\") ➞ \"\"\n",
        "Notes\n",
        "Sentences will always end with a period.\n",
        "Your function should not be case sensitive.\n",
        "Return an empty string if the word isn't found in the sentence."
      ],
      "metadata": {
        "id": "3Xp9WfbDlayT"
      }
    },
    {
      "cell_type": "code",
      "source": [
        "txt = \"I have a cat. I have a mat. Things are going swell.\"\n",
        "word = \"CAT\""
      ],
      "metadata": {
        "id": "DBO_4ra8lnXB"
      },
      "execution_count": 53,
      "outputs": []
    },
    {
      "cell_type": "code",
      "source": [
        "lst = txt[:-1].split(\".\")\n",
        "lst"
      ],
      "metadata": {
        "colab": {
          "base_uri": "https://localhost:8080/"
        },
        "id": "ZlaPCUg6qour",
        "outputId": "3c3e2a22-444a-42c7-c4f7-50e8be1c0f72"
      },
      "execution_count": 28,
      "outputs": [
        {
          "output_type": "execute_result",
          "data": {
            "text/plain": [
              "['I have a cat', ' I have a mat', ' Things are going swell']"
            ]
          },
          "metadata": {},
          "execution_count": 28
        }
      ]
    },
    {
      "cell_type": "code",
      "source": [
        "def SentenceSearcher_00(txt, word):\n",
        "  for string in lst:\n",
        "    if word.lower() in string.lower():\n",
        "      return string+\".\"\n",
        "  return \"\""
      ],
      "metadata": {
        "id": "eHsfP3tHrFwx"
      },
      "execution_count": 61,
      "outputs": []
    },
    {
      "cell_type": "code",
      "source": [
        "SentenceSearcher_00(txt, word)"
      ],
      "metadata": {
        "colab": {
          "base_uri": "https://localhost:8080/",
          "height": 35
        },
        "id": "1vxcagMvltxk",
        "outputId": "bb1e7bea-9742-4aa6-893a-c97d839bdd8c"
      },
      "execution_count": 62,
      "outputs": [
        {
          "output_type": "execute_result",
          "data": {
            "text/plain": [
              "'I have a cat.'"
            ],
            "application/vnd.google.colaboratory.intrinsic+json": {
              "type": "string"
            }
          },
          "metadata": {},
          "execution_count": 62
        }
      ]
    },
    {
      "cell_type": "code",
      "source": [
        "SentenceSearcher_00(txt, \"Mat\")"
      ],
      "metadata": {
        "colab": {
          "base_uri": "https://localhost:8080/",
          "height": 35
        },
        "id": "Oo1siuktm5iS",
        "outputId": "f2ca4066-6f24-4699-8e9c-58c11963f726"
      },
      "execution_count": 63,
      "outputs": [
        {
          "output_type": "execute_result",
          "data": {
            "text/plain": [
              "' I have a mat.'"
            ],
            "application/vnd.google.colaboratory.intrinsic+json": {
              "type": "string"
            }
          },
          "metadata": {},
          "execution_count": 63
        }
      ]
    },
    {
      "cell_type": "code",
      "source": [
        "SentenceSearcher_00(txt, \"sWeLL\")"
      ],
      "metadata": {
        "colab": {
          "base_uri": "https://localhost:8080/",
          "height": 35
        },
        "id": "4RqGmwMKvW85",
        "outputId": "5e97431f-b947-42e9-c032-040e8ff7b9e2"
      },
      "execution_count": 64,
      "outputs": [
        {
          "output_type": "execute_result",
          "data": {
            "text/plain": [
              "' Things are going swell.'"
            ],
            "application/vnd.google.colaboratory.intrinsic+json": {
              "type": "string"
            }
          },
          "metadata": {},
          "execution_count": 64
        }
      ]
    },
    {
      "cell_type": "code",
      "source": [
        "def SentenceSearcher_01(txt, word):\n",
        "  lst = [string for string in txt.split(\".\") if word.lower() in string.lower().split()] \n",
        "  return \"\" if not lst else lst[0].strip()+\".\""
      ],
      "metadata": {
        "id": "tHT_3wC6vjJk"
      },
      "execution_count": 65,
      "outputs": []
    },
    {
      "cell_type": "code",
      "source": [
        "SentenceSearcher_01(txt, word)"
      ],
      "metadata": {
        "colab": {
          "base_uri": "https://localhost:8080/",
          "height": 35
        },
        "id": "wY0Sf133Gnzg",
        "outputId": "0efb57f3-f1d4-4c01-a1a4-4d906760ba64"
      },
      "execution_count": 66,
      "outputs": [
        {
          "output_type": "execute_result",
          "data": {
            "text/plain": [
              "'I have a cat.'"
            ],
            "application/vnd.google.colaboratory.intrinsic+json": {
              "type": "string"
            }
          },
          "metadata": {},
          "execution_count": 66
        }
      ]
    },
    {
      "cell_type": "code",
      "source": [
        "SentenceSearcher_01(txt, \"maT\")"
      ],
      "metadata": {
        "colab": {
          "base_uri": "https://localhost:8080/",
          "height": 35
        },
        "id": "7nAa16W_HNcA",
        "outputId": "5a6a2a3c-61bb-4426-c5be-0e7d426b60a6"
      },
      "execution_count": 68,
      "outputs": [
        {
          "output_type": "execute_result",
          "data": {
            "text/plain": [
              "'I have a mat.'"
            ],
            "application/vnd.google.colaboratory.intrinsic+json": {
              "type": "string"
            }
          },
          "metadata": {},
          "execution_count": 68
        }
      ]
    },
    {
      "cell_type": "code",
      "source": [],
      "metadata": {
        "id": "RM2oOsOUHkMw"
      },
      "execution_count": null,
      "outputs": []
    }
  ]
}