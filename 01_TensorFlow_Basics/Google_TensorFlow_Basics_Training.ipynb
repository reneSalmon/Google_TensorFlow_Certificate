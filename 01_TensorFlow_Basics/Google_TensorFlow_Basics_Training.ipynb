{
  "nbformat": 4,
  "nbformat_minor": 0,
  "metadata": {
    "colab": {
      "name": "Google_TensorFlow_Basics_Training.ipynb",
      "provenance": [],
      "collapsed_sections": [
        "d2_GoZKRHdjX",
        "awgoHm6mJA7E",
        "vB51E-gPLHE-",
        "PY8aTcW4LiCp"
      ]
    },
    "kernelspec": {
      "name": "python3",
      "display_name": "Python 3"
    },
    "language_info": {
      "name": "python"
    }
  },
  "cells": [
    {
      "cell_type": "markdown",
      "source": [
        "#Install setup"
      ],
      "metadata": {
        "id": "d2_GoZKRHdjX"
      }
    },
    {
      "cell_type": "markdown",
      "source": [
        "a. Install packages"
      ],
      "metadata": {
        "id": "YE9UtL2-I1KW"
      }
    },
    {
      "cell_type": "code",
      "execution_count": null,
      "metadata": {
        "colab": {
          "base_uri": "https://localhost:8080/",
          "height": 1000
        },
        "id": "0uRF9YNLGdkS",
        "outputId": "7a40cbbb-9ec0-4ab9-a84d-13a4eb3d10ba"
      },
      "outputs": [
        {
          "output_type": "stream",
          "name": "stdout",
          "text": [
            "Collecting tensorflow==2.8.0\n",
            "  Downloading tensorflow-2.8.0-cp37-cp37m-manylinux2010_x86_64.whl (497.5 MB)\n",
            "\u001b[K     |████████████████████████████████| 497.5 MB 22 kB/s \n",
            "\u001b[?25hCollecting tf-estimator-nightly==2.8.0.dev2021122109\n",
            "  Downloading tf_estimator_nightly-2.8.0.dev2021122109-py2.py3-none-any.whl (462 kB)\n",
            "\u001b[K     |████████████████████████████████| 462 kB 59.2 MB/s \n",
            "\u001b[?25hRequirement already satisfied: libclang>=9.0.1 in /usr/local/lib/python3.7/dist-packages (from tensorflow==2.8.0) (13.0.0)\n",
            "Requirement already satisfied: gast>=0.2.1 in /usr/local/lib/python3.7/dist-packages (from tensorflow==2.8.0) (0.4.0)\n",
            "Requirement already satisfied: keras-preprocessing>=1.1.1 in /usr/local/lib/python3.7/dist-packages (from tensorflow==2.8.0) (1.1.2)\n",
            "Requirement already satisfied: tensorflow-io-gcs-filesystem>=0.23.1 in /usr/local/lib/python3.7/dist-packages (from tensorflow==2.8.0) (0.23.1)\n",
            "Requirement already satisfied: google-pasta>=0.1.1 in /usr/local/lib/python3.7/dist-packages (from tensorflow==2.8.0) (0.2.0)\n",
            "Requirement already satisfied: h5py>=2.9.0 in /usr/local/lib/python3.7/dist-packages (from tensorflow==2.8.0) (3.1.0)\n",
            "Requirement already satisfied: six>=1.12.0 in /usr/local/lib/python3.7/dist-packages (from tensorflow==2.8.0) (1.15.0)\n",
            "Requirement already satisfied: protobuf>=3.9.2 in /usr/local/lib/python3.7/dist-packages (from tensorflow==2.8.0) (3.17.3)\n",
            "Requirement already satisfied: absl-py>=0.4.0 in /usr/local/lib/python3.7/dist-packages (from tensorflow==2.8.0) (1.0.0)\n",
            "Collecting numpy>=1.20\n",
            "  Downloading numpy-1.21.5-cp37-cp37m-manylinux_2_12_x86_64.manylinux2010_x86_64.whl (15.7 MB)\n",
            "\u001b[K     |████████████████████████████████| 15.7 MB 49.4 MB/s \n",
            "\u001b[?25hRequirement already satisfied: termcolor>=1.1.0 in /usr/local/lib/python3.7/dist-packages (from tensorflow==2.8.0) (1.1.0)\n",
            "Requirement already satisfied: opt-einsum>=2.3.2 in /usr/local/lib/python3.7/dist-packages (from tensorflow==2.8.0) (3.3.0)\n",
            "Requirement already satisfied: wrapt>=1.11.0 in /usr/local/lib/python3.7/dist-packages (from tensorflow==2.8.0) (1.13.3)\n",
            "Requirement already satisfied: setuptools in /usr/local/lib/python3.7/dist-packages (from tensorflow==2.8.0) (57.4.0)\n",
            "Collecting keras<2.9,>=2.8.0rc0\n",
            "  Downloading keras-2.8.0-py2.py3-none-any.whl (1.4 MB)\n",
            "\u001b[K     |████████████████████████████████| 1.4 MB 51.6 MB/s \n",
            "\u001b[?25hRequirement already satisfied: astunparse>=1.6.0 in /usr/local/lib/python3.7/dist-packages (from tensorflow==2.8.0) (1.6.3)\n",
            "Collecting tensorboard<2.9,>=2.8\n",
            "  Downloading tensorboard-2.8.0-py3-none-any.whl (5.8 MB)\n",
            "\u001b[K     |████████████████████████████████| 5.8 MB 48.4 MB/s \n",
            "\u001b[?25hRequirement already satisfied: flatbuffers>=1.12 in /usr/local/lib/python3.7/dist-packages (from tensorflow==2.8.0) (2.0)\n",
            "Requirement already satisfied: grpcio<2.0,>=1.24.3 in /usr/local/lib/python3.7/dist-packages (from tensorflow==2.8.0) (1.43.0)\n",
            "Requirement already satisfied: typing-extensions>=3.6.6 in /usr/local/lib/python3.7/dist-packages (from tensorflow==2.8.0) (3.10.0.2)\n",
            "Requirement already satisfied: wheel<1.0,>=0.23.0 in /usr/local/lib/python3.7/dist-packages (from astunparse>=1.6.0->tensorflow==2.8.0) (0.37.1)\n",
            "Requirement already satisfied: cached-property in /usr/local/lib/python3.7/dist-packages (from h5py>=2.9.0->tensorflow==2.8.0) (1.5.2)\n",
            "Requirement already satisfied: google-auth<3,>=1.6.3 in /usr/local/lib/python3.7/dist-packages (from tensorboard<2.9,>=2.8->tensorflow==2.8.0) (1.35.0)\n",
            "Requirement already satisfied: tensorboard-data-server<0.7.0,>=0.6.0 in /usr/local/lib/python3.7/dist-packages (from tensorboard<2.9,>=2.8->tensorflow==2.8.0) (0.6.1)\n",
            "Requirement already satisfied: werkzeug>=0.11.15 in /usr/local/lib/python3.7/dist-packages (from tensorboard<2.9,>=2.8->tensorflow==2.8.0) (1.0.1)\n",
            "Requirement already satisfied: tensorboard-plugin-wit>=1.6.0 in /usr/local/lib/python3.7/dist-packages (from tensorboard<2.9,>=2.8->tensorflow==2.8.0) (1.8.1)\n",
            "Requirement already satisfied: requests<3,>=2.21.0 in /usr/local/lib/python3.7/dist-packages (from tensorboard<2.9,>=2.8->tensorflow==2.8.0) (2.23.0)\n",
            "Requirement already satisfied: google-auth-oauthlib<0.5,>=0.4.1 in /usr/local/lib/python3.7/dist-packages (from tensorboard<2.9,>=2.8->tensorflow==2.8.0) (0.4.6)\n",
            "Requirement already satisfied: markdown>=2.6.8 in /usr/local/lib/python3.7/dist-packages (from tensorboard<2.9,>=2.8->tensorflow==2.8.0) (3.3.6)\n",
            "Requirement already satisfied: pyasn1-modules>=0.2.1 in /usr/local/lib/python3.7/dist-packages (from google-auth<3,>=1.6.3->tensorboard<2.9,>=2.8->tensorflow==2.8.0) (0.2.8)\n",
            "Requirement already satisfied: cachetools<5.0,>=2.0.0 in /usr/local/lib/python3.7/dist-packages (from google-auth<3,>=1.6.3->tensorboard<2.9,>=2.8->tensorflow==2.8.0) (4.2.4)\n",
            "Requirement already satisfied: rsa<5,>=3.1.4 in /usr/local/lib/python3.7/dist-packages (from google-auth<3,>=1.6.3->tensorboard<2.9,>=2.8->tensorflow==2.8.0) (4.8)\n",
            "Requirement already satisfied: requests-oauthlib>=0.7.0 in /usr/local/lib/python3.7/dist-packages (from google-auth-oauthlib<0.5,>=0.4.1->tensorboard<2.9,>=2.8->tensorflow==2.8.0) (1.3.1)\n",
            "Requirement already satisfied: importlib-metadata>=4.4 in /usr/local/lib/python3.7/dist-packages (from markdown>=2.6.8->tensorboard<2.9,>=2.8->tensorflow==2.8.0) (4.10.1)\n",
            "Requirement already satisfied: zipp>=0.5 in /usr/local/lib/python3.7/dist-packages (from importlib-metadata>=4.4->markdown>=2.6.8->tensorboard<2.9,>=2.8->tensorflow==2.8.0) (3.7.0)\n",
            "Requirement already satisfied: pyasn1<0.5.0,>=0.4.6 in /usr/local/lib/python3.7/dist-packages (from pyasn1-modules>=0.2.1->google-auth<3,>=1.6.3->tensorboard<2.9,>=2.8->tensorflow==2.8.0) (0.4.8)\n",
            "Requirement already satisfied: idna<3,>=2.5 in /usr/local/lib/python3.7/dist-packages (from requests<3,>=2.21.0->tensorboard<2.9,>=2.8->tensorflow==2.8.0) (2.10)\n",
            "Requirement already satisfied: chardet<4,>=3.0.2 in /usr/local/lib/python3.7/dist-packages (from requests<3,>=2.21.0->tensorboard<2.9,>=2.8->tensorflow==2.8.0) (3.0.4)\n",
            "Requirement already satisfied: certifi>=2017.4.17 in /usr/local/lib/python3.7/dist-packages (from requests<3,>=2.21.0->tensorboard<2.9,>=2.8->tensorflow==2.8.0) (2021.10.8)\n",
            "Requirement already satisfied: urllib3!=1.25.0,!=1.25.1,<1.26,>=1.21.1 in /usr/local/lib/python3.7/dist-packages (from requests<3,>=2.21.0->tensorboard<2.9,>=2.8->tensorflow==2.8.0) (1.24.3)\n",
            "Requirement already satisfied: oauthlib>=3.0.0 in /usr/local/lib/python3.7/dist-packages (from requests-oauthlib>=0.7.0->google-auth-oauthlib<0.5,>=0.4.1->tensorboard<2.9,>=2.8->tensorflow==2.8.0) (3.2.0)\n",
            "Installing collected packages: numpy, tf-estimator-nightly, tensorboard, keras, tensorflow\n",
            "  Attempting uninstall: numpy\n",
            "    Found existing installation: numpy 1.19.5\n",
            "    Uninstalling numpy-1.19.5:\n",
            "      Successfully uninstalled numpy-1.19.5\n",
            "  Attempting uninstall: tensorboard\n",
            "    Found existing installation: tensorboard 2.7.0\n",
            "    Uninstalling tensorboard-2.7.0:\n",
            "      Successfully uninstalled tensorboard-2.7.0\n",
            "  Attempting uninstall: keras\n",
            "    Found existing installation: keras 2.7.0\n",
            "    Uninstalling keras-2.7.0:\n",
            "      Successfully uninstalled keras-2.7.0\n",
            "  Attempting uninstall: tensorflow\n",
            "    Found existing installation: tensorflow 2.7.0\n",
            "    Uninstalling tensorflow-2.7.0:\n",
            "      Successfully uninstalled tensorflow-2.7.0\n",
            "\u001b[31mERROR: pip's dependency resolver does not currently take into account all the packages that are installed. This behaviour is the source of the following dependency conflicts.\n",
            "yellowbrick 1.3.post1 requires numpy<1.20,>=1.16.0, but you have numpy 1.21.5 which is incompatible.\n",
            "datascience 0.10.6 requires folium==0.2.1, but you have folium 0.8.3 which is incompatible.\n",
            "albumentations 0.1.12 requires imgaug<0.2.7,>=0.2.5, but you have imgaug 0.2.9 which is incompatible.\u001b[0m\n",
            "Successfully installed keras-2.8.0 numpy-1.21.5 tensorboard-2.8.0 tensorflow-2.8.0 tf-estimator-nightly-2.8.0.dev2021122109\n"
          ]
        },
        {
          "output_type": "display_data",
          "data": {
            "application/vnd.colab-display-data+json": {
              "pip_warning": {
                "packages": [
                  "numpy"
                ]
              }
            }
          },
          "metadata": {}
        }
      ],
      "source": [
        "!pip install tensorflow==2.8.0"
      ]
    },
    {
      "cell_type": "markdown",
      "source": [
        "b. Import libaries"
      ],
      "metadata": {
        "id": "HJo8Id8lIvD-"
      }
    },
    {
      "cell_type": "code",
      "source": [
        "\n",
        "import tensorflow as tf\n",
        "import numpy as np\n",
        "from tensorflow import keras\n",
        "\n",
        "print(tf.__version__)\n"
      ],
      "metadata": {
        "colab": {
          "base_uri": "https://localhost:8080/"
        },
        "id": "g2cH5nnUHbCU",
        "outputId": "1fc4dfd2-5448-478f-d07f-789a58d03b3d"
      },
      "execution_count": null,
      "outputs": [
        {
          "output_type": "stream",
          "name": "stdout",
          "text": [
            "2.8.0\n"
          ]
        }
      ]
    },
    {
      "cell_type": "markdown",
      "source": [
        "#Define and compile Neural Network"
      ],
      "metadata": {
        "id": "awgoHm6mJA7E"
      }
    },
    {
      "cell_type": "markdown",
      "source": [
        "a. Create simple NN"
      ],
      "metadata": {
        "id": "EvgeZz3pJq6I"
      }
    },
    {
      "cell_type": "code",
      "source": [
        "model  = tf.keras.Sequential([keras.layers.Dense(units=1, input_shape=[1])])"
      ],
      "metadata": {
        "id": "ppIkXBT7JRvB"
      },
      "execution_count": null,
      "outputs": []
    },
    {
      "cell_type": "markdown",
      "source": [
        "b. Compile neural network"
      ],
      "metadata": {
        "id": "yCYS2DiEJuLy"
      }
    },
    {
      "cell_type": "code",
      "source": [
        "model.compile(optimizer=\"sgd\", loss=\"mean_squared_error\")"
      ],
      "metadata": {
        "id": "LpGuDjWGJgzY"
      },
      "execution_count": null,
      "outputs": []
    },
    {
      "cell_type": "markdown",
      "source": [
        "c. Provide data"
      ],
      "metadata": {
        "id": "VLuVAM1JKeyR"
      }
    },
    {
      "cell_type": "code",
      "source": [
        "xs = np.array([-1.0, 0.0, 1.0, 2.0, 3.0, 4.0], dtype=float)\n",
        "ys = np.array([-3.0, -1.0, 1.0, 3.0, 5.0, 7.0], dtype=float)"
      ],
      "metadata": {
        "id": "BB9A1h6yKWM7"
      },
      "execution_count": null,
      "outputs": []
    },
    {
      "cell_type": "markdown",
      "source": [
        "# Train the NN"
      ],
      "metadata": {
        "id": "vB51E-gPLHE-"
      }
    },
    {
      "cell_type": "markdown",
      "source": [
        "The process of training the neural network, where it 'learns' the relationship between the Xs and Ys is in the model.fit call. "
      ],
      "metadata": {
        "id": "e2DuGcvsUxNT"
      }
    },
    {
      "cell_type": "code",
      "source": [
        "model.fit(xs, ys, epochs=500)"
      ],
      "metadata": {
        "colab": {
          "base_uri": "https://localhost:8080/"
        },
        "id": "N2_FkpLxLE2O",
        "outputId": "58ad8208-79b5-430d-9eec-edb64247ae7f"
      },
      "execution_count": null,
      "outputs": [
        {
          "output_type": "stream",
          "name": "stdout",
          "text": [
            "Epoch 1/500\n",
            "1/1 [==============================] - 0s 368ms/step - loss: 19.1270\n",
            "Epoch 2/500\n",
            "1/1 [==============================] - 0s 10ms/step - loss: 15.3101\n",
            "Epoch 3/500\n",
            "1/1 [==============================] - 0s 7ms/step - loss: 12.3018\n",
            "Epoch 4/500\n",
            "1/1 [==============================] - 0s 9ms/step - loss: 9.9297\n",
            "Epoch 5/500\n",
            "1/1 [==============================] - 0s 9ms/step - loss: 8.0583\n",
            "Epoch 6/500\n",
            "1/1 [==============================] - 0s 9ms/step - loss: 6.5810\n",
            "Epoch 7/500\n",
            "1/1 [==============================] - 0s 13ms/step - loss: 5.4137\n",
            "Epoch 8/500\n",
            "1/1 [==============================] - 0s 11ms/step - loss: 4.4905\n",
            "Epoch 9/500\n",
            "1/1 [==============================] - 0s 10ms/step - loss: 3.7594\n",
            "Epoch 10/500\n",
            "1/1 [==============================] - 0s 11ms/step - loss: 3.1796\n",
            "Epoch 11/500\n",
            "1/1 [==============================] - 0s 8ms/step - loss: 2.7188\n",
            "Epoch 12/500\n",
            "1/1 [==============================] - 0s 8ms/step - loss: 2.3519\n",
            "Epoch 13/500\n",
            "1/1 [==============================] - 0s 8ms/step - loss: 2.0588\n",
            "Epoch 14/500\n",
            "1/1 [==============================] - 0s 7ms/step - loss: 1.8239\n",
            "Epoch 15/500\n",
            "1/1 [==============================] - 0s 9ms/step - loss: 1.6350\n",
            "Epoch 16/500\n",
            "1/1 [==============================] - 0s 9ms/step - loss: 1.4822\n",
            "Epoch 17/500\n",
            "1/1 [==============================] - 0s 6ms/step - loss: 1.3580\n",
            "Epoch 18/500\n",
            "1/1 [==============================] - 0s 7ms/step - loss: 1.2563\n",
            "Epoch 19/500\n",
            "1/1 [==============================] - 0s 10ms/step - loss: 1.1724\n",
            "Epoch 20/500\n",
            "1/1 [==============================] - 0s 5ms/step - loss: 1.1027\n",
            "Epoch 21/500\n",
            "1/1 [==============================] - 0s 5ms/step - loss: 1.0441\n",
            "Epoch 22/500\n",
            "1/1 [==============================] - 0s 5ms/step - loss: 0.9944\n",
            "Epoch 23/500\n",
            "1/1 [==============================] - 0s 5ms/step - loss: 0.9517\n",
            "Epoch 24/500\n",
            "1/1 [==============================] - 0s 5ms/step - loss: 0.9147\n",
            "Epoch 25/500\n",
            "1/1 [==============================] - 0s 5ms/step - loss: 0.8821\n",
            "Epoch 26/500\n",
            "1/1 [==============================] - 0s 7ms/step - loss: 0.8532\n",
            "Epoch 27/500\n",
            "1/1 [==============================] - 0s 6ms/step - loss: 0.8271\n",
            "Epoch 28/500\n",
            "1/1 [==============================] - 0s 6ms/step - loss: 0.8034\n",
            "Epoch 29/500\n",
            "1/1 [==============================] - 0s 11ms/step - loss: 0.7817\n",
            "Epoch 30/500\n",
            "1/1 [==============================] - 0s 6ms/step - loss: 0.7615\n",
            "Epoch 31/500\n",
            "1/1 [==============================] - 0s 5ms/step - loss: 0.7426\n",
            "Epoch 32/500\n",
            "1/1 [==============================] - 0s 5ms/step - loss: 0.7247\n",
            "Epoch 33/500\n",
            "1/1 [==============================] - 0s 6ms/step - loss: 0.7078\n",
            "Epoch 34/500\n",
            "1/1 [==============================] - 0s 5ms/step - loss: 0.6917\n",
            "Epoch 35/500\n",
            "1/1 [==============================] - 0s 6ms/step - loss: 0.6762\n",
            "Epoch 36/500\n",
            "1/1 [==============================] - 0s 5ms/step - loss: 0.6614\n",
            "Epoch 37/500\n",
            "1/1 [==============================] - 0s 9ms/step - loss: 0.6470\n",
            "Epoch 38/500\n",
            "1/1 [==============================] - 0s 6ms/step - loss: 0.6331\n",
            "Epoch 39/500\n",
            "1/1 [==============================] - 0s 5ms/step - loss: 0.6196\n",
            "Epoch 40/500\n",
            "1/1 [==============================] - 0s 5ms/step - loss: 0.6065\n",
            "Epoch 41/500\n",
            "1/1 [==============================] - 0s 5ms/step - loss: 0.5938\n",
            "Epoch 42/500\n",
            "1/1 [==============================] - 0s 5ms/step - loss: 0.5813\n",
            "Epoch 43/500\n",
            "1/1 [==============================] - 0s 7ms/step - loss: 0.5692\n",
            "Epoch 44/500\n",
            "1/1 [==============================] - 0s 16ms/step - loss: 0.5574\n",
            "Epoch 45/500\n",
            "1/1 [==============================] - 0s 9ms/step - loss: 0.5458\n",
            "Epoch 46/500\n",
            "1/1 [==============================] - 0s 11ms/step - loss: 0.5345\n",
            "Epoch 47/500\n",
            "1/1 [==============================] - 0s 7ms/step - loss: 0.5235\n",
            "Epoch 48/500\n",
            "1/1 [==============================] - 0s 6ms/step - loss: 0.5127\n",
            "Epoch 49/500\n",
            "1/1 [==============================] - 0s 8ms/step - loss: 0.5021\n",
            "Epoch 50/500\n",
            "1/1 [==============================] - 0s 6ms/step - loss: 0.4917\n",
            "Epoch 51/500\n",
            "1/1 [==============================] - 0s 9ms/step - loss: 0.4816\n",
            "Epoch 52/500\n",
            "1/1 [==============================] - 0s 8ms/step - loss: 0.4717\n",
            "Epoch 53/500\n",
            "1/1 [==============================] - 0s 7ms/step - loss: 0.4620\n",
            "Epoch 54/500\n",
            "1/1 [==============================] - 0s 7ms/step - loss: 0.4525\n",
            "Epoch 55/500\n",
            "1/1 [==============================] - 0s 7ms/step - loss: 0.4432\n",
            "Epoch 56/500\n",
            "1/1 [==============================] - 0s 7ms/step - loss: 0.4341\n",
            "Epoch 57/500\n",
            "1/1 [==============================] - 0s 14ms/step - loss: 0.4251\n",
            "Epoch 58/500\n",
            "1/1 [==============================] - 0s 7ms/step - loss: 0.4164\n",
            "Epoch 59/500\n",
            "1/1 [==============================] - 0s 7ms/step - loss: 0.4079\n",
            "Epoch 60/500\n",
            "1/1 [==============================] - 0s 7ms/step - loss: 0.3995\n",
            "Epoch 61/500\n",
            "1/1 [==============================] - 0s 8ms/step - loss: 0.3913\n",
            "Epoch 62/500\n",
            "1/1 [==============================] - 0s 8ms/step - loss: 0.3832\n",
            "Epoch 63/500\n",
            "1/1 [==============================] - 0s 7ms/step - loss: 0.3754\n",
            "Epoch 64/500\n",
            "1/1 [==============================] - 0s 8ms/step - loss: 0.3676\n",
            "Epoch 65/500\n",
            "1/1 [==============================] - 0s 8ms/step - loss: 0.3601\n",
            "Epoch 66/500\n",
            "1/1 [==============================] - 0s 11ms/step - loss: 0.3527\n",
            "Epoch 67/500\n",
            "1/1 [==============================] - 0s 11ms/step - loss: 0.3454\n",
            "Epoch 68/500\n",
            "1/1 [==============================] - 0s 11ms/step - loss: 0.3384\n",
            "Epoch 69/500\n",
            "1/1 [==============================] - 0s 12ms/step - loss: 0.3314\n",
            "Epoch 70/500\n",
            "1/1 [==============================] - 0s 14ms/step - loss: 0.3246\n",
            "Epoch 71/500\n",
            "1/1 [==============================] - 0s 11ms/step - loss: 0.3179\n",
            "Epoch 72/500\n",
            "1/1 [==============================] - 0s 12ms/step - loss: 0.3114\n",
            "Epoch 73/500\n",
            "1/1 [==============================] - 0s 8ms/step - loss: 0.3050\n",
            "Epoch 74/500\n",
            "1/1 [==============================] - 0s 8ms/step - loss: 0.2987\n",
            "Epoch 75/500\n",
            "1/1 [==============================] - 0s 8ms/step - loss: 0.2926\n",
            "Epoch 76/500\n",
            "1/1 [==============================] - 0s 7ms/step - loss: 0.2866\n",
            "Epoch 77/500\n",
            "1/1 [==============================] - 0s 18ms/step - loss: 0.2807\n",
            "Epoch 78/500\n",
            "1/1 [==============================] - 0s 12ms/step - loss: 0.2749\n",
            "Epoch 79/500\n",
            "1/1 [==============================] - 0s 8ms/step - loss: 0.2693\n",
            "Epoch 80/500\n",
            "1/1 [==============================] - 0s 7ms/step - loss: 0.2638\n",
            "Epoch 81/500\n",
            "1/1 [==============================] - 0s 9ms/step - loss: 0.2583\n",
            "Epoch 82/500\n",
            "1/1 [==============================] - 0s 7ms/step - loss: 0.2530\n",
            "Epoch 83/500\n",
            "1/1 [==============================] - 0s 7ms/step - loss: 0.2478\n",
            "Epoch 84/500\n",
            "1/1 [==============================] - 0s 7ms/step - loss: 0.2427\n",
            "Epoch 85/500\n",
            "1/1 [==============================] - 0s 13ms/step - loss: 0.2378\n",
            "Epoch 86/500\n",
            "1/1 [==============================] - 0s 9ms/step - loss: 0.2329\n",
            "Epoch 87/500\n",
            "1/1 [==============================] - 0s 7ms/step - loss: 0.2281\n",
            "Epoch 88/500\n",
            "1/1 [==============================] - 0s 15ms/step - loss: 0.2234\n",
            "Epoch 89/500\n",
            "1/1 [==============================] - 0s 11ms/step - loss: 0.2188\n",
            "Epoch 90/500\n",
            "1/1 [==============================] - 0s 8ms/step - loss: 0.2143\n",
            "Epoch 91/500\n",
            "1/1 [==============================] - 0s 13ms/step - loss: 0.2099\n",
            "Epoch 92/500\n",
            "1/1 [==============================] - 0s 9ms/step - loss: 0.2056\n",
            "Epoch 93/500\n",
            "1/1 [==============================] - 0s 7ms/step - loss: 0.2014\n",
            "Epoch 94/500\n",
            "1/1 [==============================] - 0s 13ms/step - loss: 0.1972\n",
            "Epoch 95/500\n",
            "1/1 [==============================] - 0s 12ms/step - loss: 0.1932\n",
            "Epoch 96/500\n",
            "1/1 [==============================] - 0s 6ms/step - loss: 0.1892\n",
            "Epoch 97/500\n",
            "1/1 [==============================] - 0s 6ms/step - loss: 0.1853\n",
            "Epoch 98/500\n",
            "1/1 [==============================] - 0s 6ms/step - loss: 0.1815\n",
            "Epoch 99/500\n",
            "1/1 [==============================] - 0s 5ms/step - loss: 0.1778\n",
            "Epoch 100/500\n",
            "1/1 [==============================] - 0s 5ms/step - loss: 0.1742\n",
            "Epoch 101/500\n",
            "1/1 [==============================] - 0s 6ms/step - loss: 0.1706\n",
            "Epoch 102/500\n",
            "1/1 [==============================] - 0s 7ms/step - loss: 0.1671\n",
            "Epoch 103/500\n",
            "1/1 [==============================] - 0s 5ms/step - loss: 0.1636\n",
            "Epoch 104/500\n",
            "1/1 [==============================] - 0s 5ms/step - loss: 0.1603\n",
            "Epoch 105/500\n",
            "1/1 [==============================] - 0s 5ms/step - loss: 0.1570\n",
            "Epoch 106/500\n",
            "1/1 [==============================] - 0s 5ms/step - loss: 0.1538\n",
            "Epoch 107/500\n",
            "1/1 [==============================] - 0s 12ms/step - loss: 0.1506\n",
            "Epoch 108/500\n",
            "1/1 [==============================] - 0s 9ms/step - loss: 0.1475\n",
            "Epoch 109/500\n",
            "1/1 [==============================] - 0s 5ms/step - loss: 0.1445\n",
            "Epoch 110/500\n",
            "1/1 [==============================] - 0s 6ms/step - loss: 0.1415\n",
            "Epoch 111/500\n",
            "1/1 [==============================] - 0s 9ms/step - loss: 0.1386\n",
            "Epoch 112/500\n",
            "1/1 [==============================] - 0s 6ms/step - loss: 0.1358\n",
            "Epoch 113/500\n",
            "1/1 [==============================] - 0s 5ms/step - loss: 0.1330\n",
            "Epoch 114/500\n",
            "1/1 [==============================] - 0s 5ms/step - loss: 0.1302\n",
            "Epoch 115/500\n",
            "1/1 [==============================] - 0s 5ms/step - loss: 0.1276\n",
            "Epoch 116/500\n",
            "1/1 [==============================] - 0s 5ms/step - loss: 0.1249\n",
            "Epoch 117/500\n",
            "1/1 [==============================] - 0s 5ms/step - loss: 0.1224\n",
            "Epoch 118/500\n",
            "1/1 [==============================] - 0s 5ms/step - loss: 0.1199\n",
            "Epoch 119/500\n",
            "1/1 [==============================] - 0s 6ms/step - loss: 0.1174\n",
            "Epoch 120/500\n",
            "1/1 [==============================] - 0s 5ms/step - loss: 0.1150\n",
            "Epoch 121/500\n",
            "1/1 [==============================] - 0s 5ms/step - loss: 0.1126\n",
            "Epoch 122/500\n",
            "1/1 [==============================] - 0s 5ms/step - loss: 0.1103\n",
            "Epoch 123/500\n",
            "1/1 [==============================] - 0s 5ms/step - loss: 0.1080\n",
            "Epoch 124/500\n",
            "1/1 [==============================] - 0s 5ms/step - loss: 0.1058\n",
            "Epoch 125/500\n",
            "1/1 [==============================] - 0s 5ms/step - loss: 0.1037\n",
            "Epoch 126/500\n",
            "1/1 [==============================] - 0s 9ms/step - loss: 0.1015\n",
            "Epoch 127/500\n",
            "1/1 [==============================] - 0s 6ms/step - loss: 0.0994\n",
            "Epoch 128/500\n",
            "1/1 [==============================] - 0s 5ms/step - loss: 0.0974\n",
            "Epoch 129/500\n",
            "1/1 [==============================] - 0s 6ms/step - loss: 0.0954\n",
            "Epoch 130/500\n",
            "1/1 [==============================] - 0s 5ms/step - loss: 0.0934\n",
            "Epoch 131/500\n",
            "1/1 [==============================] - 0s 5ms/step - loss: 0.0915\n",
            "Epoch 132/500\n",
            "1/1 [==============================] - 0s 6ms/step - loss: 0.0896\n",
            "Epoch 133/500\n",
            "1/1 [==============================] - 0s 5ms/step - loss: 0.0878\n",
            "Epoch 134/500\n",
            "1/1 [==============================] - 0s 5ms/step - loss: 0.0860\n",
            "Epoch 135/500\n",
            "1/1 [==============================] - 0s 5ms/step - loss: 0.0842\n",
            "Epoch 136/500\n",
            "1/1 [==============================] - 0s 5ms/step - loss: 0.0825\n",
            "Epoch 137/500\n",
            "1/1 [==============================] - 0s 6ms/step - loss: 0.0808\n",
            "Epoch 138/500\n",
            "1/1 [==============================] - 0s 7ms/step - loss: 0.0791\n",
            "Epoch 139/500\n",
            "1/1 [==============================] - 0s 7ms/step - loss: 0.0775\n",
            "Epoch 140/500\n",
            "1/1 [==============================] - 0s 9ms/step - loss: 0.0759\n",
            "Epoch 141/500\n",
            "1/1 [==============================] - 0s 13ms/step - loss: 0.0744\n",
            "Epoch 142/500\n",
            "1/1 [==============================] - 0s 9ms/step - loss: 0.0728\n",
            "Epoch 143/500\n",
            "1/1 [==============================] - 0s 9ms/step - loss: 0.0713\n",
            "Epoch 144/500\n",
            "1/1 [==============================] - 0s 8ms/step - loss: 0.0699\n",
            "Epoch 145/500\n",
            "1/1 [==============================] - 0s 8ms/step - loss: 0.0684\n",
            "Epoch 146/500\n",
            "1/1 [==============================] - 0s 12ms/step - loss: 0.0670\n",
            "Epoch 147/500\n",
            "1/1 [==============================] - 0s 10ms/step - loss: 0.0657\n",
            "Epoch 148/500\n",
            "1/1 [==============================] - 0s 9ms/step - loss: 0.0643\n",
            "Epoch 149/500\n",
            "1/1 [==============================] - 0s 10ms/step - loss: 0.0630\n",
            "Epoch 150/500\n",
            "1/1 [==============================] - 0s 9ms/step - loss: 0.0617\n",
            "Epoch 151/500\n",
            "1/1 [==============================] - 0s 9ms/step - loss: 0.0604\n",
            "Epoch 152/500\n",
            "1/1 [==============================] - 0s 8ms/step - loss: 0.0592\n",
            "Epoch 153/500\n",
            "1/1 [==============================] - 0s 8ms/step - loss: 0.0580\n",
            "Epoch 154/500\n",
            "1/1 [==============================] - 0s 9ms/step - loss: 0.0568\n",
            "Epoch 155/500\n",
            "1/1 [==============================] - 0s 9ms/step - loss: 0.0556\n",
            "Epoch 156/500\n",
            "1/1 [==============================] - 0s 10ms/step - loss: 0.0545\n",
            "Epoch 157/500\n",
            "1/1 [==============================] - 0s 8ms/step - loss: 0.0534\n",
            "Epoch 158/500\n",
            "1/1 [==============================] - 0s 7ms/step - loss: 0.0523\n",
            "Epoch 159/500\n",
            "1/1 [==============================] - 0s 8ms/step - loss: 0.0512\n",
            "Epoch 160/500\n",
            "1/1 [==============================] - 0s 8ms/step - loss: 0.0501\n",
            "Epoch 161/500\n",
            "1/1 [==============================] - 0s 17ms/step - loss: 0.0491\n",
            "Epoch 162/500\n",
            "1/1 [==============================] - 0s 18ms/step - loss: 0.0481\n",
            "Epoch 163/500\n",
            "1/1 [==============================] - 0s 11ms/step - loss: 0.0471\n",
            "Epoch 164/500\n",
            "1/1 [==============================] - 0s 8ms/step - loss: 0.0461\n",
            "Epoch 165/500\n",
            "1/1 [==============================] - 0s 8ms/step - loss: 0.0452\n",
            "Epoch 166/500\n",
            "1/1 [==============================] - 0s 18ms/step - loss: 0.0443\n",
            "Epoch 167/500\n",
            "1/1 [==============================] - 0s 10ms/step - loss: 0.0434\n",
            "Epoch 168/500\n",
            "1/1 [==============================] - 0s 11ms/step - loss: 0.0425\n",
            "Epoch 169/500\n",
            "1/1 [==============================] - 0s 9ms/step - loss: 0.0416\n",
            "Epoch 170/500\n",
            "1/1 [==============================] - 0s 9ms/step - loss: 0.0407\n",
            "Epoch 171/500\n",
            "1/1 [==============================] - 0s 11ms/step - loss: 0.0399\n",
            "Epoch 172/500\n",
            "1/1 [==============================] - 0s 6ms/step - loss: 0.0391\n",
            "Epoch 173/500\n",
            "1/1 [==============================] - 0s 6ms/step - loss: 0.0383\n",
            "Epoch 174/500\n",
            "1/1 [==============================] - 0s 6ms/step - loss: 0.0375\n",
            "Epoch 175/500\n",
            "1/1 [==============================] - 0s 7ms/step - loss: 0.0367\n",
            "Epoch 176/500\n",
            "1/1 [==============================] - 0s 19ms/step - loss: 0.0360\n",
            "Epoch 177/500\n",
            "1/1 [==============================] - 0s 17ms/step - loss: 0.0352\n",
            "Epoch 178/500\n",
            "1/1 [==============================] - 0s 18ms/step - loss: 0.0345\n",
            "Epoch 179/500\n",
            "1/1 [==============================] - 0s 12ms/step - loss: 0.0338\n",
            "Epoch 180/500\n",
            "1/1 [==============================] - 0s 10ms/step - loss: 0.0331\n",
            "Epoch 181/500\n",
            "1/1 [==============================] - 0s 7ms/step - loss: 0.0324\n",
            "Epoch 182/500\n",
            "1/1 [==============================] - 0s 9ms/step - loss: 0.0318\n",
            "Epoch 183/500\n",
            "1/1 [==============================] - 0s 7ms/step - loss: 0.0311\n",
            "Epoch 184/500\n",
            "1/1 [==============================] - 0s 7ms/step - loss: 0.0305\n",
            "Epoch 185/500\n",
            "1/1 [==============================] - 0s 7ms/step - loss: 0.0298\n",
            "Epoch 186/500\n",
            "1/1 [==============================] - 0s 7ms/step - loss: 0.0292\n",
            "Epoch 187/500\n",
            "1/1 [==============================] - 0s 7ms/step - loss: 0.0286\n",
            "Epoch 188/500\n",
            "1/1 [==============================] - 0s 7ms/step - loss: 0.0280\n",
            "Epoch 189/500\n",
            "1/1 [==============================] - 0s 11ms/step - loss: 0.0275\n",
            "Epoch 190/500\n",
            "1/1 [==============================] - 0s 6ms/step - loss: 0.0269\n",
            "Epoch 191/500\n",
            "1/1 [==============================] - 0s 6ms/step - loss: 0.0263\n",
            "Epoch 192/500\n",
            "1/1 [==============================] - 0s 7ms/step - loss: 0.0258\n",
            "Epoch 193/500\n",
            "1/1 [==============================] - 0s 7ms/step - loss: 0.0253\n",
            "Epoch 194/500\n",
            "1/1 [==============================] - 0s 7ms/step - loss: 0.0248\n",
            "Epoch 195/500\n",
            "1/1 [==============================] - 0s 7ms/step - loss: 0.0242\n",
            "Epoch 196/500\n",
            "1/1 [==============================] - 0s 7ms/step - loss: 0.0237\n",
            "Epoch 197/500\n",
            "1/1 [==============================] - 0s 6ms/step - loss: 0.0233\n",
            "Epoch 198/500\n",
            "1/1 [==============================] - 0s 7ms/step - loss: 0.0228\n",
            "Epoch 199/500\n",
            "1/1 [==============================] - 0s 8ms/step - loss: 0.0223\n",
            "Epoch 200/500\n",
            "1/1 [==============================] - 0s 6ms/step - loss: 0.0219\n",
            "Epoch 201/500\n",
            "1/1 [==============================] - 0s 11ms/step - loss: 0.0214\n",
            "Epoch 202/500\n",
            "1/1 [==============================] - 0s 8ms/step - loss: 0.0210\n",
            "Epoch 203/500\n",
            "1/1 [==============================] - 0s 7ms/step - loss: 0.0205\n",
            "Epoch 204/500\n",
            "1/1 [==============================] - 0s 8ms/step - loss: 0.0201\n",
            "Epoch 205/500\n",
            "1/1 [==============================] - 0s 13ms/step - loss: 0.0197\n",
            "Epoch 206/500\n",
            "1/1 [==============================] - 0s 13ms/step - loss: 0.0193\n",
            "Epoch 207/500\n",
            "1/1 [==============================] - 0s 9ms/step - loss: 0.0189\n",
            "Epoch 208/500\n",
            "1/1 [==============================] - 0s 14ms/step - loss: 0.0185\n",
            "Epoch 209/500\n",
            "1/1 [==============================] - 0s 14ms/step - loss: 0.0181\n",
            "Epoch 210/500\n",
            "1/1 [==============================] - 0s 8ms/step - loss: 0.0178\n",
            "Epoch 211/500\n",
            "1/1 [==============================] - 0s 12ms/step - loss: 0.0174\n",
            "Epoch 212/500\n",
            "1/1 [==============================] - 0s 8ms/step - loss: 0.0170\n",
            "Epoch 213/500\n",
            "1/1 [==============================] - 0s 10ms/step - loss: 0.0167\n",
            "Epoch 214/500\n",
            "1/1 [==============================] - 0s 15ms/step - loss: 0.0163\n",
            "Epoch 215/500\n",
            "1/1 [==============================] - 0s 11ms/step - loss: 0.0160\n",
            "Epoch 216/500\n",
            "1/1 [==============================] - 0s 13ms/step - loss: 0.0157\n",
            "Epoch 217/500\n",
            "1/1 [==============================] - 0s 13ms/step - loss: 0.0154\n",
            "Epoch 218/500\n",
            "1/1 [==============================] - 0s 11ms/step - loss: 0.0150\n",
            "Epoch 219/500\n",
            "1/1 [==============================] - 0s 14ms/step - loss: 0.0147\n",
            "Epoch 220/500\n",
            "1/1 [==============================] - 0s 13ms/step - loss: 0.0144\n",
            "Epoch 221/500\n",
            "1/1 [==============================] - 0s 8ms/step - loss: 0.0141\n",
            "Epoch 222/500\n",
            "1/1 [==============================] - 0s 9ms/step - loss: 0.0138\n",
            "Epoch 223/500\n",
            "1/1 [==============================] - 0s 9ms/step - loss: 0.0136\n",
            "Epoch 224/500\n",
            "1/1 [==============================] - 0s 15ms/step - loss: 0.0133\n",
            "Epoch 225/500\n",
            "1/1 [==============================] - 0s 9ms/step - loss: 0.0130\n",
            "Epoch 226/500\n",
            "1/1 [==============================] - 0s 12ms/step - loss: 0.0127\n",
            "Epoch 227/500\n",
            "1/1 [==============================] - 0s 11ms/step - loss: 0.0125\n",
            "Epoch 228/500\n",
            "1/1 [==============================] - 0s 13ms/step - loss: 0.0122\n",
            "Epoch 229/500\n",
            "1/1 [==============================] - 0s 10ms/step - loss: 0.0120\n",
            "Epoch 230/500\n",
            "1/1 [==============================] - 0s 7ms/step - loss: 0.0117\n",
            "Epoch 231/500\n",
            "1/1 [==============================] - 0s 13ms/step - loss: 0.0115\n",
            "Epoch 232/500\n",
            "1/1 [==============================] - 0s 9ms/step - loss: 0.0112\n",
            "Epoch 233/500\n",
            "1/1 [==============================] - 0s 11ms/step - loss: 0.0110\n",
            "Epoch 234/500\n",
            "1/1 [==============================] - 0s 8ms/step - loss: 0.0108\n",
            "Epoch 235/500\n",
            "1/1 [==============================] - 0s 8ms/step - loss: 0.0106\n",
            "Epoch 236/500\n",
            "1/1 [==============================] - 0s 10ms/step - loss: 0.0104\n",
            "Epoch 237/500\n",
            "1/1 [==============================] - 0s 12ms/step - loss: 0.0101\n",
            "Epoch 238/500\n",
            "1/1 [==============================] - 0s 5ms/step - loss: 0.0099\n",
            "Epoch 239/500\n",
            "1/1 [==============================] - 0s 5ms/step - loss: 0.0097\n",
            "Epoch 240/500\n",
            "1/1 [==============================] - 0s 5ms/step - loss: 0.0095\n",
            "Epoch 241/500\n",
            "1/1 [==============================] - 0s 7ms/step - loss: 0.0093\n",
            "Epoch 242/500\n",
            "1/1 [==============================] - 0s 5ms/step - loss: 0.0091\n",
            "Epoch 243/500\n",
            "1/1 [==============================] - 0s 5ms/step - loss: 0.0090\n",
            "Epoch 244/500\n",
            "1/1 [==============================] - 0s 9ms/step - loss: 0.0088\n",
            "Epoch 245/500\n",
            "1/1 [==============================] - 0s 16ms/step - loss: 0.0086\n",
            "Epoch 246/500\n",
            "1/1 [==============================] - 0s 10ms/step - loss: 0.0084\n",
            "Epoch 247/500\n",
            "1/1 [==============================] - 0s 8ms/step - loss: 0.0082\n",
            "Epoch 248/500\n",
            "1/1 [==============================] - 0s 8ms/step - loss: 0.0081\n",
            "Epoch 249/500\n",
            "1/1 [==============================] - 0s 6ms/step - loss: 0.0079\n",
            "Epoch 250/500\n",
            "1/1 [==============================] - 0s 11ms/step - loss: 0.0077\n",
            "Epoch 251/500\n",
            "1/1 [==============================] - 0s 10ms/step - loss: 0.0076\n",
            "Epoch 252/500\n",
            "1/1 [==============================] - 0s 11ms/step - loss: 0.0074\n",
            "Epoch 253/500\n",
            "1/1 [==============================] - 0s 10ms/step - loss: 0.0073\n",
            "Epoch 254/500\n",
            "1/1 [==============================] - 0s 18ms/step - loss: 0.0071\n",
            "Epoch 255/500\n",
            "1/1 [==============================] - 0s 14ms/step - loss: 0.0070\n",
            "Epoch 256/500\n",
            "1/1 [==============================] - 0s 9ms/step - loss: 0.0068\n",
            "Epoch 257/500\n",
            "1/1 [==============================] - 0s 10ms/step - loss: 0.0067\n",
            "Epoch 258/500\n",
            "1/1 [==============================] - 0s 11ms/step - loss: 0.0066\n",
            "Epoch 259/500\n",
            "1/1 [==============================] - 0s 9ms/step - loss: 0.0064\n",
            "Epoch 260/500\n",
            "1/1 [==============================] - 0s 17ms/step - loss: 0.0063\n",
            "Epoch 261/500\n",
            "1/1 [==============================] - 0s 13ms/step - loss: 0.0062\n",
            "Epoch 262/500\n",
            "1/1 [==============================] - 0s 7ms/step - loss: 0.0060\n",
            "Epoch 263/500\n",
            "1/1 [==============================] - 0s 9ms/step - loss: 0.0059\n",
            "Epoch 264/500\n",
            "1/1 [==============================] - 0s 7ms/step - loss: 0.0058\n",
            "Epoch 265/500\n",
            "1/1 [==============================] - 0s 9ms/step - loss: 0.0057\n",
            "Epoch 266/500\n",
            "1/1 [==============================] - 0s 8ms/step - loss: 0.0056\n",
            "Epoch 267/500\n",
            "1/1 [==============================] - 0s 8ms/step - loss: 0.0054\n",
            "Epoch 268/500\n",
            "1/1 [==============================] - 0s 12ms/step - loss: 0.0053\n",
            "Epoch 269/500\n",
            "1/1 [==============================] - 0s 10ms/step - loss: 0.0052\n",
            "Epoch 270/500\n",
            "1/1 [==============================] - 0s 10ms/step - loss: 0.0051\n",
            "Epoch 271/500\n",
            "1/1 [==============================] - 0s 9ms/step - loss: 0.0050\n",
            "Epoch 272/500\n",
            "1/1 [==============================] - 0s 11ms/step - loss: 0.0049\n",
            "Epoch 273/500\n",
            "1/1 [==============================] - 0s 10ms/step - loss: 0.0048\n",
            "Epoch 274/500\n",
            "1/1 [==============================] - 0s 10ms/step - loss: 0.0047\n",
            "Epoch 275/500\n",
            "1/1 [==============================] - 0s 11ms/step - loss: 0.0046\n",
            "Epoch 276/500\n",
            "1/1 [==============================] - 0s 10ms/step - loss: 0.0045\n",
            "Epoch 277/500\n",
            "1/1 [==============================] - 0s 8ms/step - loss: 0.0044\n",
            "Epoch 278/500\n",
            "1/1 [==============================] - 0s 11ms/step - loss: 0.0043\n",
            "Epoch 279/500\n",
            "1/1 [==============================] - 0s 11ms/step - loss: 0.0042\n",
            "Epoch 280/500\n",
            "1/1 [==============================] - 0s 11ms/step - loss: 0.0042\n",
            "Epoch 281/500\n",
            "1/1 [==============================] - 0s 14ms/step - loss: 0.0041\n",
            "Epoch 282/500\n",
            "1/1 [==============================] - 0s 12ms/step - loss: 0.0040\n",
            "Epoch 283/500\n",
            "1/1 [==============================] - 0s 15ms/step - loss: 0.0039\n",
            "Epoch 284/500\n",
            "1/1 [==============================] - 0s 11ms/step - loss: 0.0038\n",
            "Epoch 285/500\n",
            "1/1 [==============================] - 0s 12ms/step - loss: 0.0037\n",
            "Epoch 286/500\n",
            "1/1 [==============================] - 0s 11ms/step - loss: 0.0037\n",
            "Epoch 287/500\n",
            "1/1 [==============================] - 0s 9ms/step - loss: 0.0036\n",
            "Epoch 288/500\n",
            "1/1 [==============================] - 0s 9ms/step - loss: 0.0035\n",
            "Epoch 289/500\n",
            "1/1 [==============================] - 0s 10ms/step - loss: 0.0034\n",
            "Epoch 290/500\n",
            "1/1 [==============================] - 0s 10ms/step - loss: 0.0034\n",
            "Epoch 291/500\n",
            "1/1 [==============================] - 0s 8ms/step - loss: 0.0033\n",
            "Epoch 292/500\n",
            "1/1 [==============================] - 0s 8ms/step - loss: 0.0032\n",
            "Epoch 293/500\n",
            "1/1 [==============================] - 0s 6ms/step - loss: 0.0032\n",
            "Epoch 294/500\n",
            "1/1 [==============================] - 0s 12ms/step - loss: 0.0031\n",
            "Epoch 295/500\n",
            "1/1 [==============================] - 0s 8ms/step - loss: 0.0030\n",
            "Epoch 296/500\n",
            "1/1 [==============================] - 0s 10ms/step - loss: 0.0030\n",
            "Epoch 297/500\n",
            "1/1 [==============================] - 0s 7ms/step - loss: 0.0029\n",
            "Epoch 298/500\n",
            "1/1 [==============================] - 0s 12ms/step - loss: 0.0029\n",
            "Epoch 299/500\n",
            "1/1 [==============================] - 0s 12ms/step - loss: 0.0028\n",
            "Epoch 300/500\n",
            "1/1 [==============================] - 0s 9ms/step - loss: 0.0027\n",
            "Epoch 301/500\n",
            "1/1 [==============================] - 0s 8ms/step - loss: 0.0027\n",
            "Epoch 302/500\n",
            "1/1 [==============================] - 0s 8ms/step - loss: 0.0026\n",
            "Epoch 303/500\n",
            "1/1 [==============================] - 0s 9ms/step - loss: 0.0026\n",
            "Epoch 304/500\n",
            "1/1 [==============================] - 0s 10ms/step - loss: 0.0025\n",
            "Epoch 305/500\n",
            "1/1 [==============================] - 0s 9ms/step - loss: 0.0025\n",
            "Epoch 306/500\n",
            "1/1 [==============================] - 0s 10ms/step - loss: 0.0024\n",
            "Epoch 307/500\n",
            "1/1 [==============================] - 0s 9ms/step - loss: 0.0024\n",
            "Epoch 308/500\n",
            "1/1 [==============================] - 0s 9ms/step - loss: 0.0023\n",
            "Epoch 309/500\n",
            "1/1 [==============================] - 0s 13ms/step - loss: 0.0023\n",
            "Epoch 310/500\n",
            "1/1 [==============================] - 0s 11ms/step - loss: 0.0022\n",
            "Epoch 311/500\n",
            "1/1 [==============================] - 0s 9ms/step - loss: 0.0022\n",
            "Epoch 312/500\n",
            "1/1 [==============================] - 0s 11ms/step - loss: 0.0021\n",
            "Epoch 313/500\n",
            "1/1 [==============================] - 0s 7ms/step - loss: 0.0021\n",
            "Epoch 314/500\n",
            "1/1 [==============================] - 0s 6ms/step - loss: 0.0021\n",
            "Epoch 315/500\n",
            "1/1 [==============================] - 0s 6ms/step - loss: 0.0020\n",
            "Epoch 316/500\n",
            "1/1 [==============================] - 0s 6ms/step - loss: 0.0020\n",
            "Epoch 317/500\n",
            "1/1 [==============================] - 0s 6ms/step - loss: 0.0019\n",
            "Epoch 318/500\n",
            "1/1 [==============================] - 0s 6ms/step - loss: 0.0019\n",
            "Epoch 319/500\n",
            "1/1 [==============================] - 0s 6ms/step - loss: 0.0018\n",
            "Epoch 320/500\n",
            "1/1 [==============================] - 0s 6ms/step - loss: 0.0018\n",
            "Epoch 321/500\n",
            "1/1 [==============================] - 0s 6ms/step - loss: 0.0018\n",
            "Epoch 322/500\n",
            "1/1 [==============================] - 0s 6ms/step - loss: 0.0017\n",
            "Epoch 323/500\n",
            "1/1 [==============================] - 0s 6ms/step - loss: 0.0017\n",
            "Epoch 324/500\n",
            "1/1 [==============================] - 0s 6ms/step - loss: 0.0017\n",
            "Epoch 325/500\n",
            "1/1 [==============================] - 0s 7ms/step - loss: 0.0016\n",
            "Epoch 326/500\n",
            "1/1 [==============================] - 0s 6ms/step - loss: 0.0016\n",
            "Epoch 327/500\n",
            "1/1 [==============================] - 0s 6ms/step - loss: 0.0016\n",
            "Epoch 328/500\n",
            "1/1 [==============================] - 0s 6ms/step - loss: 0.0015\n",
            "Epoch 329/500\n",
            "1/1 [==============================] - 0s 6ms/step - loss: 0.0015\n",
            "Epoch 330/500\n",
            "1/1 [==============================] - 0s 6ms/step - loss: 0.0015\n",
            "Epoch 331/500\n",
            "1/1 [==============================] - 0s 5ms/step - loss: 0.0014\n",
            "Epoch 332/500\n",
            "1/1 [==============================] - 0s 5ms/step - loss: 0.0014\n",
            "Epoch 333/500\n",
            "1/1 [==============================] - 0s 15ms/step - loss: 0.0014\n",
            "Epoch 334/500\n",
            "1/1 [==============================] - 0s 7ms/step - loss: 0.0014\n",
            "Epoch 335/500\n",
            "1/1 [==============================] - 0s 6ms/step - loss: 0.0013\n",
            "Epoch 336/500\n",
            "1/1 [==============================] - 0s 9ms/step - loss: 0.0013\n",
            "Epoch 337/500\n",
            "1/1 [==============================] - 0s 6ms/step - loss: 0.0013\n",
            "Epoch 338/500\n",
            "1/1 [==============================] - 0s 9ms/step - loss: 0.0012\n",
            "Epoch 339/500\n",
            "1/1 [==============================] - 0s 7ms/step - loss: 0.0012\n",
            "Epoch 340/500\n",
            "1/1 [==============================] - 0s 7ms/step - loss: 0.0012\n",
            "Epoch 341/500\n",
            "1/1 [==============================] - 0s 11ms/step - loss: 0.0012\n",
            "Epoch 342/500\n",
            "1/1 [==============================] - 0s 7ms/step - loss: 0.0011\n",
            "Epoch 343/500\n",
            "1/1 [==============================] - 0s 7ms/step - loss: 0.0011\n",
            "Epoch 344/500\n",
            "1/1 [==============================] - 0s 7ms/step - loss: 0.0011\n",
            "Epoch 345/500\n",
            "1/1 [==============================] - 0s 8ms/step - loss: 0.0011\n",
            "Epoch 346/500\n",
            "1/1 [==============================] - 0s 11ms/step - loss: 0.0011\n",
            "Epoch 347/500\n",
            "1/1 [==============================] - 0s 9ms/step - loss: 0.0010\n",
            "Epoch 348/500\n",
            "1/1 [==============================] - 0s 9ms/step - loss: 0.0010\n",
            "Epoch 349/500\n",
            "1/1 [==============================] - 0s 8ms/step - loss: 9.9208e-04\n",
            "Epoch 350/500\n",
            "1/1 [==============================] - 0s 9ms/step - loss: 9.7170e-04\n",
            "Epoch 351/500\n",
            "1/1 [==============================] - 0s 11ms/step - loss: 9.5175e-04\n",
            "Epoch 352/500\n",
            "1/1 [==============================] - 0s 10ms/step - loss: 9.3219e-04\n",
            "Epoch 353/500\n",
            "1/1 [==============================] - 0s 10ms/step - loss: 9.1305e-04\n",
            "Epoch 354/500\n",
            "1/1 [==============================] - 0s 9ms/step - loss: 8.9429e-04\n",
            "Epoch 355/500\n",
            "1/1 [==============================] - 0s 8ms/step - loss: 8.7592e-04\n",
            "Epoch 356/500\n",
            "1/1 [==============================] - 0s 11ms/step - loss: 8.5793e-04\n",
            "Epoch 357/500\n",
            "1/1 [==============================] - 0s 7ms/step - loss: 8.4031e-04\n",
            "Epoch 358/500\n",
            "1/1 [==============================] - 0s 12ms/step - loss: 8.2305e-04\n",
            "Epoch 359/500\n",
            "1/1 [==============================] - 0s 9ms/step - loss: 8.0615e-04\n",
            "Epoch 360/500\n",
            "1/1 [==============================] - 0s 10ms/step - loss: 7.8958e-04\n",
            "Epoch 361/500\n",
            "1/1 [==============================] - 0s 10ms/step - loss: 7.7337e-04\n",
            "Epoch 362/500\n",
            "1/1 [==============================] - 0s 9ms/step - loss: 7.5748e-04\n",
            "Epoch 363/500\n",
            "1/1 [==============================] - 0s 14ms/step - loss: 7.4192e-04\n",
            "Epoch 364/500\n",
            "1/1 [==============================] - 0s 9ms/step - loss: 7.2668e-04\n",
            "Epoch 365/500\n",
            "1/1 [==============================] - 0s 11ms/step - loss: 7.1176e-04\n",
            "Epoch 366/500\n",
            "1/1 [==============================] - 0s 9ms/step - loss: 6.9714e-04\n",
            "Epoch 367/500\n",
            "1/1 [==============================] - 0s 9ms/step - loss: 6.8282e-04\n",
            "Epoch 368/500\n",
            "1/1 [==============================] - 0s 15ms/step - loss: 6.6879e-04\n",
            "Epoch 369/500\n",
            "1/1 [==============================] - 0s 9ms/step - loss: 6.5506e-04\n",
            "Epoch 370/500\n",
            "1/1 [==============================] - 0s 14ms/step - loss: 6.4160e-04\n",
            "Epoch 371/500\n",
            "1/1 [==============================] - 0s 8ms/step - loss: 6.2842e-04\n",
            "Epoch 372/500\n",
            "1/1 [==============================] - 0s 9ms/step - loss: 6.1551e-04\n",
            "Epoch 373/500\n",
            "1/1 [==============================] - 0s 9ms/step - loss: 6.0287e-04\n",
            "Epoch 374/500\n",
            "1/1 [==============================] - 0s 11ms/step - loss: 5.9049e-04\n",
            "Epoch 375/500\n",
            "1/1 [==============================] - 0s 14ms/step - loss: 5.7836e-04\n",
            "Epoch 376/500\n",
            "1/1 [==============================] - 0s 9ms/step - loss: 5.6648e-04\n",
            "Epoch 377/500\n",
            "1/1 [==============================] - 0s 8ms/step - loss: 5.5484e-04\n",
            "Epoch 378/500\n",
            "1/1 [==============================] - 0s 11ms/step - loss: 5.4345e-04\n",
            "Epoch 379/500\n",
            "1/1 [==============================] - 0s 8ms/step - loss: 5.3228e-04\n",
            "Epoch 380/500\n",
            "1/1 [==============================] - 0s 8ms/step - loss: 5.2135e-04\n",
            "Epoch 381/500\n",
            "1/1 [==============================] - 0s 9ms/step - loss: 5.1064e-04\n",
            "Epoch 382/500\n",
            "1/1 [==============================] - 0s 15ms/step - loss: 5.0015e-04\n",
            "Epoch 383/500\n",
            "1/1 [==============================] - 0s 7ms/step - loss: 4.8988e-04\n",
            "Epoch 384/500\n",
            "1/1 [==============================] - 0s 7ms/step - loss: 4.7981e-04\n",
            "Epoch 385/500\n",
            "1/1 [==============================] - 0s 10ms/step - loss: 4.6996e-04\n",
            "Epoch 386/500\n",
            "1/1 [==============================] - 0s 10ms/step - loss: 4.6031e-04\n",
            "Epoch 387/500\n",
            "1/1 [==============================] - 0s 10ms/step - loss: 4.5085e-04\n",
            "Epoch 388/500\n",
            "1/1 [==============================] - 0s 9ms/step - loss: 4.4159e-04\n",
            "Epoch 389/500\n",
            "1/1 [==============================] - 0s 9ms/step - loss: 4.3252e-04\n",
            "Epoch 390/500\n",
            "1/1 [==============================] - 0s 9ms/step - loss: 4.2364e-04\n",
            "Epoch 391/500\n",
            "1/1 [==============================] - 0s 8ms/step - loss: 4.1493e-04\n",
            "Epoch 392/500\n",
            "1/1 [==============================] - 0s 9ms/step - loss: 4.0641e-04\n",
            "Epoch 393/500\n",
            "1/1 [==============================] - 0s 9ms/step - loss: 3.9806e-04\n",
            "Epoch 394/500\n",
            "1/1 [==============================] - 0s 14ms/step - loss: 3.8988e-04\n",
            "Epoch 395/500\n",
            "1/1 [==============================] - 0s 8ms/step - loss: 3.8188e-04\n",
            "Epoch 396/500\n",
            "1/1 [==============================] - 0s 10ms/step - loss: 3.7403e-04\n",
            "Epoch 397/500\n",
            "1/1 [==============================] - 0s 11ms/step - loss: 3.6635e-04\n",
            "Epoch 398/500\n",
            "1/1 [==============================] - 0s 12ms/step - loss: 3.5883e-04\n",
            "Epoch 399/500\n",
            "1/1 [==============================] - 0s 8ms/step - loss: 3.5145e-04\n",
            "Epoch 400/500\n",
            "1/1 [==============================] - 0s 7ms/step - loss: 3.4423e-04\n",
            "Epoch 401/500\n",
            "1/1 [==============================] - 0s 8ms/step - loss: 3.3717e-04\n",
            "Epoch 402/500\n",
            "1/1 [==============================] - 0s 7ms/step - loss: 3.3024e-04\n",
            "Epoch 403/500\n",
            "1/1 [==============================] - 0s 8ms/step - loss: 3.2346e-04\n",
            "Epoch 404/500\n",
            "1/1 [==============================] - 0s 7ms/step - loss: 3.1681e-04\n",
            "Epoch 405/500\n",
            "1/1 [==============================] - 0s 8ms/step - loss: 3.1031e-04\n",
            "Epoch 406/500\n",
            "1/1 [==============================] - 0s 10ms/step - loss: 3.0393e-04\n",
            "Epoch 407/500\n",
            "1/1 [==============================] - 0s 7ms/step - loss: 2.9769e-04\n",
            "Epoch 408/500\n",
            "1/1 [==============================] - 0s 9ms/step - loss: 2.9157e-04\n",
            "Epoch 409/500\n",
            "1/1 [==============================] - 0s 9ms/step - loss: 2.8558e-04\n",
            "Epoch 410/500\n",
            "1/1 [==============================] - 0s 7ms/step - loss: 2.7972e-04\n",
            "Epoch 411/500\n",
            "1/1 [==============================] - 0s 8ms/step - loss: 2.7397e-04\n",
            "Epoch 412/500\n",
            "1/1 [==============================] - 0s 8ms/step - loss: 2.6834e-04\n",
            "Epoch 413/500\n",
            "1/1 [==============================] - 0s 10ms/step - loss: 2.6283e-04\n",
            "Epoch 414/500\n",
            "1/1 [==============================] - 0s 9ms/step - loss: 2.5744e-04\n",
            "Epoch 415/500\n",
            "1/1 [==============================] - 0s 8ms/step - loss: 2.5215e-04\n",
            "Epoch 416/500\n",
            "1/1 [==============================] - 0s 7ms/step - loss: 2.4697e-04\n",
            "Epoch 417/500\n",
            "1/1 [==============================] - 0s 7ms/step - loss: 2.4189e-04\n",
            "Epoch 418/500\n",
            "1/1 [==============================] - 0s 9ms/step - loss: 2.3693e-04\n",
            "Epoch 419/500\n",
            "1/1 [==============================] - 0s 11ms/step - loss: 2.3206e-04\n",
            "Epoch 420/500\n",
            "1/1 [==============================] - 0s 9ms/step - loss: 2.2729e-04\n",
            "Epoch 421/500\n",
            "1/1 [==============================] - 0s 7ms/step - loss: 2.2262e-04\n",
            "Epoch 422/500\n",
            "1/1 [==============================] - 0s 9ms/step - loss: 2.1805e-04\n",
            "Epoch 423/500\n",
            "1/1 [==============================] - 0s 7ms/step - loss: 2.1357e-04\n",
            "Epoch 424/500\n",
            "1/1 [==============================] - 0s 11ms/step - loss: 2.0919e-04\n",
            "Epoch 425/500\n",
            "1/1 [==============================] - 0s 7ms/step - loss: 2.0489e-04\n",
            "Epoch 426/500\n",
            "1/1 [==============================] - 0s 11ms/step - loss: 2.0068e-04\n",
            "Epoch 427/500\n",
            "1/1 [==============================] - 0s 8ms/step - loss: 1.9656e-04\n",
            "Epoch 428/500\n",
            "1/1 [==============================] - 0s 8ms/step - loss: 1.9252e-04\n",
            "Epoch 429/500\n",
            "1/1 [==============================] - 0s 8ms/step - loss: 1.8857e-04\n",
            "Epoch 430/500\n",
            "1/1 [==============================] - 0s 9ms/step - loss: 1.8469e-04\n",
            "Epoch 431/500\n",
            "1/1 [==============================] - 0s 7ms/step - loss: 1.8090e-04\n",
            "Epoch 432/500\n",
            "1/1 [==============================] - 0s 10ms/step - loss: 1.7718e-04\n",
            "Epoch 433/500\n",
            "1/1 [==============================] - 0s 10ms/step - loss: 1.7354e-04\n",
            "Epoch 434/500\n",
            "1/1 [==============================] - 0s 9ms/step - loss: 1.6998e-04\n",
            "Epoch 435/500\n",
            "1/1 [==============================] - 0s 6ms/step - loss: 1.6649e-04\n",
            "Epoch 436/500\n",
            "1/1 [==============================] - 0s 7ms/step - loss: 1.6307e-04\n",
            "Epoch 437/500\n",
            "1/1 [==============================] - 0s 7ms/step - loss: 1.5972e-04\n",
            "Epoch 438/500\n",
            "1/1 [==============================] - 0s 7ms/step - loss: 1.5644e-04\n",
            "Epoch 439/500\n",
            "1/1 [==============================] - 0s 9ms/step - loss: 1.5322e-04\n",
            "Epoch 440/500\n",
            "1/1 [==============================] - 0s 13ms/step - loss: 1.5008e-04\n",
            "Epoch 441/500\n",
            "1/1 [==============================] - 0s 6ms/step - loss: 1.4700e-04\n",
            "Epoch 442/500\n",
            "1/1 [==============================] - 0s 10ms/step - loss: 1.4397e-04\n",
            "Epoch 443/500\n",
            "1/1 [==============================] - 0s 8ms/step - loss: 1.4102e-04\n",
            "Epoch 444/500\n",
            "1/1 [==============================] - 0s 9ms/step - loss: 1.3812e-04\n",
            "Epoch 445/500\n",
            "1/1 [==============================] - 0s 8ms/step - loss: 1.3529e-04\n",
            "Epoch 446/500\n",
            "1/1 [==============================] - 0s 10ms/step - loss: 1.3251e-04\n",
            "Epoch 447/500\n",
            "1/1 [==============================] - 0s 11ms/step - loss: 1.2978e-04\n",
            "Epoch 448/500\n",
            "1/1 [==============================] - 0s 7ms/step - loss: 1.2712e-04\n",
            "Epoch 449/500\n",
            "1/1 [==============================] - 0s 9ms/step - loss: 1.2451e-04\n",
            "Epoch 450/500\n",
            "1/1 [==============================] - 0s 10ms/step - loss: 1.2195e-04\n",
            "Epoch 451/500\n",
            "1/1 [==============================] - 0s 9ms/step - loss: 1.1944e-04\n",
            "Epoch 452/500\n",
            "1/1 [==============================] - 0s 6ms/step - loss: 1.1699e-04\n",
            "Epoch 453/500\n",
            "1/1 [==============================] - 0s 6ms/step - loss: 1.1459e-04\n",
            "Epoch 454/500\n",
            "1/1 [==============================] - 0s 6ms/step - loss: 1.1223e-04\n",
            "Epoch 455/500\n",
            "1/1 [==============================] - 0s 11ms/step - loss: 1.0993e-04\n",
            "Epoch 456/500\n",
            "1/1 [==============================] - 0s 8ms/step - loss: 1.0767e-04\n",
            "Epoch 457/500\n",
            "1/1 [==============================] - 0s 9ms/step - loss: 1.0546e-04\n",
            "Epoch 458/500\n",
            "1/1 [==============================] - 0s 10ms/step - loss: 1.0329e-04\n",
            "Epoch 459/500\n",
            "1/1 [==============================] - 0s 8ms/step - loss: 1.0117e-04\n",
            "Epoch 460/500\n",
            "1/1 [==============================] - 0s 10ms/step - loss: 9.9091e-05\n",
            "Epoch 461/500\n",
            "1/1 [==============================] - 0s 9ms/step - loss: 9.7056e-05\n",
            "Epoch 462/500\n",
            "1/1 [==============================] - 0s 8ms/step - loss: 9.5061e-05\n",
            "Epoch 463/500\n",
            "1/1 [==============================] - 0s 10ms/step - loss: 9.3110e-05\n",
            "Epoch 464/500\n",
            "1/1 [==============================] - 0s 10ms/step - loss: 9.1197e-05\n",
            "Epoch 465/500\n",
            "1/1 [==============================] - 0s 9ms/step - loss: 8.9323e-05\n",
            "Epoch 466/500\n",
            "1/1 [==============================] - 0s 10ms/step - loss: 8.7489e-05\n",
            "Epoch 467/500\n",
            "1/1 [==============================] - 0s 10ms/step - loss: 8.5692e-05\n",
            "Epoch 468/500\n",
            "1/1 [==============================] - 0s 10ms/step - loss: 8.3932e-05\n",
            "Epoch 469/500\n",
            "1/1 [==============================] - 0s 7ms/step - loss: 8.2207e-05\n",
            "Epoch 470/500\n",
            "1/1 [==============================] - 0s 9ms/step - loss: 8.0519e-05\n",
            "Epoch 471/500\n",
            "1/1 [==============================] - 0s 9ms/step - loss: 7.8865e-05\n",
            "Epoch 472/500\n",
            "1/1 [==============================] - 0s 9ms/step - loss: 7.7244e-05\n",
            "Epoch 473/500\n",
            "1/1 [==============================] - 0s 10ms/step - loss: 7.5659e-05\n",
            "Epoch 474/500\n",
            "1/1 [==============================] - 0s 11ms/step - loss: 7.4105e-05\n",
            "Epoch 475/500\n",
            "1/1 [==============================] - 0s 8ms/step - loss: 7.2581e-05\n",
            "Epoch 476/500\n",
            "1/1 [==============================] - 0s 10ms/step - loss: 7.1090e-05\n",
            "Epoch 477/500\n",
            "1/1 [==============================] - 0s 10ms/step - loss: 6.9632e-05\n",
            "Epoch 478/500\n",
            "1/1 [==============================] - 0s 9ms/step - loss: 6.8201e-05\n",
            "Epoch 479/500\n",
            "1/1 [==============================] - 0s 8ms/step - loss: 6.6799e-05\n",
            "Epoch 480/500\n",
            "1/1 [==============================] - 0s 8ms/step - loss: 6.5427e-05\n",
            "Epoch 481/500\n",
            "1/1 [==============================] - 0s 7ms/step - loss: 6.4084e-05\n",
            "Epoch 482/500\n",
            "1/1 [==============================] - 0s 8ms/step - loss: 6.2766e-05\n",
            "Epoch 483/500\n",
            "1/1 [==============================] - 0s 11ms/step - loss: 6.1477e-05\n",
            "Epoch 484/500\n",
            "1/1 [==============================] - 0s 9ms/step - loss: 6.0214e-05\n",
            "Epoch 485/500\n",
            "1/1 [==============================] - 0s 7ms/step - loss: 5.8978e-05\n",
            "Epoch 486/500\n",
            "1/1 [==============================] - 0s 9ms/step - loss: 5.7767e-05\n",
            "Epoch 487/500\n",
            "1/1 [==============================] - 0s 9ms/step - loss: 5.6580e-05\n",
            "Epoch 488/500\n",
            "1/1 [==============================] - 0s 10ms/step - loss: 5.5417e-05\n",
            "Epoch 489/500\n",
            "1/1 [==============================] - 0s 11ms/step - loss: 5.4280e-05\n",
            "Epoch 490/500\n",
            "1/1 [==============================] - 0s 13ms/step - loss: 5.3164e-05\n",
            "Epoch 491/500\n",
            "1/1 [==============================] - 0s 10ms/step - loss: 5.2072e-05\n",
            "Epoch 492/500\n",
            "1/1 [==============================] - 0s 10ms/step - loss: 5.1003e-05\n",
            "Epoch 493/500\n",
            "1/1 [==============================] - 0s 7ms/step - loss: 4.9955e-05\n",
            "Epoch 494/500\n",
            "1/1 [==============================] - 0s 8ms/step - loss: 4.8929e-05\n",
            "Epoch 495/500\n",
            "1/1 [==============================] - 0s 10ms/step - loss: 4.7924e-05\n",
            "Epoch 496/500\n",
            "1/1 [==============================] - 0s 13ms/step - loss: 4.6939e-05\n",
            "Epoch 497/500\n",
            "1/1 [==============================] - 0s 12ms/step - loss: 4.5975e-05\n",
            "Epoch 498/500\n",
            "1/1 [==============================] - 0s 8ms/step - loss: 4.5031e-05\n",
            "Epoch 499/500\n",
            "1/1 [==============================] - 0s 7ms/step - loss: 4.4106e-05\n",
            "Epoch 500/500\n",
            "1/1 [==============================] - 0s 7ms/step - loss: 4.3199e-05\n"
          ]
        },
        {
          "output_type": "execute_result",
          "data": {
            "text/plain": [
              "<keras.callbacks.History at 0x7f06be17eed0>"
            ]
          },
          "metadata": {},
          "execution_count": 6
        }
      ]
    },
    {
      "cell_type": "markdown",
      "source": [
        "# Make prediction"
      ],
      "metadata": {
        "id": "PY8aTcW4LiCp"
      }
    },
    {
      "cell_type": "code",
      "source": [
        "# If X is 10. What will Y be? - My guess: 19\n",
        "print(model.predict([10.0]))\n",
        "\n",
        "# If X is 15. What will Y be? - My guess: 29\n",
        "print(model.predict([15.0]))"
      ],
      "metadata": {
        "colab": {
          "base_uri": "https://localhost:8080/"
        },
        "id": "d4G9GgEBLQu9",
        "outputId": "a7491a22-3472-47ba-9ad0-c2067cc3e063"
      },
      "execution_count": null,
      "outputs": [
        {
          "output_type": "stream",
          "name": "stdout",
          "text": [
            "[[18.980824]]\n",
            "[[28.966927]]\n"
          ]
        }
      ]
    },
    {
      "cell_type": "markdown",
      "source": [
        "You might have thought 19, right? But it ended up being a little under. Why do you think that is?\n",
        "\n",
        "Remember that neural networks deal with probabilities, so given the data that we fed the NN with, it calculated that there is a very high probability that the relationship between X and Y is Y=2X-1, but with only 6 data points we can't know for sure. As a result, the result for 10 is very close to 19, but not necessarily 19.\n",
        "\n",
        "As you work with neural networks, you'll see this pattern recurring. You will almost always deal with probabilities, not certainties, and will do a little bit of coding to figure out what the result is based on the probabilities, particularly when it comes to classification."
      ],
      "metadata": {
        "id": "F6Q-zy_eUbrD"
      }
    },
    {
      "cell_type": "markdown",
      "source": [
        "# Computer Vision (Example)"
      ],
      "metadata": {
        "id": "xMcZeWoiXCsl"
      }
    },
    {
      "cell_type": "markdown",
      "source": [
        "a. Load data"
      ],
      "metadata": {
        "id": "G6UoaFpQdIGm"
      }
    },
    {
      "cell_type": "code",
      "source": [
        "#Call dataset API from keras with Fashion MNIST data\n",
        "mnist = tf.keras.datasets.fashion_mnist"
      ],
      "metadata": {
        "id": "AW0k8pnkTw-t"
      },
      "execution_count": null,
      "outputs": []
    },
    {
      "cell_type": "code",
      "source": [
        "#Load and split dataset into training_images, training_labels, test_images and test_labels\n",
        "(training_images, training_labels), (test_images, test_labels) = mnist.load_data()"
      ],
      "metadata": {
        "id": "ido5oSniXpku"
      },
      "execution_count": null,
      "outputs": []
    },
    {
      "cell_type": "markdown",
      "source": [
        "b. Visualize data"
      ],
      "metadata": {
        "id": "rxdLqjySdObk"
      }
    },
    {
      "cell_type": "code",
      "source": [
        "#What does these values look like? Let's print a training image, and a training label to see..\n",
        "import numpy as np\n",
        "import matplotlib.pyplot as plt\n",
        "\n",
        "np.set_printoptions(linewidth=200)\n",
        "plt.imshow(training_images[0])\n",
        "print(training_labels[0])\n",
        "print(training_images[0]) "
      ],
      "metadata": {
        "colab": {
          "base_uri": "https://localhost:8080/",
          "height": 768
        },
        "id": "AMhIZfZcYOfo",
        "outputId": "774cba36-03ee-47d8-e093-c55e4f2e8975"
      },
      "execution_count": null,
      "outputs": [
        {
          "output_type": "stream",
          "name": "stdout",
          "text": [
            "9\n",
            "[[  0   0   0   0   0   0   0   0   0   0   0   0   0   0   0   0   0   0   0   0   0   0   0   0   0   0   0   0]\n",
            " [  0   0   0   0   0   0   0   0   0   0   0   0   0   0   0   0   0   0   0   0   0   0   0   0   0   0   0   0]\n",
            " [  0   0   0   0   0   0   0   0   0   0   0   0   0   0   0   0   0   0   0   0   0   0   0   0   0   0   0   0]\n",
            " [  0   0   0   0   0   0   0   0   0   0   0   0   1   0   0  13  73   0   0   1   4   0   0   0   0   1   1   0]\n",
            " [  0   0   0   0   0   0   0   0   0   0   0   0   3   0  36 136 127  62  54   0   0   0   1   3   4   0   0   3]\n",
            " [  0   0   0   0   0   0   0   0   0   0   0   0   6   0 102 204 176 134 144 123  23   0   0   0   0  12  10   0]\n",
            " [  0   0   0   0   0   0   0   0   0   0   0   0   0   0 155 236 207 178 107 156 161 109  64  23  77 130  72  15]\n",
            " [  0   0   0   0   0   0   0   0   0   0   0   1   0  69 207 223 218 216 216 163 127 121 122 146 141  88 172  66]\n",
            " [  0   0   0   0   0   0   0   0   0   1   1   1   0 200 232 232 233 229 223 223 215 213 164 127 123 196 229   0]\n",
            " [  0   0   0   0   0   0   0   0   0   0   0   0   0 183 225 216 223 228 235 227 224 222 224 221 223 245 173   0]\n",
            " [  0   0   0   0   0   0   0   0   0   0   0   0   0 193 228 218 213 198 180 212 210 211 213 223 220 243 202   0]\n",
            " [  0   0   0   0   0   0   0   0   0   1   3   0  12 219 220 212 218 192 169 227 208 218 224 212 226 197 209  52]\n",
            " [  0   0   0   0   0   0   0   0   0   0   6   0  99 244 222 220 218 203 198 221 215 213 222 220 245 119 167  56]\n",
            " [  0   0   0   0   0   0   0   0   0   4   0   0  55 236 228 230 228 240 232 213 218 223 234 217 217 209  92   0]\n",
            " [  0   0   1   4   6   7   2   0   0   0   0   0 237 226 217 223 222 219 222 221 216 223 229 215 218 255  77   0]\n",
            " [  0   3   0   0   0   0   0   0   0  62 145 204 228 207 213 221 218 208 211 218 224 223 219 215 224 244 159   0]\n",
            " [  0   0   0   0  18  44  82 107 189 228 220 222 217 226 200 205 211 230 224 234 176 188 250 248 233 238 215   0]\n",
            " [  0  57 187 208 224 221 224 208 204 214 208 209 200 159 245 193 206 223 255 255 221 234 221 211 220 232 246   0]\n",
            " [  3 202 228 224 221 211 211 214 205 205 205 220 240  80 150 255 229 221 188 154 191 210 204 209 222 228 225   0]\n",
            " [ 98 233 198 210 222 229 229 234 249 220 194 215 217 241  65  73 106 117 168 219 221 215 217 223 223 224 229  29]\n",
            " [ 75 204 212 204 193 205 211 225 216 185 197 206 198 213 240 195 227 245 239 223 218 212 209 222 220 221 230  67]\n",
            " [ 48 203 183 194 213 197 185 190 194 192 202 214 219 221 220 236 225 216 199 206 186 181 177 172 181 205 206 115]\n",
            " [  0 122 219 193 179 171 183 196 204 210 213 207 211 210 200 196 194 191 195 191 198 192 176 156 167 177 210  92]\n",
            " [  0   0  74 189 212 191 175 172 175 181 185 188 189 188 193 198 204 209 210 210 211 188 188 194 192 216 170   0]\n",
            " [  2   0   0   0  66 200 222 237 239 242 246 243 244 221 220 193 191 179 182 182 181 176 166 168  99  58   0   0]\n",
            " [  0   0   0   0   0   0   0  40  61  44  72  41  35   0   0   0   0   0   0   0   0   0   0   0   0   0   0   0]\n",
            " [  0   0   0   0   0   0   0   0   0   0   0   0   0   0   0   0   0   0   0   0   0   0   0   0   0   0   0   0]\n",
            " [  0   0   0   0   0   0   0   0   0   0   0   0   0   0   0   0   0   0   0   0   0   0   0   0   0   0   0   0]]\n"
          ]
        },
        {
          "output_type": "display_data",
          "data": {
            "image/png": "[encoded data removed]",
            "text/plain": [
              "<Figure size 432x288 with 1 Axes>"
            ]
          },
          "metadata": {
            "needs_background": "light"
          }
        }
      ]
    },
    {
      "cell_type": "markdown",
      "source": [
        "You see the numbers of the picture are between 0 and 255. It is easier for the NN to work with the data between 0 and 1. This is why we will transform the data. This process is called: normalizing. "
      ],
      "metadata": {
        "id": "yYMA0cdgcLCe"
      }
    },
    {
      "cell_type": "code",
      "source": [
        "#Normalize Data\n",
        "training_images = training_images/255.0\n",
        "test_images = test_images/255.0"
      ],
      "metadata": {
        "id": "Y9yMVIANb_Rs"
      },
      "execution_count": null,
      "outputs": []
    },
    {
      "cell_type": "code",
      "source": [
        "#Design model\n",
        "model = tf.keras.models.Sequential([tf.keras.layers.Flatten(),\n",
        "                                    tf.keras.layers.Dense(128, activation=tf.nn.relu),\n",
        "                                    tf.keras.layers.Dense(10, activation=tf.nn.softmax)])"
      ],
      "metadata": {
        "id": "jnUkWCuHeJB9"
      },
      "execution_count": null,
      "outputs": []
    },
    {
      "cell_type": "code",
      "source": [
        "#Build model\n",
        "model.compile(optimizer = tf.optimizers.Adam(),\n",
        "              loss = \"sparse_categorical_crossentropy\",\n",
        "              metrics=['accuracy'])\n",
        "\n",
        "model.fit(training_images, training_labels, epochs=5)\n"
      ],
      "metadata": {
        "colab": {
          "base_uri": "https://localhost:8080/"
        },
        "id": "_YC184w-e4uZ",
        "outputId": "3e7cd003-eae1-4f95-e813-3af038f700ad"
      },
      "execution_count": null,
      "outputs": [
        {
          "output_type": "stream",
          "name": "stdout",
          "text": [
            "Epoch 1/5\n",
            "1875/1875 [==============================] - 6s 3ms/step - loss: 0.4958 - accuracy: 0.8267\n",
            "Epoch 2/5\n",
            "1875/1875 [==============================] - 5s 3ms/step - loss: 0.3745 - accuracy: 0.8647\n",
            "Epoch 3/5\n",
            "1875/1875 [==============================] - 5s 3ms/step - loss: 0.3357 - accuracy: 0.8776\n",
            "Epoch 4/5\n",
            "1875/1875 [==============================] - 5s 2ms/step - loss: 0.3119 - accuracy: 0.8872\n",
            "Epoch 5/5\n",
            "1875/1875 [==============================] - 5s 2ms/step - loss: 0.2945 - accuracy: 0.8902\n"
          ]
        },
        {
          "output_type": "execute_result",
          "data": {
            "text/plain": [
              "<keras.callbacks.History at 0x7f06ba816b50>"
            ]
          },
          "metadata": {},
          "execution_count": 22
        }
      ]
    },
    {
      "cell_type": "code",
      "source": [
        "#Test model\n",
        "model.evaluate(test_images, test_labels)"
      ],
      "metadata": {
        "colab": {
          "base_uri": "https://localhost:8080/"
        },
        "id": "mMAuXUZGfsiv",
        "outputId": "80ed66e6-a920-422a-dd3f-5671360284a6"
      },
      "execution_count": null,
      "outputs": [
        {
          "output_type": "stream",
          "name": "stdout",
          "text": [
            "313/313 [==============================] - 1s 2ms/step - loss: 0.3640 - accuracy: 0.8720\n"
          ]
        },
        {
          "output_type": "execute_result",
          "data": {
            "text/plain": [
              "[0.36398816108703613, 0.871999979019165]"
            ]
          },
          "metadata": {},
          "execution_count": 23
        }
      ]
    },
    {
      "cell_type": "markdown",
      "source": [
        "# Exercise 1"
      ],
      "metadata": {
        "id": "y2Z4OmJUglyP"
      }
    },
    {
      "cell_type": "code",
      "source": [
        "classifications = model.predict(test_images)\n",
        "classifications[0]"
      ],
      "metadata": {
        "colab": {
          "base_uri": "https://localhost:8080/"
        },
        "id": "8uSSwEyEgs7k",
        "outputId": "0f98aa3c-1a5f-413c-e1ca-89a9cfced871"
      },
      "execution_count": null,
      "outputs": [
        {
          "output_type": "execute_result",
          "data": {
            "text/plain": [
              "array([2.8677491e-06, 1.2094906e-08, 3.3795610e-07, 1.5494072e-08, 1.5247439e-07, 2.1072654e-03, 1.1683110e-06, 1.2755827e-02, 5.9507170e-06, 9.8512638e-01], dtype=float32)"
            ]
          },
          "metadata": {},
          "execution_count": 26
        }
      ]
    },
    {
      "cell_type": "code",
      "source": [
        "print(test_labels[0])"
      ],
      "metadata": {
        "colab": {
          "base_uri": "https://localhost:8080/"
        },
        "id": "wsiNqLn5hXb1",
        "outputId": "abd73ffd-c407-48f4-a019-dcb08b420c98"
      },
      "execution_count": null,
      "outputs": [
        {
          "output_type": "stream",
          "name": "stdout",
          "text": [
            "9\n"
          ]
        }
      ]
    },
    {
      "cell_type": "markdown",
      "source": [
        "What does this list represent?\n",
        "\n",
        "The numbers in the array represents the probability of each class in the NN. The higher the probability the higher is the certainty of the NN that the test image is matching with the trained image class. In this case the image label is 9 and the highest probability (98,51%) is on the image class number 9. So we can say, it is correct classifed. "
      ],
      "metadata": {
        "id": "canqzUBDiar5"
      }
    },
    {
      "cell_type": "markdown",
      "source": [
        "How do you know that this list tells you that the item is an ankle boot?"
      ],
      "metadata": {
        "id": "dj1SxnRVl3C3"
      }
    },
    {
      "cell_type": "code",
      "source": [
        "np.set_printoptions(linewidth=200)\n",
        "plt.imshow(test_images[0])\n",
        "print(test_labels[0])\n",
        "print(test_images[0])"
      ],
      "metadata": {
        "colab": {
          "base_uri": "https://localhost:8080/",
          "height": 1000
        },
        "id": "jBkC-F2RmZbi",
        "outputId": "cdfc1205-6a3d-42ee-9919-2c17a53caef5"
      },
      "execution_count": null,
      "outputs": [
        {
          "output_type": "stream",
          "name": "stdout",
          "text": [
            "9\n",
            "[[0.         0.         0.         0.         0.         0.         0.         0.         0.         0.         0.         0.         0.         0.         0.         0.         0.\n",
            "  0.         0.         0.         0.         0.         0.         0.         0.         0.         0.         0.        ]\n",
            " [0.         0.         0.         0.         0.         0.         0.         0.         0.         0.         0.         0.         0.         0.         0.         0.         0.\n",
            "  0.         0.         0.         0.         0.         0.         0.         0.         0.         0.         0.        ]\n",
            " [0.         0.         0.         0.         0.         0.         0.         0.         0.         0.         0.         0.         0.         0.         0.         0.         0.\n",
            "  0.         0.         0.         0.         0.         0.         0.         0.         0.         0.         0.        ]\n",
            " [0.         0.         0.         0.         0.         0.         0.         0.         0.         0.         0.         0.         0.         0.         0.         0.         0.\n",
            "  0.         0.         0.         0.         0.         0.         0.         0.         0.         0.         0.        ]\n",
            " [0.         0.         0.         0.         0.         0.         0.         0.         0.         0.         0.         0.         0.         0.         0.         0.         0.\n",
            "  0.         0.         0.         0.         0.         0.         0.         0.         0.         0.         0.        ]\n",
            " [0.         0.         0.         0.         0.         0.         0.         0.         0.         0.         0.         0.         0.         0.         0.         0.         0.\n",
            "  0.         0.         0.         0.         0.         0.         0.         0.         0.         0.         0.        ]\n",
            " [0.         0.         0.         0.         0.         0.         0.         0.         0.         0.         0.         0.         0.         0.         0.         0.         0.\n",
            "  0.         0.         0.         0.         0.         0.         0.         0.         0.         0.         0.        ]\n",
            " [0.         0.         0.         0.         0.         0.         0.         0.         0.         0.         0.         0.         0.         0.         0.         0.         0.\n",
            "  0.         0.         0.01176471 0.00392157 0.         0.         0.02745098 0.         0.14509804 0.         0.        ]\n",
            " [0.         0.         0.         0.         0.         0.         0.         0.         0.         0.         0.         0.         0.         0.00392157 0.00784314 0.         0.10588235\n",
            "  0.32941176 0.04313725 0.         0.         0.         0.         0.         0.         0.46666667 0.         0.        ]\n",
            " [0.         0.         0.         0.         0.         0.         0.         0.         0.         0.         0.         0.         0.         0.00392157 0.         0.         0.34509804\n",
            "  0.56078431 0.43137255 0.         0.         0.         0.         0.08627451 0.36470588 0.41568627 0.         0.        ]\n",
            " [0.         0.         0.         0.         0.         0.         0.         0.         0.         0.         0.         0.         0.         0.01568627 0.         0.20784314 0.50588235\n",
            "  0.47058824 0.57647059 0.68627451 0.61568627 0.65098039 0.52941176 0.60392157 0.65882353 0.54901961 0.         0.        ]\n",
            " [0.         0.         0.         0.         0.         0.         0.         0.         0.         0.         0.         0.         0.00784314 0.         0.04313725 0.5372549  0.50980392\n",
            "  0.50196078 0.62745098 0.69019608 0.62352941 0.65490196 0.69803922 0.58431373 0.59215686 0.56470588 0.         0.        ]\n",
            " [0.         0.         0.         0.         0.         0.         0.00392157 0.         0.00784314 0.00392157 0.         0.01176471 0.         0.         0.45098039 0.44705882 0.41568627\n",
            "  0.5372549  0.65882353 0.6        0.61176471 0.64705882 0.65490196 0.56078431 0.61568627 0.61960784 0.04313725 0.        ]\n",
            " [0.         0.         0.         0.         0.00392157 0.         0.         0.         0.         0.         0.01176471 0.         0.         0.34901961 0.54509804 0.35294118 0.36862745\n",
            "  0.6        0.58431373 0.51372549 0.59215686 0.6627451  0.6745098  0.56078431 0.62352941 0.6627451  0.18823529 0.        ]\n",
            " [0.         0.         0.         0.         0.         0.         0.00784314 0.01568627 0.00392157 0.         0.         0.         0.38431373 0.53333333 0.43137255 0.42745098 0.43137255\n",
            "  0.63529412 0.52941176 0.56470588 0.58431373 0.62352941 0.65490196 0.56470588 0.61960784 0.6627451  0.46666667 0.        ]\n",
            " [0.         0.         0.00784314 0.00784314 0.00392157 0.00784314 0.         0.         0.         0.         0.10196078 0.42352941 0.45882353 0.38823529 0.43529412 0.45882353 0.53333333\n",
            "  0.61176471 0.5254902  0.60392157 0.60392157 0.61176471 0.62745098 0.55294118 0.57647059 0.61176471 0.69803922 0.        ]\n",
            " [0.01176471 0.         0.         0.         0.         0.         0.         0.08235294 0.20784314 0.36078431 0.45882353 0.43529412 0.40392157 0.45098039 0.50588235 0.5254902  0.56078431\n",
            "  0.60392157 0.64705882 0.66666667 0.60392157 0.59215686 0.60392157 0.56078431 0.54117647 0.58823529 0.64705882 0.16862745]\n",
            " [0.         0.         0.09019608 0.21176471 0.25490196 0.29803922 0.33333333 0.4627451  0.50196078 0.48235294 0.43529412 0.44313725 0.4627451  0.49803922 0.49019608 0.54509804 0.52156863\n",
            "  0.53333333 0.62745098 0.54901961 0.60784314 0.63137255 0.56470588 0.60784314 0.6745098  0.63137255 0.74117647 0.24313725]\n",
            " [0.         0.26666667 0.36862745 0.35294118 0.43529412 0.44705882 0.43529412 0.44705882 0.45098039 0.49803922 0.52941176 0.53333333 0.56078431 0.49411765 0.49803922 0.59215686 0.60392157\n",
            "  0.56078431 0.58039216 0.49019608 0.63529412 0.63529412 0.56470588 0.54117647 0.6        0.63529412 0.76862745 0.22745098]\n",
            " [0.2745098  0.6627451  0.50588235 0.40784314 0.38431373 0.39215686 0.36862745 0.38039216 0.38431373 0.4        0.42352941 0.41568627 0.46666667 0.47058824 0.50588235 0.58431373 0.61176471\n",
            "  0.65490196 0.74509804 0.74509804 0.76862745 0.77647059 0.77647059 0.73333333 0.77254902 0.74117647 0.72156863 0.14117647]\n",
            " [0.0627451  0.49411765 0.67058824 0.7372549  0.7372549  0.72156863 0.67058824 0.6        0.52941176 0.47058824 0.49411765 0.49803922 0.57254902 0.7254902  0.76470588 0.81960784 0.81568627\n",
            "  1.         0.81960784 0.69411765 0.96078431 0.98823529 0.98431373 0.98431373 0.96862745 0.8627451  0.80784314 0.19215686]\n",
            " [0.         0.         0.         0.04705882 0.2627451  0.41568627 0.64313725 0.7254902  0.78039216 0.82352941 0.82745098 0.82352941 0.81568627 0.74509804 0.58823529 0.32156863 0.03137255\n",
            "  0.         0.         0.         0.69803922 0.81568627 0.7372549  0.68627451 0.63529412 0.61960784 0.59215686 0.04313725]\n",
            " [0.         0.         0.         0.         0.         0.         0.         0.         0.         0.         0.         0.         0.         0.         0.         0.         0.\n",
            "  0.         0.         0.         0.         0.         0.         0.         0.         0.         0.         0.        ]\n",
            " [0.         0.         0.         0.         0.         0.         0.         0.         0.         0.         0.         0.         0.         0.         0.         0.         0.\n",
            "  0.         0.         0.         0.         0.         0.         0.         0.         0.         0.         0.        ]\n",
            " [0.         0.         0.         0.         0.         0.         0.         0.         0.         0.         0.         0.         0.         0.         0.         0.         0.\n",
            "  0.         0.         0.         0.         0.         0.         0.         0.         0.         0.         0.        ]\n",
            " [0.         0.         0.         0.         0.         0.         0.         0.         0.         0.         0.         0.         0.         0.         0.         0.         0.\n",
            "  0.         0.         0.         0.         0.         0.         0.         0.         0.         0.         0.        ]\n",
            " [0.         0.         0.         0.         0.         0.         0.         0.         0.         0.         0.         0.         0.         0.         0.         0.         0.\n",
            "  0.         0.         0.         0.         0.         0.         0.         0.         0.         0.         0.        ]\n",
            " [0.         0.         0.         0.         0.         0.         0.         0.         0.         0.         0.         0.         0.         0.         0.         0.         0.\n",
            "  0.         0.         0.         0.         0.         0.         0.         0.         0.         0.         0.        ]]\n"
          ]
        },
        {
          "output_type": "display_data",
          "data": {
            "image/png": "[encoded data removed]",
            "text/plain": [
              "<Figure size 432x288 with 1 Axes>"
            ]
          },
          "metadata": {
            "needs_background": "light"
          }
        }
      ]
    },
    {
      "cell_type": "markdown",
      "source": [
        "# Exercise 2"
      ],
      "metadata": {
        "id": "1IfyigCznYmZ"
      }
    },
    {
      "cell_type": "markdown",
      "source": [
        "Let's now look at the layers in your model. Experiment with different values for the dense layer with 512 neurons. What different results do you get for loss, training time etc? Why do you think that's the case?"
      ],
      "metadata": {
        "id": "5SOmlC3GnalT"
      }
    },
    {
      "cell_type": "code",
      "source": [
        ""
      ],
      "metadata": {
        "id": "cmc__7alnCCL"
      },
      "execution_count": null,
      "outputs": []
    }
  ]
}